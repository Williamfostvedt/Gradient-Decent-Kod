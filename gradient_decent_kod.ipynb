{
  "nbformat": 4,
  "nbformat_minor": 0,
  "metadata": {
    "colab": {
      "provenance": [],
      "name": "gradient decent kod.ipynb"
    },
    "kernelspec": {
      "name": "python3",
      "display_name": "Python 3"
    },
    "language_info": {
      "name": "python"
    }
  },
  "cells": [
    {
      "cell_type": "markdown",
      "source": [
        "Skript för att skapa listor från csv"
      ],
      "metadata": {
        "id": "bUqMPnpxaBWt"
      }
    },
    {
      "cell_type": "code",
      "execution_count": null,
      "metadata": {
        "colab": {
          "base_uri": "https://localhost:8080/",
          "height": 246
        },
        "id": "7EtXm49_ZFrR",
        "outputId": "2e9c9ca4-a4fe-47aa-c9ed-468002c1d0f0",
        "collapsed": true
      },
      "outputs": [
        {
          "output_type": "error",
          "ename": "FileNotFoundError",
          "evalue": "ignored",
          "traceback": [
            "\u001b[0;31m---------------------------------------------------------------------------\u001b[0m",
            "\u001b[0;31mFileNotFoundError\u001b[0m                         Traceback (most recent call last)",
            "\u001b[0;32m<ipython-input-1-48e5e5b88ee0>\u001b[0m in \u001b[0;36m<module>\u001b[0;34m\u001b[0m\n\u001b[1;32m      7\u001b[0m \u001b[0mp\u001b[0m \u001b[0;34m=\u001b[0m \u001b[0;34m[\u001b[0m\u001b[0;34m]\u001b[0m \u001b[0;31m#perceptronvärden\u001b[0m\u001b[0;34m\u001b[0m\u001b[0;34m\u001b[0m\u001b[0m\n\u001b[1;32m      8\u001b[0m \u001b[0;34m\u001b[0m\u001b[0m\n\u001b[0;32m----> 9\u001b[0;31m \u001b[0;32mwith\u001b[0m \u001b[0mopen\u001b[0m\u001b[0;34m(\u001b[0m\u001b[0mpath\u001b[0m\u001b[0;34m,\u001b[0m \u001b[0;34m\"r\"\u001b[0m\u001b[0;34m)\u001b[0m \u001b[0;32mas\u001b[0m \u001b[0mf\u001b[0m\u001b[0;34m:\u001b[0m\u001b[0;34m\u001b[0m\u001b[0;34m\u001b[0m\u001b[0m\n\u001b[0m\u001b[1;32m     10\u001b[0m   \u001b[0;32mfor\u001b[0m \u001b[0mline\u001b[0m \u001b[0;32min\u001b[0m \u001b[0mf\u001b[0m\u001b[0;34m:\u001b[0m\u001b[0;34m\u001b[0m\u001b[0;34m\u001b[0m\u001b[0m\n\u001b[1;32m     11\u001b[0m     \u001b[0mxy\u001b[0m \u001b[0;34m=\u001b[0m \u001b[0mline\u001b[0m\u001b[0;34m.\u001b[0m\u001b[0msplit\u001b[0m\u001b[0;34m(\u001b[0m\u001b[0;34m\",\"\u001b[0m\u001b[0;34m)\u001b[0m\u001b[0;34m\u001b[0m\u001b[0;34m\u001b[0m\u001b[0m\n",
            "\u001b[0;31mFileNotFoundError\u001b[0m: [Errno 2] No such file or directory: '/content/GA data - Blad1 (1).csv'"
          ]
        }
      ],
      "source": [
        "\n",
        "import pandas as pd\n",
        "from matplotlib import pyplot as pl\n",
        "path = \"/content/GA data - Blad1 (1).csv\"\n",
        "\n",
        "eti = []\n",
        "p = [] #perceptronvärden\n",
        "\n",
        "with open(path, \"r\") as f:\n",
        "  for line in f:\n",
        "    xy = line.split(\",\")\n",
        "    #eti.append(xy[16].replace(\"\\n\",\"\"))\n",
        "    if xy[12] == \"1\\n\" or xy[13] == \"0\\n\":\n",
        "      eti.append(xy[13].replace(\"\\n\",\"\"))\n",
        "      #print(xy[12], xy[13])\n",
        "\n",
        "etitemp = []\n",
        "for i in eti:\n",
        "  etitemp.append(int(i))\n",
        "eti = etitemp\n",
        "\n",
        "with open(path, \"r\") as f:\n",
        "  for line in f:\n",
        "    xy = line.split(\",\")\n",
        "    if xy[15] != \"\":\n",
        "      p.append(xy[15].replace(\"\\n\", \"\").replace(\" \", \"\"))\n",
        "\n",
        "ptemp2 = []\n",
        "ptemp3 = []\n",
        "\n",
        "for i in p:\n",
        "  for g in range(5):\n",
        "    ptemp3.append(int(i[g]))\n",
        "  ptemp2.append(ptemp3)\n",
        "  ptemp3 = []\n",
        "\n",
        "p = ptemp2\n",
        "\n",
        "#ptemp = []\n",
        "#for i in p:\n",
        "#  ptemp.append(int(i))\n",
        "#p = ptemp\n",
        "\n",
        "print(p)\n",
        "print(eti)"
      ]
    },
    {
      "cell_type": "markdown",
      "source": [
        "\n",
        "Kod för gradiant decent på tottenham"
      ],
      "metadata": {
        "id": "8iujFIrouIYS"
      }
    },
    {
      "cell_type": "code",
      "source": [
        "#@title\n",
        "#träningsdata\n",
        "perceptronlista = [[0, 1, 1, 1, 1], [0, 1, 1, 1, 0], [1, 1, 0, 1, 1], [0, 0, 1, 0, 1], [1, 0, 0, 0, 0], [1, 1, 0, 1, 1], [0, 0, 1, 1, 0], [1, 1, 1, 1, 1], [1, 0, 1, 1, 0], [1, 1, 1, 0, 1], [1, 1, 0, 0, 0], [0, 1, 1, 0, 1], [1, 0, 0, 1, 0], [0, 0, 1, 0, 0], [0, 1, 1, 1, 1], [0, 1, 1, 1, 0], [1, 0, 1, 1, 0], [0, 0, 0, 1, 1], [1, 1, 0, 1, 1], [1, 1, 1, 1, 1], [0, 0, 0, 1, 0], [1, 1, 1, 1, 0], [1, 0, 1, 0, 1], [0, 1, 1, 1, 0], [0, 0, 0, 0, 1], [0, 1, 1, 1, 1], [1, 0, 1, 1, 0], [0, 1, 0, 0, 0], [0, 0, 0, 1, 0], [0, 1, 1, 1, 1], [1, 0, 1, 1, 0], [1, 0, 1, 1, 1], [1, 1, 1, 0, 0], [0, 1, 1, 1, 0], [1, 0, 1, 1, 0], [0, 1, 0, 0, 1], [0, 0, 1, 1, 0], [0, 1, 1, 1, 1], [1, 0, 0, 0, 0], [0, 1, 0, 1, 1], [1, 1, 1, 1, 0], [0, 0, 0, 1, 1], [1, 1, 1, 1, 1], [0, 0, 1, 1, 0], [1, 0, 1, 0, 1], [1, 1, 1, 1, 0], [1, 0, 0, 1, 1], [1, 1, 1, 1, 0], [0, 0, 0, 0, 1], [0, 1, 1, 1, 0], [1, 0, 0, 0, 0], [0, 0, 0, 1, 1], [1, 0, 1, 1, 0], [1, 0, 0, 1, 0], [0, 1, 1, 1, 0], [1, 0, 1, 0, 1], [0, 0, 1, 1, 0], [0, 0, 1, 1, 1], [1, 1, 0, 1, 1], [1, 0, 1, 1, 1], [1, 0, 0, 0, 1], [0, 0, 1, 1, 1], [1, 0, 1, 1, 1], [1, 1, 0, 1, 0], [0, 1, 1, 1, 0], [1, 0, 1, 0, 0], [0, 0, 0, 0, 1], [0, 1, 0, 1, 0], [1, 0, 1, 0, 0], [0, 0, 1, 1, 1], [1, 0, 1, 1, 1], [0, 1, 1, 1, 1], [0, 1, 0, 0, 0], [1, 1, 0, 1, 0], [0, 1, 1, 1, 0], [1, 1, 0, 1, 0], [0, 0, 1, 1, 1], [1, 0, 1, 0, 0], [0, 1, 1, 1, 0], [1, 1, 0, 1, 1], [1, 1, 1, 1, 1], [1, 1, 1, 1, 0], [1, 1, 0, 1, 1], [0, 1, 0, 1, 0], [0, 1, 1, 1, 1], [1, 0, 0, 0, 0], [0, 0, 0, 0, 1], [1, 0, 1, 1, 1], [1, 1, 1, 1, 0]]\n",
        "etikettlista = [0, 1, 0, 1, 1, 0, 1, 1, 1, 1, 0, 1, 0, 0, 0, 1, 0, 1, 1, 0, 1, 1, 0, 0, 0, 1, 0, 0, 0, 1, 1, 1, 0, 1, 0, 0, 0, 1, 0, 1, 0, 1, 0, 1, 1, 1, 1, 0, 0, 1, 0, 1, 1, 0, 1, 0, 0, 1, 1, 1, 0, 1, 1, 0, 1, 0, 0, 1, 0, 1, 0, 0, 1, 0, 1, 0, 1, 0, 1, 1, 1, 1, 0, 0, 1, 0, 1, 1, 1]\n",
        "\n",
        "#utvärderingsdata\n",
        "perceptronlista2 = [[1, 0, 1, 1, 1], [1, 0, 0, 0, 0], [0, 0, 1, 1, 1], [1, 1, 1, 1, 0], [1, 1, 0, 1, 0], [0, 1, 0, 1, 1], [1, 1, 1, 1, 1], [1, 1, 0, 0, 0], [0, 0, 1, 1, 0], [1, 1, 1, 1, 1], [1, 0, 1, 0, 0], [0, 1, 0, 1, 1], [0, 0, 1, 1, 0], [1, 0, 1, 0, 1], [0, 1, 1, 1, 0], [0, 1, 1, 1, 1], [1, 0, 0, 1, 0], [0, 1, 1, 1, 1], [0, 1, 0, 1, 0], [1, 0, 1, 1, 1], [1, 0, 0, 0, 1], [0, 1, 1, 0, 0], [0, 1, 1, 1, 0], [1, 1, 1, 1, 0]]\n",
        "etikettlista2 = [1, 0, 1, 1, 0, 1, 1, 0, 1, 1, 0, 0, 1, 0, 0, 1, 0, 0, 1, 1, 0, 0, 1, 1]\n",
        "\n",
        "import matplotlib.pyplot as plt\n",
        "import numpy as np\n",
        "def sigma(x):\n",
        "    return 1 / (1 + np.exp(-x))\n",
        "\n",
        "X = np.array(perceptronlista)\n",
        "Y = np.array(etikettlista)\n",
        "Xn = np.array(perceptronlista2)\n",
        "Yn = np.array(etikettlista2)\n",
        "\n",
        "\n",
        "w_0 = 1\n",
        "w_1 = 1\n",
        "w_2 = 1\n",
        "w_3 = 1\n",
        "w_4 = 1\n",
        "b = 0\n",
        "alpha = 0.1\n",
        "epochs = 10000\n",
        "e = 0\n",
        "genfel = []\n",
        "genfelu = []\n",
        "\n",
        "while e < epochs:\n",
        "    dw_0 = 0\n",
        "    dw_1 = 0\n",
        "    dw_2 = 0\n",
        "    dw_3 = 0\n",
        "    dw_4 = 0\n",
        "    db = 0\n",
        "    n = 0\n",
        "    while n < len(perceptronlista):\n",
        "        x = X[n]\n",
        "        x_0 = x[0]\n",
        "        x_1 = x[1]\n",
        "        x_2 = x[2]\n",
        "        x_3 = x[3]\n",
        "        x_4 = x[4]\n",
        "        y = Y[n]\n",
        "        y_hat = sigma(w_4 * x_4 + w_3 * x_3 + w_2 * x_2 + w_0 * x_0 + w_1 * x_1 + b)\n",
        "        dw_0 += 2 * (y_hat - y) * y_hat * (1 - y_hat) * x_0 / len(perceptronlista)\n",
        "        dw_1 += 2 * (y_hat - y) * y_hat * (1 - y_hat) * x_1 / len(perceptronlista)\n",
        "        dw_2 += 2 * (y_hat - y) * y_hat * (1 - y_hat) * x_2 / len(perceptronlista)\n",
        "        dw_3 += 2 * (y_hat - y) * y_hat * (1 - y_hat) * x_3 / len(perceptronlista)\n",
        "        dw_4 += 2 * (y_hat - y) * y_hat * (1 - y_hat) * x_4 / len(perceptronlista)\n",
        "        db += 2 * (y_hat - y) * y_hat * (1 - y_hat) / len(perceptronlista)\n",
        "        n += 1\n",
        "    w_0 -= alpha * dw_0\n",
        "    w_1 -= alpha * dw_1\n",
        "    w_2 -= alpha * dw_2\n",
        "    w_3 -= alpha * dw_3\n",
        "    w_4 -= alpha * dw_4\n",
        "    b -= alpha * db\n",
        "    n = 0\n",
        "    temp1 = 0\n",
        "      \n",
        "    nu = 0\n",
        "    temp1u = 0\n",
        "    y_hatn = 0\n",
        "    yn = 0\n",
        "\n",
        "    while n < len(perceptronlista):\n",
        "      x = X[n]\n",
        "      x_0 = x[0]\n",
        "      x_1 = x[1]\n",
        "      x_2 = x[2]\n",
        "      x_3 = x[3]\n",
        "      x_4 = x[4]\n",
        "      y = Y[n]\n",
        "      y_hat = sigma(w_4 * x_4 + w_3 * x_3 + w_2 * x_2 + w_0 * x_0 + w_1 * x_1 + b)\n",
        "      #print(x, y, y_hat, sep=\"\\t\")\n",
        "      temp1 += (y_hat - y) ** 2\n",
        "      n += 1\n",
        "    #print(temp1/len(perceptronlista)) #genomsnittliga kvadrerade felet\n",
        "    genfel.append(temp1/len(perceptronlista))\n",
        "\n",
        "   \n",
        "     #UTVÄRDERINGSGREJ\n",
        "    while nu < (len(perceptronlista2)):\n",
        "      \n",
        "      \n",
        "      \n",
        "      xn = Xn[nu]\n",
        "      ux_0 = xn[0]\n",
        "      ux_1 = xn[1]\n",
        "      ux_2 = xn[2]\n",
        "      ux_3 = xn[3]\n",
        "      ux_4 = xn[4]\n",
        "      yn = Yn[nu]\n",
        "      y_hatn = sigma(w_4 * ux_4 + w_3 * ux_3 + w_2 * ux_2 + w_1 * ux_1 + w_0 * ux_0 + b)\n",
        "      temp1u += (y_hatn - yn) ** 2\n",
        "      #print(y_hatn, yn)\n",
        "      nu += 1\n",
        "\n",
        "    genfelu.append(temp1u/len(etikettlista2))\n",
        "\n",
        "    #print(genfelu)\n",
        "\n",
        "#UTVÄRDERINGSGREJ SLUT\n",
        "\n",
        "\n",
        "\n",
        "    e += 1\n",
        "print(temp1/len(perceptronlista))\n",
        "print(temp1u/len(perceptronlista2))\n",
        "print(genfelu[-1])\n",
        "\n",
        "print()\n",
        "print(\"w_0 =\", w_0)\n",
        "print(\"w_1 =\", w_1)\n",
        "print(\"w_2 =\", w_2)\n",
        "print(\"w_3 =\", w_3)\n",
        "print(\"w_4 =\", w_4)\n",
        "print(\"b =\", b)\n",
        "#print(genfel)\n",
        "\n",
        "plt.plot(genfel)\n",
        "plt.plot(genfelu)\n",
        "plt.ylabel(\"Genomsnittligt kvadrerat fel\")\n",
        "plt.xlabel(\"Epoker\")\n",
        "plt.show()\n",
        "\n",
        "\n",
        "\n"
      ],
      "metadata": {
        "id": "qZf2ynISgSuy",
        "colab": {
          "base_uri": "https://localhost:8080/",
          "height": 623
        },
        "outputId": "a6293a7d-287e-4d46-cad7-a5ec79085ada"
      },
      "execution_count": 2,
      "outputs": [
        {
          "output_type": "stream",
          "name": "stdout",
          "text": [
            "0.1944975162476712\n",
            "0.15293436475272246\n",
            "0.15293436475272246\n",
            "\n",
            "w_0 = -1.1500436254630682\n",
            "w_1 = 0.23972384980233175\n",
            "w_2 = 1.2396464763156134\n",
            "w_3 = 1.6345711621759706\n",
            "w_4 = 1.2406670594067635\n",
            "b = -1.830329830566622\n"
          ]
        },
        {
          "output_type": "display_data",
          "data": {
            "text/plain": [
              "<Figure size 640x480 with 1 Axes>"
            ],
            "image/png": "[encoded data removed]"
          },
          "metadata": {}
        }
      ]
    },
    {
      "cell_type": "markdown",
      "source": [
        "Räknar ut hur många av våra gissningar som är korrekta"
      ],
      "metadata": {
        "id": "5j37ZhnokgHj"
      }
    },
    {
      "cell_type": "code",
      "source": [
        "\n",
        "Uperceptroner = [[1, 0, 1, 1, 1], [1, 0, 0, 0, 0], [0, 0, 1, 1, 1], [1, 1, 1, 1, 0], [1, 1, 0, 1, 0], [0, 1, 0, 1, 1], [1, 1, 1, 1, 1], [1, 1, 0, 0, 0], [0, 0, 1, 1, 0], [1, 1, 1, 1, 1], [1, 0, 1, 0, 0], [0, 1, 0, 1, 1], [0, 0, 1, 1, 0], [1, 0, 1, 0, 1], [0, 1, 1, 1, 0], [0, 1, 1, 1, 1], [1, 0, 0, 1, 0], [0, 1, 1, 1, 1], [0, 1, 0, 1, 0], [1, 0, 1, 1, 1], [1, 0, 0, 0, 1], [0, 1, 1, 0, 0], [0, 1, 1, 1, 0], [1, 1, 1, 1, 0]]\n",
        "Uetiketter = [1, 0, 1, 1, 0, 1, 1, 0, 1, 1, 0, 0, 1, 0, 0, 1, 0, 0, 1, 1, 0, 0, 1, 1]\n",
        "def sigma(x):\n",
        "    return 1 / (1 + np.exp(-x))\n",
        "\n",
        "uw_0 = -1.1199366652137117\n",
        "uw_1 = 0.20447873244092243\n",
        "uw_2 = 1.1422341438498427\n",
        "uw_3 = 1.5230958140947282\n",
        "uw_4 = 1.123308409290359\n",
        "ub = -1.6357563209063564\n",
        "uX = np.array(Uperceptroner)\n",
        "uY = np.array(Uetiketter)\n",
        "un = 0\n",
        "utemp1 = 0\n",
        "while un < (len(Uperceptroner)):\n",
        "  ux = uX[un]\n",
        "  ux_0 = ux[0]\n",
        "  ux_1 = ux[1]\n",
        "  ux_2 = ux[2]\n",
        "  ux_3 = ux[3]\n",
        "  ux_4 = ux[4]\n",
        "  uy = uY[un]\n",
        "  uy_hat = sigma(uw_4 * ux_4 + uw_3 * ux_3 + uw_2 * ux_2 + uw_0 * ux_0 + uw_1 * ux_1 + ub)\n",
        " # print(uy_hat, uy)\n",
        "  utemp1 += (uy_hat - uy) ** 2\n",
        "  un += 1\n",
        "print(utemp1/len(Uperceptroner))\n",
        "nu2 = 0\n",
        "vinst = 0\n",
        "förlust = 0\n",
        "g = 0\n",
        "p = 0 \n",
        "s = 0\n",
        "while nu2 < (len(Uetiketter)):\n",
        "  ux = uX[nu2]\n",
        "  ux_0 = ux[0]\n",
        "  ux_1 = ux[1]\n",
        "  ux_2 = ux[2]\n",
        "  ux_3 = ux[3]\n",
        "  ux_4 = ux[4]\n",
        "  uy = uY[nu2]\n",
        "  uy_hat = sigma(uw_4 * ux_4 + uw_3 * ux_3 + uw_2 * ux_2 + uw_0 * ux_0 + uw_1 * ux_1 + ub)\n",
        "  utemp1 += (uy_hat - uy) ** 2    \n",
        "      \n",
        "  nu2 += 1\n",
        "  if np.round(uy_hat) == uy:\n",
        "    p += 1\n",
        "\n",
        "\n",
        "  if uy == 1:\n",
        "    vinst+=1\n",
        "  if np.round(uy_hat) == uy and uy == 1:\n",
        "    s +=1\n",
        "  if uy == 0:\n",
        "    förlust+=1\n",
        "  if np.round(uy_hat) == uy and uy == 0:\n",
        "    g +=1\n",
        "  \n",
        "print(\"antal vinster \",vinst)\n",
        "print(\"antal procent rätta gissningar på vinster\", s/vinst*100)\n",
        "print(\"antal förluster \", förlust)\n",
        "print(\"antal procent rätta gissningar på förlust/lika\",g/förlust*100)\n",
        "print(\"hur många procent av våra prediktioner som är rätt \",p/len(Uetiketter)*100)"
      ],
      "metadata": {
        "id": "SyiIatcPjMwZ",
        "colab": {
          "base_uri": "https://localhost:8080/"
        },
        "outputId": "3e246811-a341-4f87-93d0-f78faf6ecf1f"
      },
      "execution_count": 3,
      "outputs": [
        {
          "output_type": "stream",
          "name": "stdout",
          "text": [
            "0.15464703213085093\n",
            "antal vinster  13\n",
            "antal procent rätta gissningar på vinster 100.0\n",
            "antal förluster  11\n",
            "antal procent rätta gissningar på förlust/lika 72.72727272727273\n",
            "hur många procent av våra prediktioner som är rätt  87.5\n"
          ]
        }
      ]
    },
    {
      "cell_type": "markdown",
      "source": [
        "Tränar ett nätverk i 100 epoker på våra två sista perceptroner"
      ],
      "metadata": {
        "id": "aRTWBGBskaMx"
      }
    },
    {
      "cell_type": "code",
      "source": [
        "#@title\n",
        "#träningsdata\n",
        "perceptronlista = [[0, 1, 1, 1, 1], [0, 1, 1, 1, 0], [1, 1, 0, 1, 1], [0, 0, 1, 0, 1], [1, 0, 0, 0, 0], [1, 1, 0, 1, 1], [0, 0, 1, 1, 0], [1, 1, 1, 1, 1], [1, 0, 1, 1, 0], [1, 1, 1, 0, 1], [1, 1, 0, 0, 0], [0, 1, 1, 0, 1], [1, 0, 0, 1, 0], [0, 0, 1, 0, 0], [0, 1, 1, 1, 1], [0, 1, 1, 1, 0], [1, 0, 1, 1, 0], [0, 0, 0, 1, 1], [1, 1, 0, 1, 1], [1, 1, 1, 1, 1], [0, 0, 0, 1, 0], [1, 1, 1, 1, 0], [1, 0, 1, 0, 1], [0, 1, 1, 1, 0], [0, 0, 0, 0, 1], [0, 1, 1, 1, 1], [1, 0, 1, 1, 0], [0, 1, 0, 0, 0], [0, 0, 0, 1, 0], [0, 1, 1, 1, 1], [1, 0, 1, 1, 0], [1, 0, 1, 1, 1], [1, 1, 1, 0, 0], [0, 1, 1, 1, 0], [1, 0, 1, 1, 0], [0, 1, 0, 0, 1], [0, 0, 1, 1, 0], [0, 1, 1, 1, 1], [1, 0, 0, 0, 0], [0, 1, 0, 1, 1], [1, 1, 1, 1, 0], [0, 0, 0, 1, 1], [1, 1, 1, 1, 1], [0, 0, 1, 1, 0], [1, 0, 1, 0, 1], [1, 1, 1, 1, 0], [1, 0, 0, 1, 1], [1, 1, 1, 1, 0], [0, 0, 0, 0, 1], [0, 1, 1, 1, 0], [1, 0, 0, 0, 0], [0, 0, 0, 1, 1], [1, 0, 1, 1, 0], [1, 0, 0, 1, 0], [0, 1, 1, 1, 0], [1, 0, 1, 0, 1], [0, 0, 1, 1, 0], [0, 0, 1, 1, 1], [1, 1, 0, 1, 1], [1, 0, 1, 1, 1], [1, 0, 0, 0, 1], [0, 0, 1, 1, 1], [1, 0, 1, 1, 1], [1, 1, 0, 1, 0], [0, 1, 1, 1, 0], [1, 0, 1, 0, 0], [0, 0, 0, 0, 1], [0, 1, 0, 1, 0], [1, 0, 1, 0, 0], [0, 0, 1, 1, 1], [1, 0, 1, 1, 1], [0, 1, 1, 1, 1], [0, 1, 0, 0, 0], [1, 1, 0, 1, 0], [0, 1, 1, 1, 0], [1, 1, 0, 1, 0], [0, 0, 1, 1, 1], [1, 0, 1, 0, 0], [0, 1, 1, 1, 0], [1, 1, 0, 1, 1], [1, 1, 1, 1, 1], [1, 1, 1, 1, 0], [1, 1, 0, 1, 1], [0, 1, 0, 1, 0], [0, 1, 1, 1, 1], [1, 0, 0, 0, 0], [0, 0, 0, 0, 1], [1, 0, 1, 1, 1], [1, 1, 1, 1, 0]]\n",
        "etikettlista = [0, 1, 0, 1, 1, 0, 1, 1, 1, 1, 0, 1, 0, 0, 0, 1, 0, 1, 1, 0, 1, 1, 0, 0, 0, 1, 0, 0, 0, 1, 1, 1, 0, 1, 0, 0, 0, 1, 0, 1, 0, 1, 0, 1, 1, 1, 1, 0, 0, 1, 0, 1, 1, 0, 1, 0, 0, 1, 1, 1, 0, 1, 1, 0, 1, 0, 0, 1, 0, 1, 0, 0, 1, 0, 1, 0, 1, 0, 1, 1, 1, 1, 0, 0, 1, 0, 1, 1, 1]\n",
        "\n",
        "#utvärderingsdata\n",
        "perceptronerlista2 = [[1, 0, 1, 1, 1], [1, 0, 0, 0, 0], [0, 0, 1, 1, 1], [1, 1, 1, 1, 0], [1, 1, 0, 1, 0], [0, 1, 0, 1, 1], [1, 1, 1, 1, 1], [1, 1, 0, 0, 0], [0, 0, 1, 1, 0], [1, 1, 1, 1, 1], [1, 0, 1, 0, 0], [0, 1, 0, 1, 1], [0, 0, 1, 1, 0], [1, 0, 1, 0, 1], [0, 1, 1, 1, 0], [0, 1, 1, 1, 1], [1, 0, 0, 1, 0], [0, 1, 1, 1, 1], [0, 1, 0, 1, 0], [1, 0, 1, 1, 1], [1, 0, 0, 0, 1], [0, 1, 1, 0, 0], [0, 1, 1, 1, 0], [1, 1, 1, 1, 0]]\n",
        "etikettlista2 = [1, 0, 1, 1, 0, 1, 1, 0, 1, 1, 0, 0, 1, 0, 0, 1, 0, 0, 1, 1, 0, 0, 1, 1]\n",
        "\n",
        "import matplotlib.pyplot as plt\n",
        "import numpy as np\n",
        "def sigma(x):\n",
        "    return 1 / (1 + np.exp(-x))\n",
        "\n",
        "X = np.array(perceptronlista)\n",
        "Y = np.array(etikettlista)\n",
        "\n",
        "w_0 = 1\n",
        "w_1 = 1\n",
        "b = 0\n",
        "alpha = 0.1\n",
        "epochs = 100\n",
        "e = 0\n",
        "genfel = []\n",
        "\n",
        "while e < epochs:\n",
        "    dw_0 = 0\n",
        "    dw_1 = 0\n",
        "    db = 0\n",
        "    n = 0\n",
        "    while n < len(perceptronlista):\n",
        "        x = X[n]\n",
        "        x_0 = x[3]\n",
        "        x_1 = x[4]\n",
        "        y = Y[n]\n",
        "        y_hat = sigma(w_0 * x_0 + w_1 * x_1 + b)\n",
        "        dw_0 += 2 * (y_hat - y) * y_hat * (1 - y_hat) * x_0 / 4\n",
        "        dw_1 += 2 * (y_hat - y) * y_hat * (1 - y_hat) * x_1 / 4\n",
        "        db += 2 * (y_hat - y) * y_hat * (1 - y_hat) / 4\n",
        "        n += 1\n",
        "    w_0 -= alpha * dw_0\n",
        "    w_1 -= alpha * dw_1\n",
        "    b -= alpha * db\n",
        "    n = 0\n",
        "    temp1 = 0\n",
        "    while n < len(perceptronlista):\n",
        "      x = X[n]\n",
        "      x_0 = x[3]\n",
        "      x_1 = x[4]\n",
        "      y = Y[n]\n",
        "      y_hat = sigma(w_0 * x_0 + w_1 * x_1 + b)\n",
        "      #print(x, y, y_hat, sep=\"\\t\")\n",
        "      temp1 += (y_hat - y) ** 2\n",
        "      n += 1\n",
        "    #print(temp1/len(perceptronlista)) #genomsnittliga kvadrerade felet\n",
        "    genfel.append(temp1/len(perceptronlista))\n",
        "    e += 1\n",
        "print(temp1/len(perceptronlista))\n",
        "\n",
        "temp1 = 0\n",
        "\n",
        "\n",
        "\n",
        "print()\n",
        "print(\"w_0 =\", w_0)\n",
        "print(\"w_1 =\", w_1)\n",
        "print(\"b =\", b)\n",
        "#print(genfel)\n",
        "plt.plot(genfel)\n",
        "plt.ylabel(\"Genomsnittligt kvadrerat fel\")\n",
        "plt.xlabel(\"Epok\")\n",
        "plt.show()\n",
        "\n",
        "\n",
        "\n"
      ],
      "metadata": {
        "id": "cxyUtJaeetfh",
        "colab": {
          "base_uri": "https://localhost:8080/",
          "height": 536
        },
        "outputId": "174ae1a6-c5ff-4181-eea3-4361c2284793"
      },
      "execution_count": 4,
      "outputs": [
        {
          "output_type": "stream",
          "name": "stdout",
          "text": [
            "0.21819925291372974\n",
            "\n",
            "w_0 = 1.388485836434967\n",
            "w_1 = 0.7485508019538847\n",
            "b = -1.1959699077708796\n"
          ]
        },
        {
          "output_type": "display_data",
          "data": {
            "text/plain": [
              "<Figure size 640x480 with 1 Axes>"
            ],
            "image/png": "[encoded data removed]"
          },
          "metadata": {}
        }
      ]
    },
    {
      "cell_type": "code",
      "source": [
        "#Testar bara de två sista perceptronerna\n",
        "Uperceptroner = [[1, 0, 1, 1, 1], [1, 0, 0, 0, 0], [0, 0, 1, 1, 1], [1, 1, 1, 1, 0], [1, 1, 0, 1, 0], [0, 1, 0, 1, 1], [1, 1, 1, 1, 1], [1, 1, 0, 0, 0], [0, 0, 1, 1, 0], [1, 1, 1, 1, 1], [1, 0, 1, 0, 0], [0, 1, 0, 1, 1], [0, 0, 1, 1, 0], [1, 0, 1, 0, 1], [0, 1, 1, 1, 0], [0, 1, 1, 1, 1], [1, 0, 0, 1, 0], [0, 1, 1, 1, 1], [0, 1, 0, 1, 0], [1, 0, 1, 1, 1], [1, 0, 0, 0, 1], [0, 1, 1, 0, 0], [0, 1, 1, 1, 0], [1, 1, 1, 1, 0]]\n",
        "Uetiketter = [1, 0, 1, 1, 0, 1, 1, 0, 1, 1, 0, 0, 1, 0, 0, 1, 0, 0, 1, 1, 0, 0, 1, 1]\n",
        "def sigma(x):\n",
        "    return 1 / (1 + np.exp(-x))\n",
        "\n",
        "w_3 = 1.388485836434967\n",
        "w_4 = 0.7485508019538847\n",
        "b = -1.1959699077708796\n",
        "X = np.array(Uperceptroner)\n",
        "Y = np.array(Uetiketter)\n",
        "n = 0\n",
        "temp1 = 0\n",
        "while n < (len(Uperceptroner)):\n",
        "  x = X[n]\n",
        "  x_3 = x[3]\n",
        "  x_4 = x[4]\n",
        "  y = Y[n]\n",
        "  y_hat = sigma(w_4 * x_4 + w_3 * x_3 + b)\n",
        "  temp1 += (y_hat - y) ** 2\n",
        "  n += 1\n",
        "print(temp1/len(Uperceptroner))"
      ],
      "metadata": {
        "id": "kR9vBlMBhTAD",
        "colab": {
          "base_uri": "https://localhost:8080/"
        },
        "outputId": "067a5dbb-d1a6-41b5-ceb1-af4efe520084"
      },
      "execution_count": 5,
      "outputs": [
        {
          "output_type": "stream",
          "name": "stdout",
          "text": [
            "0.17637116339659079\n"
          ]
        }
      ]
    },
    {
      "cell_type": "code",
      "source": [
        "#testar de tre sista perceptronerna\n",
        "#träningsdata\n",
        "perceptronlista = [[0, 1, 1, 1, 1], [0, 1, 1, 1, 0], [1, 1, 0, 1, 1], [0, 0, 1, 0, 1], [1, 0, 0, 0, 0], [1, 1, 0, 1, 1], [0, 0, 1, 1, 0], [1, 1, 1, 1, 1], [1, 0, 1, 1, 0], [1, 1, 1, 0, 1], [1, 1, 0, 0, 0], [0, 1, 1, 0, 1], [1, 0, 0, 1, 0], [0, 0, 1, 0, 0], [0, 1, 1, 1, 1], [0, 1, 1, 1, 0], [1, 0, 1, 1, 0], [0, 0, 0, 1, 1], [1, 1, 0, 1, 1], [1, 1, 1, 1, 1], [0, 0, 0, 1, 0], [1, 1, 1, 1, 0], [1, 0, 1, 0, 1], [0, 1, 1, 1, 0], [0, 0, 0, 0, 1], [0, 1, 1, 1, 1], [1, 0, 1, 1, 0], [0, 1, 0, 0, 0], [0, 0, 0, 1, 0], [0, 1, 1, 1, 1], [1, 0, 1, 1, 0], [1, 0, 1, 1, 1], [1, 1, 1, 0, 0], [0, 1, 1, 1, 0], [1, 0, 1, 1, 0], [0, 1, 0, 0, 1], [0, 0, 1, 1, 0], [0, 1, 1, 1, 1], [1, 0, 0, 0, 0], [0, 1, 0, 1, 1], [1, 1, 1, 1, 0], [0, 0, 0, 1, 1], [1, 1, 1, 1, 1], [0, 0, 1, 1, 0], [1, 0, 1, 0, 1], [1, 1, 1, 1, 0], [1, 0, 0, 1, 1], [1, 1, 1, 1, 0], [0, 0, 0, 0, 1], [0, 1, 1, 1, 0], [1, 0, 0, 0, 0], [0, 0, 0, 1, 1], [1, 0, 1, 1, 0], [1, 0, 0, 1, 0], [0, 1, 1, 1, 0], [1, 0, 1, 0, 1], [0, 0, 1, 1, 0], [0, 0, 1, 1, 1], [1, 1, 0, 1, 1], [1, 0, 1, 1, 1], [1, 0, 0, 0, 1], [0, 0, 1, 1, 1], [1, 0, 1, 1, 1], [1, 1, 0, 1, 0], [0, 1, 1, 1, 0], [1, 0, 1, 0, 0], [0, 0, 0, 0, 1], [0, 1, 0, 1, 0], [1, 0, 1, 0, 0], [0, 0, 1, 1, 1], [1, 0, 1, 1, 1], [0, 1, 1, 1, 1], [0, 1, 0, 0, 0], [1, 1, 0, 1, 0], [0, 1, 1, 1, 0], [1, 1, 0, 1, 0], [0, 0, 1, 1, 1], [1, 0, 1, 0, 0], [0, 1, 1, 1, 0], [1, 1, 0, 1, 1], [1, 1, 1, 1, 1], [1, 1, 1, 1, 0], [1, 1, 0, 1, 1], [0, 1, 0, 1, 0], [0, 1, 1, 1, 1], [1, 0, 0, 0, 0], [0, 0, 0, 0, 1], [1, 0, 1, 1, 1], [1, 1, 1, 1, 0]]\n",
        "etikettlista = [0, 1, 0, 1, 1, 0, 1, 1, 1, 1, 0, 1, 0, 0, 0, 1, 0, 1, 1, 0, 1, 1, 0, 0, 0, 1, 0, 0, 0, 1, 1, 1, 0, 1, 0, 0, 0, 1, 0, 1, 0, 1, 0, 1, 1, 1, 1, 0, 0, 1, 0, 1, 1, 0, 1, 0, 0, 1, 1, 1, 0, 1, 1, 0, 1, 0, 0, 1, 0, 1, 0, 0, 1, 0, 1, 0, 1, 0, 1, 1, 1, 1, 0, 0, 1, 0, 1, 1, 1]\n",
        "\n",
        "#utvärderingsdata\n",
        "perceptronerlista2 = [[1, 0, 1, 1, 1], [1, 0, 0, 0, 0], [0, 0, 1, 1, 1], [1, 1, 1, 1, 0], [1, 1, 0, 1, 0], [0, 1, 0, 1, 1], [1, 1, 1, 1, 1], [1, 1, 0, 0, 0], [0, 0, 1, 1, 0], [1, 1, 1, 1, 1], [1, 0, 1, 0, 0], [0, 1, 0, 1, 1], [0, 0, 1, 1, 0], [1, 0, 1, 0, 1], [0, 1, 1, 1, 0], [0, 1, 1, 1, 1], [1, 0, 0, 1, 0], [0, 1, 1, 1, 1], [0, 1, 0, 1, 0], [1, 0, 1, 1, 1], [1, 0, 0, 0, 1], [0, 1, 1, 0, 0], [0, 1, 1, 1, 0], [1, 1, 1, 1, 0]]\n",
        "etikettlista2 = [1, 0, 1, 1, 0, 1, 1, 0, 1, 1, 0, 0, 1, 0, 0, 1, 0, 0, 1, 1, 0, 0, 1, 1]\n",
        "\n",
        "import matplotlib.pyplot as plt\n",
        "import numpy as np\n",
        "def sigma(x):\n",
        "    return 1 / (1 + np.exp(-x))\n",
        "\n",
        "X = np.array(perceptronlista)\n",
        "Y = np.array(etikettlista)\n",
        "\n",
        "w_0 = 1\n",
        "w_3 = 1\n",
        "w_4 = 1\n",
        "b = 0\n",
        "alpha = 0.1\n",
        "epochs = 100\n",
        "e = 0\n",
        "genfel = []\n",
        "\n",
        "while e < epochs:\n",
        "    dw_0 = 0\n",
        "    dw_3 = 0\n",
        "    dw_4 = 0\n",
        "    db = 0\n",
        "    n = 0\n",
        "    while n < len(perceptronlista):\n",
        "        x = X[n]\n",
        "        x_0 = x[0]\n",
        "        x_3 = x[3]\n",
        "        x_4 = x[4]\n",
        "        y = Y[n]\n",
        "        y_hat = sigma(w_4 * x_4 + w_3 * x_3 +  w_0 * x_0 + b)\n",
        "        dw_0 += 2 * (y_hat - y) * y_hat * (1 - y_hat) * x_0 / 4\n",
        "        dw_3 += 2 * (y_hat - y) * y_hat * (1 - y_hat) * x_3 / 4\n",
        "        dw_4 += 2 * (y_hat - y) * y_hat * (1 - y_hat) * x_4 / 4\n",
        "        db += 2 * (y_hat - y) * y_hat * (1 - y_hat) / 4\n",
        "        n += 1\n",
        "    w_0 -= alpha * dw_0\n",
        "    w_3 -= alpha * dw_3\n",
        "    w_4 -= alpha * dw_4\n",
        "    b -= alpha * db\n",
        "    n = 0\n",
        "    temp1 = 0\n",
        "    while n < len(perceptronlista):\n",
        "      x = X[n]\n",
        "      x_0 = x[0]\n",
        "      x_3 = x[3]\n",
        "      x_4 = x[4]\n",
        "      y = Y[n]\n",
        "      y_hat = sigma(w_4 * x_4 + w_3 * x_3 + w_0 * x_0 + b)\n",
        "      #print(x, y, y_hat, sep=\"\\t\")\n",
        "      temp1 += (y_hat - y) ** 2\n",
        "      n += 1\n",
        "    #print(temp1/len(perceptronlista)) #genomsnittliga kvadrerade felet\n",
        "    genfel.append(temp1/len(perceptronlista))\n",
        "    e += 1\n",
        "print(temp1/len(perceptronlista))\n",
        "\n",
        "temp1 = 0\n",
        "\n",
        "\n",
        "\n",
        "print()\n",
        "print(\"w_0 =\", w_0)\n",
        "print(\"w_3 =\", w_3)\n",
        "print(\"w_4 =\", w_4)\n",
        "print(\"b =\", b)\n",
        "#print(genfel)\n",
        "plt.plot(genfel)\n",
        "plt.ylabel(\"Genomsnittligt kvadrerat fel\")\n",
        "plt.xlabel(\"Epok\")\n",
        "plt.show()\n",
        "\n",
        "\n",
        "\n"
      ],
      "metadata": {
        "colab": {
          "base_uri": "https://localhost:8080/",
          "height": 553
        },
        "id": "69nDY76xhvR3",
        "outputId": "47c6a35e-be59-4021-a87e-05952f99684c",
        "collapsed": true
      },
      "execution_count": 6,
      "outputs": [
        {
          "output_type": "stream",
          "name": "stdout",
          "text": [
            "0.20707389628369938\n",
            "\n",
            "w_0 = -0.9586252087046858\n",
            "w_3 = 1.462033515788897\n",
            "w_4 = 0.7357667527751262\n",
            "b = -0.7517198679100481\n"
          ]
        },
        {
          "output_type": "display_data",
          "data": {
            "text/plain": [
              "<Figure size 640x480 with 1 Axes>"
            ],
            "image/png": "[encoded data removed]"
          },
          "metadata": {}
        }
      ]
    },
    {
      "cell_type": "markdown",
      "source": [
        "# Kod som testar utvärderingsdatan med våra första vikter från träningsdatan"
      ],
      "metadata": {
        "id": "AHQUAX28wdxc"
      }
    },
    {
      "cell_type": "code",
      "source": [
        "#@title\n",
        "Uperceptroner = [[1, 0, 1, 1, 1], [1, 0, 0, 0, 0], [0, 0, 1, 1, 1], [1, 1, 1, 1, 0], [1, 1, 0, 1, 0], [0, 1, 0, 1, 1], [1, 1, 1, 1, 1], [1, 1, 0, 0, 0], [0, 0, 1, 1, 0], [1, 1, 1, 1, 1], [1, 0, 1, 0, 0], [0, 1, 0, 1, 1], [0, 0, 1, 1, 0], [1, 0, 1, 0, 1], [0, 1, 1, 1, 0], [0, 1, 1, 1, 1], [1, 0, 0, 1, 0], [0, 1, 1, 1, 1], [0, 1, 0, 1, 0], [1, 0, 1, 1, 1], [1, 0, 0, 0, 1], [0, 1, 1, 0, 0], [0, 1, 1, 1, 0], [1, 1, 1, 1, 0]]\n",
        "Uetiketter = [1, 0, 1, 1, 0, 1, 1, 0, 1, 1, 0, 0, 1, 0, 0, 1, 0, 0, 1, 1, 0, 0, 1, 1]\n",
        "def sigma(x):\n",
        "    return 1 / (1 + np.exp(-x))\n",
        "\n",
        "w_0 = -0.9586252087046858\n",
        "w_3 = 1.462033515788897\n",
        "w_4 = 0.7357667527751262\n",
        "b = -0.7517198679100481\n",
        "X = np.array(Uperceptroner)\n",
        "Y = np.array(Uetiketter)\n",
        "n = 0\n",
        "temp1 = 0\n",
        "while n < (len(Uperceptroner)):\n",
        "  x = X[n]\n",
        "  x_0 = x[0]\n",
        "  x_3 = x[3]\n",
        "  x_4 = x[4]\n",
        "  y = Y[n]\n",
        "  y_hat = sigma(w_4 * x_4 + w_3 * x_3 + w_0 * x_0 + b)\n",
        "  temp1 += (y_hat - y) ** 2\n",
        "  n += 1\n",
        "print(temp1/len(Uperceptroner))"
      ],
      "metadata": {
        "colab": {
          "base_uri": "https://localhost:8080/"
        },
        "id": "vXwJFNwPi6Br",
        "outputId": "8f4dd247-a68a-450d-b08f-4c6ac111fb12",
        "collapsed": true
      },
      "execution_count": 7,
      "outputs": [
        {
          "output_type": "stream",
          "name": "stdout",
          "text": [
            "0.17585908331963507\n"
          ]
        }
      ]
    },
    {
      "cell_type": "markdown",
      "source": [
        "# Kod som ändrar längden på listorna så att utvärderingsdatan och träningsdatan blir lika långa\n"
      ],
      "metadata": {
        "id": "Mi3RJPOHu53A"
      }
    },
    {
      "cell_type": "code",
      "source": [
        "#@title\n",
        "perceptronlista = [[0, 1, 1, 1, 1], [0, 1, 1, 1, 0], [1, 1, 0, 1, 1], [0, 0, 1, 0, 1], [1, 0, 0, 0, 0], [1, 1, 0, 1, 1], [0, 0, 1, 1, 0], [1, 1, 1, 1, 1], [1, 0, 1, 1, 0], [1, 1, 1, 0, 1], [1, 1, 0, 0, 0], [0, 1, 1, 0, 1], [1, 0, 0, 1, 0], [0, 0, 1, 0, 0], [0, 1, 1, 1, 1], [0, 1, 1, 1, 0], [1, 0, 1, 1, 0], [0, 0, 0, 1, 1], [1, 1, 0, 1, 1], [1, 1, 1, 1, 1], [0, 0, 0, 1, 0], [1, 1, 1, 1, 0], [1, 0, 1, 0, 1], [0, 1, 1, 1, 0], [0, 0, 0, 0, 1], [0, 1, 1, 1, 1], [1, 0, 1, 1, 0], [0, 1, 0, 0, 0], [0, 0, 0, 1, 0], [0, 1, 1, 1, 1], [1, 0, 1, 1, 0], [1, 0, 1, 1, 1], [1, 1, 1, 0, 0], [0, 1, 1, 1, 0], [1, 0, 1, 1, 0], [0, 1, 0, 0, 1], [0, 0, 1, 1, 0], [0, 1, 1, 1, 1], [1, 0, 0, 0, 0], [0, 1, 0, 1, 1], [1, 1, 1, 1, 0], [0, 0, 0, 1, 1], [1, 1, 1, 1, 1], [0, 0, 1, 1, 0], [1, 0, 1, 0, 1], [1, 1, 1, 1, 0], [1, 0, 0, 1, 1], [1, 1, 1, 1, 0], [0, 0, 0, 0, 1], [0, 1, 1, 1, 0], [1, 0, 0, 0, 0], [0, 0, 0, 1, 1], [1, 0, 1, 1, 0], [1, 0, 0, 1, 0], [0, 1, 1, 1, 0], [1, 0, 1, 0, 1], [0, 0, 1, 1, 0], [0, 0, 1, 1, 1], [1, 1, 0, 1, 1], [1, 0, 1, 1, 1], [1, 0, 0, 0, 1], [0, 0, 1, 1, 1], [1, 0, 1, 1, 1], [1, 1, 0, 1, 0], [0, 1, 1, 1, 0], [1, 0, 1, 0, 0], [0, 0, 0, 0, 1], [0, 1, 0, 1, 0], [1, 0, 1, 0, 0], [0, 0, 1, 1, 1], [1, 0, 1, 1, 1], [0, 1, 1, 1, 1], [0, 1, 0, 0, 0], [1, 1, 0, 1, 0], [0, 1, 1, 1, 0], [1, 1, 0, 1, 0], [0, 0, 1, 1, 1], [1, 0, 1, 0, 0], [0, 1, 1, 1, 0], [1, 1, 0, 1, 1], [1, 1, 1, 1, 1], [1, 1, 1, 1, 0], [1, 1, 0, 1, 1], [0, 1, 0, 1, 0], [0, 1, 1, 1, 1], [1, 0, 0, 0, 0], [0, 0, 0, 0, 1], [1, 0, 1, 1, 1], [1, 1, 1, 1, 0]]\n",
        "etikettlista = [0, 1, 0, 1, 1, 0, 1, 1, 1, 1, 0, 1, 0, 0, 0, 1, 0, 1, 1, 0, 1, 1, 0, 0, 0, 1, 0, 0, 0, 1, 1, 1, 0, 1, 0, 0, 0, 1, 0, 1, 0, 1, 0, 1, 1, 1, 1, 0, 0, 1, 0, 1, 1, 0, 1, 0, 0, 1, 1, 1, 0, 1, 1, 0, 1, 0, 0, 1, 0, 1, 0, 0, 1, 0, 1, 0, 1, 0, 1, 1, 1, 1, 0, 0, 1, 0, 1, 1, 1]\n",
        "Uperceptronlista = [[1, 0, 1, 1, 1], [1, 0, 0, 0, 0], [0, 0, 1, 1, 1], [1, 1, 1, 1, 0], [1, 1, 0, 1, 0], [0, 1, 0, 1, 1], [1, 1, 1, 1, 1], [1, 1, 0, 0, 0], [0, 0, 1, 1, 0], [1, 1, 1, 1, 1], [1, 0, 1, 0, 0], [0, 1, 0, 1, 1], [0, 0, 1, 1, 0], [1, 0, 1, 0, 1], [0, 1, 1, 1, 0], [0, 1, 1, 1, 1], [1, 0, 0, 1, 0], [0, 1, 1, 1, 1], [0, 1, 0, 1, 0], [1, 0, 1, 1, 1], [1, 0, 0, 0, 1], [0, 1, 1, 0, 0], [0, 1, 1, 1, 0], [1, 1, 1, 1, 0]]\n",
        "Uetikettlista = [1, 0, 1, 1, 0, 1, 1, 0, 1, 1, 0, 0, 1, 0, 0, 1, 0, 0, 1, 1, 0, 0, 1, 1]\n",
        "print(len(perceptronlista),len(Uperceptronlista))\n",
        "for i in range(32):\n",
        "  Uperceptronlista.append(perceptronlista[-1])\n",
        "  Uetikettlista.append(etikettlista[-1])\n",
        "  perceptronlista.pop(-1)\n",
        "  etikettlista.pop(-1)\n",
        "print(\"träningsdata\", (perceptronlista))\n",
        "print(\"etiketter\", etikettlista)\n",
        "print(\"utvärderingsdata\", Uperceptronlista)\n",
        "print(\"utvärderingsetikett\", Uetikettlista)\n"
      ],
      "metadata": {
        "colab": {
          "base_uri": "https://localhost:8080/"
        },
        "id": "vjs-yLf3ratu",
        "outputId": "5e52a748-ce5c-4def-8e94-acdd4ba72f18",
        "collapsed": true
      },
      "execution_count": null,
      "outputs": [
        {
          "output_type": "stream",
          "name": "stdout",
          "text": [
            "89 24\n",
            "träningsdata [[0, 1, 1, 1, 1], [0, 1, 1, 1, 0], [1, 1, 0, 1, 1], [0, 0, 1, 0, 1], [1, 0, 0, 0, 0], [1, 1, 0, 1, 1], [0, 0, 1, 1, 0], [1, 1, 1, 1, 1], [1, 0, 1, 1, 0], [1, 1, 1, 0, 1], [1, 1, 0, 0, 0], [0, 1, 1, 0, 1], [1, 0, 0, 1, 0], [0, 0, 1, 0, 0], [0, 1, 1, 1, 1], [0, 1, 1, 1, 0], [1, 0, 1, 1, 0], [0, 0, 0, 1, 1], [1, 1, 0, 1, 1], [1, 1, 1, 1, 1], [0, 0, 0, 1, 0], [1, 1, 1, 1, 0], [1, 0, 1, 0, 1], [0, 1, 1, 1, 0], [0, 0, 0, 0, 1], [0, 1, 1, 1, 1], [1, 0, 1, 1, 0], [0, 1, 0, 0, 0], [0, 0, 0, 1, 0], [0, 1, 1, 1, 1], [1, 0, 1, 1, 0], [1, 0, 1, 1, 1], [1, 1, 1, 0, 0], [0, 1, 1, 1, 0], [1, 0, 1, 1, 0], [0, 1, 0, 0, 1], [0, 0, 1, 1, 0], [0, 1, 1, 1, 1], [1, 0, 0, 0, 0], [0, 1, 0, 1, 1], [1, 1, 1, 1, 0], [0, 0, 0, 1, 1], [1, 1, 1, 1, 1], [0, 0, 1, 1, 0], [1, 0, 1, 0, 1], [1, 1, 1, 1, 0], [1, 0, 0, 1, 1], [1, 1, 1, 1, 0], [0, 0, 0, 0, 1], [0, 1, 1, 1, 0], [1, 0, 0, 0, 0], [0, 0, 0, 1, 1], [1, 0, 1, 1, 0], [1, 0, 0, 1, 0], [0, 1, 1, 1, 0], [1, 0, 1, 0, 1], [0, 0, 1, 1, 0]]\n",
            "etiketter [0, 1, 0, 1, 1, 0, 1, 1, 1, 1, 0, 1, 0, 0, 0, 1, 0, 1, 1, 0, 1, 1, 0, 0, 0, 1, 0, 0, 0, 1, 1, 1, 0, 1, 0, 0, 0, 1, 0, 1, 0, 1, 0, 1, 1, 1, 1, 0, 0, 1, 0, 1, 1, 0, 1, 0, 0]\n",
            "utvärderingsdata [[1, 0, 1, 1, 1], [1, 0, 0, 0, 0], [0, 0, 1, 1, 1], [1, 1, 1, 1, 0], [1, 1, 0, 1, 0], [0, 1, 0, 1, 1], [1, 1, 1, 1, 1], [1, 1, 0, 0, 0], [0, 0, 1, 1, 0], [1, 1, 1, 1, 1], [1, 0, 1, 0, 0], [0, 1, 0, 1, 1], [0, 0, 1, 1, 0], [1, 0, 1, 0, 1], [0, 1, 1, 1, 0], [0, 1, 1, 1, 1], [1, 0, 0, 1, 0], [0, 1, 1, 1, 1], [0, 1, 0, 1, 0], [1, 0, 1, 1, 1], [1, 0, 0, 0, 1], [0, 1, 1, 0, 0], [0, 1, 1, 1, 0], [1, 1, 1, 1, 0], [1, 1, 1, 1, 0], [1, 0, 1, 1, 1], [0, 0, 0, 0, 1], [1, 0, 0, 0, 0], [0, 1, 1, 1, 1], [0, 1, 0, 1, 0], [1, 1, 0, 1, 1], [1, 1, 1, 1, 0], [1, 1, 1, 1, 1], [1, 1, 0, 1, 1], [0, 1, 1, 1, 0], [1, 0, 1, 0, 0], [0, 0, 1, 1, 1], [1, 1, 0, 1, 0], [0, 1, 1, 1, 0], [1, 1, 0, 1, 0], [0, 1, 0, 0, 0], [0, 1, 1, 1, 1], [1, 0, 1, 1, 1], [0, 0, 1, 1, 1], [1, 0, 1, 0, 0], [0, 1, 0, 1, 0], [0, 0, 0, 0, 1], [1, 0, 1, 0, 0], [0, 1, 1, 1, 0], [1, 1, 0, 1, 0], [1, 0, 1, 1, 1], [0, 0, 1, 1, 1], [1, 0, 0, 0, 1], [1, 0, 1, 1, 1], [1, 1, 0, 1, 1], [0, 0, 1, 1, 1]]\n",
            "utvärderingsetikett [1, 0, 1, 1, 0, 1, 1, 0, 1, 1, 0, 0, 1, 0, 0, 1, 0, 0, 1, 1, 0, 0, 1, 1, 1, 1, 1, 0, 1, 0, 0, 1, 1, 1, 1, 0, 1, 0, 1, 0, 1, 0, 0, 1, 0, 1, 0, 0, 1, 0, 1, 1, 0, 1, 1, 1]\n"
          ]
        }
      ]
    },
    {
      "cell_type": "markdown",
      "source": [
        "# Den nya utvärderingsdatan och träningsdatan samt etiketter\n",
        "träningsdata = [[0, 1, 1, 1, 1], [0, 1, 1, 1, 0], [1, 1, 0, 1, 1], [0, 0, 1, 0, 1], [1, 0, 0, 0, 0], [1, 1, 0, 1, 1], [0, 0, 1, 1, 0], [1, 1, 1, 1, 1], [1, 0, 1, 1, 0], [1, 1, 1, 0, 1], [1, 1, 0, 0, 0], [0, 1, 1, 0, 1], [1, 0, 0, 1, 0], [0, 0, 1, 0, 0], [0, 1, 1, 1, 1], [0, 1, 1, 1, 0], [1, 0, 1, 1, 0], [0, 0, 0, 1, 1], [1, 1, 0, 1, 1], [1, 1, 1, 1, 1], [0, 0, 0, 1, 0], [1, 1, 1, 1, 0], [1, 0, 1, 0, 1], [0, 1, 1, 1, 0], [0, 0, 0, 0, 1], [0, 1, 1, 1, 1], [1, 0, 1, 1, 0], [0, 1, 0, 0, 0], [0, 0, 0, 1, 0], [0, 1, 1, 1, 1], [1, 0, 1, 1, 0], [1, 0, 1, 1, 1], [1, 1, 1, 0, 0], [0, 1, 1, 1, 0], [1, 0, 1, 1, 0], [0, 1, 0, 0, 1], [0, 0, 1, 1, 0], [0, 1, 1, 1, 1], [1, 0, 0, 0, 0], [0, 1, 0, 1, 1], [1, 1, 1, 1, 0], [0, 0, 0, 1, 1], [1, 1, 1, 1, 1], [0, 0, 1, 1, 0], [1, 0, 1, 0, 1], [1, 1, 1, 1, 0], [1, 0, 0, 1, 1], [1, 1, 1, 1, 0], [0, 0, 0, 0, 1], [0, 1, 1, 1, 0], [1, 0, 0, 0, 0], [0, 0, 0, 1, 1], [1, 0, 1, 1, 0], [1, 0, 0, 1, 0], [0, 1, 1, 1, 0], [1, 0, 1, 0, 1], [0, 0, 1, 1, 0]]\n",
        "\n",
        "\n",
        "\n",
        "\n",
        "etiketter [0, 1, 0, 1, 1, 0, 1, 1, 1, 1, 0, 1, 0, 0, 0, 1, 0, 1, 1, 0, 1, 1, 0, 0, 0, 1, 0, 0, 0, 1, 1, 1, 0, 1, 0, 0, 0, 1, 0, 1, 0, 1, 0, 1, 1, 1, 1, 0, 0, 1, 0, 1, 1, 0, 1, 0, 0]\n",
        "\n",
        "\n",
        "\n",
        "\n",
        "utvärderingsdata = [[1, 0, 1, 1, 1], [1, 0, 0, 0, 0], [0, 0, 1, 1, 1], [1, 1, 1, 1, 0], [1, 1, 0, 1, 0], [0, 1, 0, 1, 1], [1, 1, 1, 1, 1], [1, 1, 0, 0, 0], [0, 0, 1, 1, 0], [1, 1, 1, 1, 1], [1, 0, 1, 0, 0], [0, 1, 0, 1, 1], [0, 0, 1, 1, 0], [1, 0, 1, 0, 1], [0, 1, 1, 1, 0], [0, 1, 1, 1, 1], [1, 0, 0, 1, 0], [0, 1, 1, 1, 1], [0, 1, 0, 1, 0], [1, 0, 1, 1, 1], [1, 0, 0, 0, 1], [0, 1, 1, 0, 0], [0, 1, 1, 1, 0], [1, 1, 1, 1, 0], [1, 1, 1, 1, 0], [1, 0, 1, 1, 1], [0, 0, 0, 0, 1], [1, 0, 0, 0, 0], [0, 1, 1, 1, 1], [0, 1, 0, 1, 0], [1, 1, 0, 1, 1], [1, 1, 1, 1, 0], [1, 1, 1, 1, 1], [1, 1, 0, 1, 1], [0, 1, 1, 1, 0], [1, 0, 1, 0, 0], [0, 0, 1, 1, 1], [1, 1, 0, 1, 0], [0, 1, 1, 1, 0], [1, 1, 0, 1, 0], [0, 1, 0, 0, 0], [0, 1, 1, 1, 1], [1, 0, 1, 1, 1], [0, 0, 1, 1, 1], [1, 0, 1, 0, 0], [0, 1, 0, 1, 0], [0, 0, 0, 0, 1], [1, 0, 1, 0, 0], [0, 1, 1, 1, 0], [1, 1, 0, 1, 0], [1, 0, 1, 1, 1], [0, 0, 1, 1, 1], [1, 0, 0, 0, 1], [1, 0, 1, 1, 1], [1, 1, 0, 1, 1], [0, 0, 1, 1, 1]]\n",
        "\n",
        "\n",
        "utvärderingsetikett [1, 0, 1, 1, 0, 1, 1, 0, 1, 1, 0, 0, 1, 0, 0, 1, 0, 0, 1, 1, 0, 0, 1, 1, 1, 1, 1, 0, 1, 0, 0, 1, 1, 1, 1, 0, 1, 0, 1, 0, 1, 0, 0, 1, 0, 1, 0, 0, 1, 0, 1, 1, 0, 1, 1, 1]"
      ],
      "metadata": {
        "id": "REwmcM8QvIMo"
      }
    },
    {
      "cell_type": "code",
      "source": [
        "#Gradient decent på de nya värderna\n",
        "träningsdata=[[0, 1, 1, 1, 1], [0, 1, 1, 1, 0], [1, 1, 0, 1, 1], [0, 0, 1, 0, 1], [1, 0, 0, 0, 0], [1, 1, 0, 1, 1], [0, 0, 1, 1, 0], [1, 1, 1, 1, 1], [1, 0, 1, 1, 0], [1, 1, 1, 0, 1], [1, 1, 0, 0, 0], [0, 1, 1, 0, 1], [1, 0, 0, 1, 0], [0, 0, 1, 0, 0], [0, 1, 1, 1, 1], [0, 1, 1, 1, 0], [1, 0, 1, 1, 0], [0, 0, 0, 1, 1], [1, 1, 0, 1, 1], [1, 1, 1, 1, 1], [0, 0, 0, 1, 0], [1, 1, 1, 1, 0], [1, 0, 1, 0, 1], [0, 1, 1, 1, 0], [0, 0, 0, 0, 1], [0, 1, 1, 1, 1], [1, 0, 1, 1, 0], [0, 1, 0, 0, 0], [0, 0, 0, 1, 0], [0, 1, 1, 1, 1], [1, 0, 1, 1, 0], [1, 0, 1, 1, 1], [1, 1, 1, 0, 0], [0, 1, 1, 1, 0], [1, 0, 1, 1, 0], [0, 1, 0, 0, 1], [0, 0, 1, 1, 0], [0, 1, 1, 1, 1], [1, 0, 0, 0, 0], [0, 1, 0, 1, 1], [1, 1, 1, 1, 0], [0, 0, 0, 1, 1], [1, 1, 1, 1, 1], [0, 0, 1, 1, 0], [1, 0, 1, 0, 1], [1, 1, 1, 1, 0], [1, 0, 0, 1, 1], [1, 1, 1, 1, 0], [0, 0, 0, 0, 1], [0, 1, 1, 1, 0], [1, 0, 0, 0, 0], [0, 0, 0, 1, 1], [1, 0, 1, 1, 0], [1, 0, 0, 1, 0], [0, 1, 1, 1, 0], [1, 0, 1, 0, 1], [0, 0, 1, 1, 0]]\n",
        "etiketter=[0, 1, 0, 1, 1, 0, 1, 1, 1, 1, 0, 1, 0, 0, 0, 1, 0, 1, 1, 0, 1, 1, 0, 0, 0, 1, 0, 0, 0, 1, 1, 1, 0, 1, 0, 0, 0, 1, 0, 1, 0, 1, 0, 1, 1, 1, 1, 0, 0, 1, 0, 1, 1, 0, 1, 0, 0]\n",
        "\n",
        "import matplotlib.pyplot as plt\n",
        "import numpy as np\n",
        "def sigma(x):\n",
        "    return 1 / (1 + np.exp(-x))\n",
        "\n",
        "X = np.array(träningsdata)\n",
        "Y = np.array(etiketter)\n",
        "\n",
        "w_0 = 1\n",
        "w_1 = 1\n",
        "w_2 = 1\n",
        "w_3 = 1\n",
        "w_4 = 1\n",
        "b = 0\n",
        "alpha = 0.1\n",
        "epochs = 100\n",
        "e = 0\n",
        "genfel = []\n",
        "\n",
        "while e < epochs:\n",
        "    dw_0 = 0\n",
        "    dw_1 = 0\n",
        "    dw_2 = 0\n",
        "    dw_3 = 0\n",
        "    dw_4 = 0\n",
        "    db = 0\n",
        "    n = 0\n",
        "    while n < len(träningsdata):\n",
        "        x = X[n]\n",
        "        x_0 = x[0]\n",
        "        x_1 = x[1]\n",
        "        x_2 = x[2]\n",
        "        x_3 = x[3]\n",
        "        x_4 = x[4]\n",
        "        y = Y[n]\n",
        "        y_hat = sigma(w_4 * x_4 + w_3 * x_3 + w_2 * x_2 + w_0 * x_0 + w_1 * x_1 + b)\n",
        "        dw_0 += 2 * (y_hat - y) * y_hat * (1 - y_hat) * x_0 / 4\n",
        "        dw_1 += 2 * (y_hat - y) * y_hat * (1 - y_hat) * x_1 / 4\n",
        "        dw_2 += 2 * (y_hat - y) * y_hat * (1 - y_hat) * x_2 / 4\n",
        "        dw_3 += 2 * (y_hat - y) * y_hat * (1 - y_hat) * x_3 / 4\n",
        "        dw_4 += 2 * (y_hat - y) * y_hat * (1 - y_hat) * x_4 / 4\n",
        "        db += 2 * (y_hat - y) * y_hat * (1 - y_hat) / 4\n",
        "        n += 1\n",
        "    w_0 -= alpha * dw_0\n",
        "    w_1 -= alpha * dw_1\n",
        "    w_2 -= alpha * dw_2\n",
        "    w_3 -= alpha * dw_3\n",
        "    w_4 -= alpha * dw_4\n",
        "    b -= alpha * db\n",
        "    n = 0\n",
        "    temp1 = 0\n",
        "    while n < len(träningsdata):\n",
        "      x = X[n]\n",
        "      x_0 = x[0]\n",
        "      x_1 = x[1]\n",
        "      x_2 = x[2]\n",
        "      x_3 = x[3]\n",
        "      x_4 = x[4]\n",
        "      y = Y[n]\n",
        "      y_hat = sigma(w_4 * x_4 + w_3 * x_3 + w_2 * x_2 + w_0 * x_0 + w_1 * x_1 + b)\n",
        "      #print(x, y, y_hat, sep=\"\\t\")\n",
        "      temp1 += (y_hat - y) ** 2\n",
        "      n += 1\n",
        "    #print(temp1/len(perceptronlista)) #genomsnittliga kvadrerade felet\n",
        "    genfel.append(temp1/len(träningsdata))\n",
        "    e += 1\n",
        "print(temp1/len(träningsdata))\n",
        "\n",
        "temp1 = 0\n",
        "\n",
        "\n",
        "\n",
        "print()\n",
        "print(\"w_0 =\", w_0)\n",
        "print(\"w_1 =\", w_1)\n",
        "print(\"w_2 =\", w_2)\n",
        "print(\"w_3 =\", w_3)\n",
        "print(\"w_4 =\", w_4)\n",
        "print(\"b =\", b)\n",
        "#print(genfel)\n",
        "\n",
        "plt.plot(genfel)\n",
        "plt.ylabel(\"Genomsnittligt kvadrerat fel\")\n",
        "plt.xlabel(\"Epok\")\n",
        "plt.show()\n",
        "\n",
        "\n",
        "\n",
        "\n"
      ],
      "metadata": {
        "colab": {
          "base_uri": "https://localhost:8080/",
          "height": 418
        },
        "id": "1gj2c97XxkT6",
        "outputId": "12df98f5-2266-4a90-9b7f-e44ff6017bcc"
      },
      "execution_count": null,
      "outputs": [
        {
          "output_type": "stream",
          "name": "stdout",
          "text": [
            "0.21383321824421628\n",
            "\n",
            "w_0 = -0.7985455697361312\n",
            "w_1 = -0.0946759174874671\n",
            "w_2 = 0.7676172565770943\n",
            "w_3 = 1.1603425676423043\n",
            "w_4 = 0.8039423267778788\n",
            "b = -1.2045422528227725\n"
          ]
        },
        {
          "output_type": "display_data",
          "data": {
            "text/plain": [
              "<Figure size 432x288 with 1 Axes>"
            ],
            "image/png": "[encoded data removed]"
          },
          "metadata": {
            "needs_background": "light"
          }
        }
      ]
    },
    {
      "cell_type": "code",
      "source": [
        "#testar våra nya vikter på utverderingsdatan\n",
        "utvärderingsdata=[[1, 0, 1, 1, 1], [1, 0, 0, 0, 0], [0, 0, 1, 1, 1], [1, 1, 1, 1, 0], [1, 1, 0, 1, 0], [0, 1, 0, 1, 1], [1, 1, 1, 1, 1], [1, 1, 0, 0, 0], [0, 0, 1, 1, 0], [1, 1, 1, 1, 1], [1, 0, 1, 0, 0], [0, 1, 0, 1, 1], [0, 0, 1, 1, 0], [1, 0, 1, 0, 1], [0, 1, 1, 1, 0], [0, 1, 1, 1, 1], [1, 0, 0, 1, 0], [0, 1, 1, 1, 1], [0, 1, 0, 1, 0], [1, 0, 1, 1, 1], [1, 0, 0, 0, 1], [0, 1, 1, 0, 0], [0, 1, 1, 1, 0], [1, 1, 1, 1, 0], [1, 1, 1, 1, 0], [1, 0, 1, 1, 1], [0, 0, 0, 0, 1], [1, 0, 0, 0, 0], [0, 1, 1, 1, 1], [0, 1, 0, 1, 0], [1, 1, 0, 1, 1], [1, 1, 1, 1, 0], [1, 1, 1, 1, 1], [1, 1, 0, 1, 1], [0, 1, 1, 1, 0], [1, 0, 1, 0, 0], [0, 0, 1, 1, 1], [1, 1, 0, 1, 0], [0, 1, 1, 1, 0], [1, 1, 0, 1, 0], [0, 1, 0, 0, 0], [0, 1, 1, 1, 1], [1, 0, 1, 1, 1], [0, 0, 1, 1, 1], [1, 0, 1, 0, 0], [0, 1, 0, 1, 0], [0, 0, 0, 0, 1], [1, 0, 1, 0, 0], [0, 1, 1, 1, 0], [1, 1, 0, 1, 0], [1, 0, 1, 1, 1], [0, 0, 1, 1, 1], [1, 0, 0, 0, 1], [1, 0, 1, 1, 1], [1, 1, 0, 1, 1], [0, 0, 1, 1, 1]]\n",
        "utvärderingsetikett=[1, 0, 1, 1, 0, 1, 1, 0, 1, 1, 0, 0, 1, 0, 0, 1, 0, 0, 1, 1, 0, 0, 1, 1, 1, 1, 1, 0, 1, 0, 0, 1, 1, 1, 1, 0, 1, 0, 1, 0, 1, 0, 0, 1, 0, 1, 0, 0, 1, 0, 1, 1, 0, 1, 1, 1]\n",
        "def sigma(x):\n",
        "    return 1 / (1 + np.exp(-x))\n",
        "\n",
        "uw_0 = -0.7985455697361312\n",
        "uw_1 = -0.0946759174874671\n",
        "uw_2 = 0.7676172565770943\n",
        "uw_3 = 1.1603425676423043\n",
        "uw_4 = 0.8039423267778788\n",
        "ub = -1.2045422528227725\n",
        "\n",
        "uX = np.array(utvärderingsdata)\n",
        "uY = np.array(utvärderingsetikett)\n",
        "un = 0\n",
        "utemp1 = 0\n",
        "while un < (len(utvärderingsdata)):\n",
        "  ux = uX[un]\n",
        "  ux_0 = ux[0]\n",
        "  ux_1 = ux[1]\n",
        "  ux_2 = ux[2]\n",
        "  ux_3 = ux[3]\n",
        "  ux_4 = ux[4]\n",
        "  uy = uY[un]\n",
        "  uy_hat = sigma(w_4 * x_4 + w_3 * x_3 + w_2 * x_2 + w_0 * x_0 + w_1 * x_1 + b)\n",
        "  utemp1 += (y_hat - uy) ** 2\n",
        "  un += 1\n",
        "print(utemp1/len(utvärderingsdata))"
      ],
      "metadata": {
        "colab": {
          "base_uri": "https://localhost:8080/"
        },
        "id": "ICEdsqDzzhTL",
        "outputId": "8ac4d948-d03e-4453-8027-3cb05939d5b5"
      },
      "execution_count": null,
      "outputs": [
        {
          "output_type": "stream",
          "name": "stdout",
          "text": [
            "0.2552878010487865\n"
          ]
        }
      ]
    },
    {
      "cell_type": "code",
      "source": [
        "#Gradient decent på nya listor men endast de två sista perceptronerna\n",
        "träningsdata=[[0, 1, 1, 1, 1], [0, 1, 1, 1, 0], [1, 1, 0, 1, 1], [0, 0, 1, 0, 1], [1, 0, 0, 0, 0], [1, 1, 0, 1, 1], [0, 0, 1, 1, 0], [1, 1, 1, 1, 1], [1, 0, 1, 1, 0], [1, 1, 1, 0, 1], [1, 1, 0, 0, 0], [0, 1, 1, 0, 1], [1, 0, 0, 1, 0], [0, 0, 1, 0, 0], [0, 1, 1, 1, 1], [0, 1, 1, 1, 0], [1, 0, 1, 1, 0], [0, 0, 0, 1, 1], [1, 1, 0, 1, 1], [1, 1, 1, 1, 1], [0, 0, 0, 1, 0], [1, 1, 1, 1, 0], [1, 0, 1, 0, 1], [0, 1, 1, 1, 0], [0, 0, 0, 0, 1], [0, 1, 1, 1, 1], [1, 0, 1, 1, 0], [0, 1, 0, 0, 0], [0, 0, 0, 1, 0], [0, 1, 1, 1, 1], [1, 0, 1, 1, 0], [1, 0, 1, 1, 1], [1, 1, 1, 0, 0], [0, 1, 1, 1, 0], [1, 0, 1, 1, 0], [0, 1, 0, 0, 1], [0, 0, 1, 1, 0], [0, 1, 1, 1, 1], [1, 0, 0, 0, 0], [0, 1, 0, 1, 1], [1, 1, 1, 1, 0], [0, 0, 0, 1, 1], [1, 1, 1, 1, 1], [0, 0, 1, 1, 0], [1, 0, 1, 0, 1], [1, 1, 1, 1, 0], [1, 0, 0, 1, 1], [1, 1, 1, 1, 0], [0, 0, 0, 0, 1], [0, 1, 1, 1, 0], [1, 0, 0, 0, 0], [0, 0, 0, 1, 1], [1, 0, 1, 1, 0], [1, 0, 0, 1, 0], [0, 1, 1, 1, 0], [1, 0, 1, 0, 1], [0, 0, 1, 1, 0]]\n",
        "etiketter=[0, 1, 0, 1, 1, 0, 1, 1, 1, 1, 0, 1, 0, 0, 0, 1, 0, 1, 1, 0, 1, 1, 0, 0, 0, 1, 0, 0, 0, 1, 1, 1, 0, 1, 0, 0, 0, 1, 0, 1, 0, 1, 0, 1, 1, 1, 1, 0, 0, 1, 0, 1, 1, 0, 1, 0, 0]\n",
        "\n",
        "\n",
        "import matplotlib.pyplot as plt\n",
        "import numpy as np\n",
        "def sigma(x):\n",
        "    return 1 / (1 + np.exp(-x))\n",
        "\n",
        "X = np.array(träningsdata)\n",
        "Y = np.array(etiketter)\n",
        "\n",
        "w_0 = 1\n",
        "w_1 = 1\n",
        "b = 0\n",
        "alpha = 0.1\n",
        "epochs = 100\n",
        "e = 0\n",
        "genfel = []\n",
        "\n",
        "while e < epochs:\n",
        "    dw_0 = 0\n",
        "    dw_1 = 0\n",
        "    db = 0\n",
        "    n = 0\n",
        "    while n < len(träningsdata):\n",
        "        x = X[n]\n",
        "        x_0 = x[3]\n",
        "        x_1 = x[4]\n",
        "        y = Y[n]\n",
        "        y_hat = sigma(w_0 * x_0 + w_1 * x_1 + b)\n",
        "        dw_0 += 2 * (y_hat - y) * y_hat * (1 - y_hat) * x_0 / 4\n",
        "        dw_1 += 2 * (y_hat - y) * y_hat * (1 - y_hat) * x_1 / 4\n",
        "        db += 2 * (y_hat - y) * y_hat * (1 - y_hat) / 4\n",
        "        n += 1\n",
        "    w_0 -= alpha * dw_0\n",
        "    w_1 -= alpha * dw_1\n",
        "    b -= alpha * db\n",
        "    n = 0\n",
        "    temp1 = 0\n",
        "    while n < len(träningsdata):\n",
        "      x = X[n]\n",
        "      x_0 = x[3]\n",
        "      x_1 = x[4]\n",
        "      y = Y[n]\n",
        "      y_hat = sigma(w_0 * x_0 + w_1 * x_1 + b)\n",
        "      #print(x, y, y_hat, sep=\"\\t\")\n",
        "      temp1 += (y_hat - y) ** 2\n",
        "      n += 1\n",
        "    #print(temp1/len(perceptronlista)) #genomsnittliga kvadrerade felet\n",
        "    genfel.append(temp1/len(träningsdata))\n",
        "    e += 1\n",
        "print(temp1/len(träningsdata))\n",
        "\n",
        "temp1 = 0\n",
        "\n",
        "\n",
        "\n",
        "print()\n",
        "print(\"w_0 =\", w_0)\n",
        "print(\"w_1 =\", w_1)\n",
        "print(\"b =\", b)\n",
        "#print(genfel)\n",
        "plt.plot(genfel)\n",
        "plt.ylabel(\"Genomsnittligt kvadrerat fel\")\n",
        "plt.xlabel(\"Epok\")\n",
        "plt.show()"
      ],
      "metadata": {
        "colab": {
          "base_uri": "https://localhost:8080/",
          "height": 366
        },
        "id": "J1hnNBlq03Xo",
        "outputId": "ffcdbc27-eef2-426e-fb9f-5b724d5744e7"
      },
      "execution_count": null,
      "outputs": [
        {
          "output_type": "stream",
          "name": "stdout",
          "text": [
            "0.22909294806325006\n",
            "\n",
            "w_0 = 1.1174411495248908\n",
            "w_1 = 0.6173137120154029\n",
            "b = -1.028659992197887\n"
          ]
        },
        {
          "output_type": "display_data",
          "data": {
            "text/plain": [
              "<Figure size 432x288 with 1 Axes>"
            ],
            "image/png": "[encoded data removed]"
          },
          "metadata": {
            "needs_background": "light"
          }
        }
      ]
    },
    {
      "cell_type": "markdown",
      "source": [
        "Testar utverderingsdata"
      ],
      "metadata": {
        "id": "xeSMj-wskEFC"
      }
    },
    {
      "cell_type": "code",
      "source": [
        "#@title\n",
        "utvärderingsdata=[[1, 0, 1, 1, 1], [1, 0, 0, 0, 0], [0, 0, 1, 1, 1], [1, 1, 1, 1, 0], [1, 1, 0, 1, 0], [0, 1, 0, 1, 1], [1, 1, 1, 1, 1], [1, 1, 0, 0, 0], [0, 0, 1, 1, 0], [1, 1, 1, 1, 1], [1, 0, 1, 0, 0], [0, 1, 0, 1, 1], [0, 0, 1, 1, 0], [1, 0, 1, 0, 1], [0, 1, 1, 1, 0], [0, 1, 1, 1, 1], [1, 0, 0, 1, 0], [0, 1, 1, 1, 1], [0, 1, 0, 1, 0], [1, 0, 1, 1, 1], [1, 0, 0, 0, 1], [0, 1, 1, 0, 0], [0, 1, 1, 1, 0], [1, 1, 1, 1, 0], [1, 1, 1, 1, 0], [1, 0, 1, 1, 1], [0, 0, 0, 0, 1], [1, 0, 0, 0, 0], [0, 1, 1, 1, 1], [0, 1, 0, 1, 0], [1, 1, 0, 1, 1], [1, 1, 1, 1, 0], [1, 1, 1, 1, 1], [1, 1, 0, 1, 1], [0, 1, 1, 1, 0], [1, 0, 1, 0, 0], [0, 0, 1, 1, 1], [1, 1, 0, 1, 0], [0, 1, 1, 1, 0], [1, 1, 0, 1, 0], [0, 1, 0, 0, 0], [0, 1, 1, 1, 1], [1, 0, 1, 1, 1], [0, 0, 1, 1, 1], [1, 0, 1, 0, 0], [0, 1, 0, 1, 0], [0, 0, 0, 0, 1], [1, 0, 1, 0, 0], [0, 1, 1, 1, 0], [1, 1, 0, 1, 0], [1, 0, 1, 1, 1], [0, 0, 1, 1, 1], [1, 0, 0, 0, 1], [1, 0, 1, 1, 1], [1, 1, 0, 1, 1], [0, 0, 1, 1, 1]]\n",
        "utvärderingsetikett=[1, 0, 1, 1, 0, 1, 1, 0, 1, 1, 0, 0, 1, 0, 0, 1, 0, 0, 1, 1, 0, 0, 1, 1, 1, 1, 1, 0, 1, 0, 0, 1, 1, 1, 1, 0, 1, 0, 1, 0, 1, 0, 0, 1, 0, 1, 0, 0, 1, 0, 1, 1, 0, 1, 1, 1]\n",
        "\n",
        "\n",
        "def sigma(x):\n",
        "    return 1 / (1 + np.exp(-x))\n",
        "\n",
        "w_3 = 1.1174411495248908\n",
        "w_4 = 0.6173137120154029\n",
        "b = -1.028659992197887\n",
        "X = np.array(utvärderingsdata)\n",
        "Y = np.array(utvärderingsetikett)\n",
        "n = 0\n",
        "temp1 = 0\n",
        "while n < (len(utvärderingsdata)):\n",
        "  x = X[n]\n",
        "  x_3 = x[3]\n",
        "  x_4 = x[4]\n",
        "  y = Y[n]\n",
        "  y_hat = sigma(w_4 * x_4 + w_3 * x_3 + b)\n",
        "  temp1 += (y_hat - y) ** 2\n",
        "  n += 1\n",
        "print(temp1/len(utvärderingsdata))"
      ],
      "metadata": {
        "colab": {
          "base_uri": "https://localhost:8080/"
        },
        "id": "6V8l-HcU2EQ2",
        "outputId": "1b1289ae-3c25-412f-b3d6-d1cf78c2c81d"
      },
      "execution_count": null,
      "outputs": [
        {
          "output_type": "stream",
          "name": "stdout",
          "text": [
            "0.19553919456678456\n"
          ]
        }
      ]
    },
    {
      "cell_type": "markdown",
      "source": [
        "Kod som vänder på listan med etiketter och perceptroner och fördelar dem med samma förhållande som tidigare.\n",
        "(tottenham)"
      ],
      "metadata": {
        "id": "1BLBLEMhdpji"
      }
    },
    {
      "cell_type": "code",
      "source": [
        "#@title\n",
        "perceptronlista = [[0, 1, 1, 1, 1], [0, 1, 1, 1, 0], [1, 1, 0, 1, 1], [0, 0, 1, 0, 1], [1, 0, 0, 0, 0], [1, 1, 0, 1, 1], [0, 0, 1, 1, 0], [1, 1, 1, 1, 1], [1, 0, 1, 1, 0], [1, 1, 1, 0, 1], [1, 1, 0, 0, 0], [0, 1, 1, 0, 1], [1, 0, 0, 1, 0], [0, 0, 1, 0, 0], [0, 1, 1, 1, 1], [0, 1, 1, 1, 0], [1, 0, 1, 1, 0], [0, 0, 0, 1, 1], [1, 1, 0, 1, 1], [1, 1, 1, 1, 1], [0, 0, 0, 1, 0], [1, 1, 1, 1, 0], [1, 0, 1, 0, 1], [0, 1, 1, 1, 0], [0, 0, 0, 0, 1], [0, 1, 1, 1, 1], [1, 0, 1, 1, 0], [0, 1, 0, 0, 0], [0, 0, 0, 1, 0], [0, 1, 1, 1, 1], [1, 0, 1, 1, 0], [1, 0, 1, 1, 1], [1, 1, 1, 0, 0], [0, 1, 1, 1, 0], [1, 0, 1, 1, 0], [0, 1, 0, 0, 1], [0, 0, 1, 1, 0], [0, 1, 1, 1, 1], [1, 0, 0, 0, 0], [0, 1, 0, 1, 1], [1, 1, 1, 1, 0], [0, 0, 0, 1, 1], [1, 1, 1, 1, 1], [0, 0, 1, 1, 0], [1, 0, 1, 0, 1], [1, 1, 1, 1, 0], [1, 0, 0, 1, 1], [1, 1, 1, 1, 0], [0, 0, 0, 0, 1], [0, 1, 1, 1, 0], [1, 0, 0, 0, 0], [0, 0, 0, 1, 1], [1, 0, 1, 1, 0], [1, 0, 0, 1, 0], [0, 1, 1, 1, 0], [1, 0, 1, 0, 1], [0, 0, 1, 1, 0], [0, 0, 1, 1, 1], [1, 1, 0, 1, 1], [1, 0, 1, 1, 1], [1, 0, 0, 0, 1], [0, 0, 1, 1, 1], [1, 0, 1, 1, 1], [1, 1, 0, 1, 0], [0, 1, 1, 1, 0], [1, 0, 1, 0, 0], [0, 0, 0, 0, 1], [0, 1, 0, 1, 0], [1, 0, 1, 0, 0], [0, 0, 1, 1, 1], [1, 0, 1, 1, 1], [0, 1, 1, 1, 1], [0, 1, 0, 0, 0], [1, 1, 0, 1, 0], [0, 1, 1, 1, 0], [1, 1, 0, 1, 0], [0, 0, 1, 1, 1], [1, 0, 1, 0, 0], [0, 1, 1, 1, 0], [1, 1, 0, 1, 1], [1, 1, 1, 1, 1], [1, 1, 1, 1, 0], [1, 1, 0, 1, 1], [0, 1, 0, 1, 0], [0, 1, 1, 1, 1], [1, 0, 0, 0, 0], [0, 0, 0, 0, 1], [1, 0, 1, 1, 1], [1, 1, 1, 1, 0]]\n",
        "etikettlista = [0, 1, 0, 1, 1, 0, 1, 1, 1, 1, 0, 1, 0, 0, 0, 1, 0, 1, 1, 0, 1, 1, 0, 0, 0, 1, 0, 0, 0, 1, 1, 1, 0, 1, 0, 0, 0, 1, 0, 1, 0, 1, 0, 1, 1, 1, 1, 0, 0, 1, 0, 1, 1, 0, 1, 0, 0, 1, 1, 1, 0, 1, 1, 0, 1, 0, 0, 1, 0, 1, 0, 0, 1, 0, 1, 0, 1, 0, 1, 1, 1, 1, 0, 0, 1, 0, 1, 1, 1]\n",
        "\n",
        "perceptronlista2 = [[1, 0, 1, 1, 1], [1, 0, 0, 0, 0], [0, 0, 1, 1, 1], [1, 1, 1, 1, 0], [1, 1, 0, 1, 0], [0, 1, 0, 1, 1], [1, 1, 1, 1, 1], [1, 1, 0, 0, 0], [0, 0, 1, 1, 0], [1, 1, 1, 1, 1], [1, 0, 1, 0, 0], [0, 1, 0, 1, 1], [0, 0, 1, 1, 0], [1, 0, 1, 0, 1], [0, 1, 1, 1, 0], [0, 1, 1, 1, 1], [1, 0, 0, 1, 0], [0, 1, 1, 1, 1], [0, 1, 0, 1, 0], [1, 0, 1, 1, 1], [1, 0, 0, 0, 1], [0, 1, 1, 0, 0], [0, 1, 1, 1, 0], [1, 1, 1, 1, 0]]\n",
        "etikettlista2 = [1, 0, 1, 1, 0, 1, 1, 0, 1, 1, 0, 0, 1, 0, 0, 1, 0, 0, 1, 1, 0, 0, 1, 1]\n",
        "\n",
        "for i in perceptronlista2:\n",
        "  perceptronlista.append(i)\n",
        "\n",
        "for i in etikettlista2:\n",
        "  etikettlista.append(i)\n",
        "\n",
        "revperceptronlista = []\n",
        "revetikettlista = []\n",
        "\n",
        "x = len(perceptronlista)\n",
        "\n",
        "for i in range(x):\n",
        "  revperceptronlista.append(perceptronlista[-1])\n",
        "  perceptronlista.pop(-1)\n",
        "\n",
        "for i in range(x):\n",
        "  revetikettlista.append(etikettlista[-1])\n",
        "  etikettlista.pop(-1)\n",
        "\n",
        "rev2per = []\n",
        "rev2eti = []\n",
        "\n",
        "for i in range(89):\n",
        "  rev2per.append(revperceptronlista[0])\n",
        "  revperceptronlista.pop(0)\n",
        "  rev2eti.append(revetikettlista[0])\n",
        "  revetikettlista.pop(0)\n",
        "\n",
        "print(rev2per)\n",
        "print(rev2eti)\n",
        "\n",
        "print(revperceptronlista)\n",
        "print(revetikettlista)"
      ],
      "metadata": {
        "colab": {
          "base_uri": "https://localhost:8080/"
        },
        "id": "UADjVYL2bqf-",
        "outputId": "6a6eb210-a9a3-4451-d5a8-5a69da5744c9"
      },
      "execution_count": null,
      "outputs": [
        {
          "output_type": "stream",
          "name": "stdout",
          "text": [
            "[[1, 1, 1, 1, 0], [0, 1, 1, 1, 0], [0, 1, 1, 0, 0], [1, 0, 0, 0, 1], [1, 0, 1, 1, 1], [0, 1, 0, 1, 0], [0, 1, 1, 1, 1], [1, 0, 0, 1, 0], [0, 1, 1, 1, 1], [0, 1, 1, 1, 0], [1, 0, 1, 0, 1], [0, 0, 1, 1, 0], [0, 1, 0, 1, 1], [1, 0, 1, 0, 0], [1, 1, 1, 1, 1], [0, 0, 1, 1, 0], [1, 1, 0, 0, 0], [1, 1, 1, 1, 1], [0, 1, 0, 1, 1], [1, 1, 0, 1, 0], [1, 1, 1, 1, 0], [0, 0, 1, 1, 1], [1, 0, 0, 0, 0], [1, 0, 1, 1, 1], [1, 1, 1, 1, 0], [1, 0, 1, 1, 1], [0, 0, 0, 0, 1], [1, 0, 0, 0, 0], [0, 1, 1, 1, 1], [0, 1, 0, 1, 0], [1, 1, 0, 1, 1], [1, 1, 1, 1, 0], [1, 1, 1, 1, 1], [1, 1, 0, 1, 1], [0, 1, 1, 1, 0], [1, 0, 1, 0, 0], [0, 0, 1, 1, 1], [1, 1, 0, 1, 0], [0, 1, 1, 1, 0], [1, 1, 0, 1, 0], [0, 1, 0, 0, 0], [0, 1, 1, 1, 1], [1, 0, 1, 1, 1], [0, 0, 1, 1, 1], [1, 0, 1, 0, 0], [0, 1, 0, 1, 0], [0, 0, 0, 0, 1], [1, 0, 1, 0, 0], [0, 1, 1, 1, 0], [1, 1, 0, 1, 0], [1, 0, 1, 1, 1], [0, 0, 1, 1, 1], [1, 0, 0, 0, 1], [1, 0, 1, 1, 1], [1, 1, 0, 1, 1], [0, 0, 1, 1, 1], [0, 0, 1, 1, 0], [1, 0, 1, 0, 1], [0, 1, 1, 1, 0], [1, 0, 0, 1, 0], [1, 0, 1, 1, 0], [0, 0, 0, 1, 1], [1, 0, 0, 0, 0], [0, 1, 1, 1, 0], [0, 0, 0, 0, 1], [1, 1, 1, 1, 0], [1, 0, 0, 1, 1], [1, 1, 1, 1, 0], [1, 0, 1, 0, 1], [0, 0, 1, 1, 0], [1, 1, 1, 1, 1], [0, 0, 0, 1, 1], [1, 1, 1, 1, 0], [0, 1, 0, 1, 1], [1, 0, 0, 0, 0], [0, 1, 1, 1, 1], [0, 0, 1, 1, 0], [0, 1, 0, 0, 1], [1, 0, 1, 1, 0], [0, 1, 1, 1, 0], [1, 1, 1, 0, 0], [1, 0, 1, 1, 1], [1, 0, 1, 1, 0], [0, 1, 1, 1, 1], [0, 0, 0, 1, 0], [0, 1, 0, 0, 0], [1, 0, 1, 1, 0], [0, 1, 1, 1, 1], [0, 0, 0, 0, 1]]\n",
            "[1, 1, 0, 0, 1, 1, 0, 0, 1, 0, 0, 1, 0, 0, 1, 1, 0, 1, 1, 0, 1, 1, 0, 1, 1, 1, 1, 0, 1, 0, 0, 1, 1, 1, 1, 0, 1, 0, 1, 0, 1, 0, 0, 1, 0, 1, 0, 0, 1, 0, 1, 1, 0, 1, 1, 1, 0, 0, 1, 0, 1, 1, 0, 1, 0, 0, 1, 1, 1, 1, 0, 1, 0, 1, 0, 1, 0, 0, 0, 1, 0, 1, 1, 1, 0, 0, 0, 1, 0]\n",
            "[[0, 1, 1, 1, 0], [1, 0, 1, 0, 1], [1, 1, 1, 1, 0], [0, 0, 0, 1, 0], [1, 1, 1, 1, 1], [1, 1, 0, 1, 1], [0, 0, 0, 1, 1], [1, 0, 1, 1, 0], [0, 1, 1, 1, 0], [0, 1, 1, 1, 1], [0, 0, 1, 0, 0], [1, 0, 0, 1, 0], [0, 1, 1, 0, 1], [1, 1, 0, 0, 0], [1, 1, 1, 0, 1], [1, 0, 1, 1, 0], [1, 1, 1, 1, 1], [0, 0, 1, 1, 0], [1, 1, 0, 1, 1], [1, 0, 0, 0, 0], [0, 0, 1, 0, 1], [1, 1, 0, 1, 1], [0, 1, 1, 1, 0], [0, 1, 1, 1, 1]]\n",
            "[0, 0, 1, 1, 0, 1, 1, 0, 1, 0, 0, 0, 1, 0, 1, 1, 1, 1, 0, 1, 1, 0, 1, 0]\n"
          ]
        }
      ]
    },
    {
      "cell_type": "markdown",
      "source": [
        "Kod för att testa omvänd ordning"
      ],
      "metadata": {
        "id": "Z9P47c-SgSOA"
      }
    },
    {
      "cell_type": "code",
      "source": [
        "#@title\n",
        "#träningsdata\n",
        "perceptronlista = [[1, 1, 1, 1, 0], [0, 1, 1, 1, 0], [0, 1, 1, 0, 0], [1, 0, 0, 0, 1], [1, 0, 1, 1, 1], [0, 1, 0, 1, 0], [0, 1, 1, 1, 1], [1, 0, 0, 1, 0], [0, 1, 1, 1, 1], [0, 1, 1, 1, 0], [1, 0, 1, 0, 1], [0, 0, 1, 1, 0], [0, 1, 0, 1, 1], [1, 0, 1, 0, 0], [1, 1, 1, 1, 1], [0, 0, 1, 1, 0], [1, 1, 0, 0, 0], [1, 1, 1, 1, 1], [0, 1, 0, 1, 1], [1, 1, 0, 1, 0], [1, 1, 1, 1, 0], [0, 0, 1, 1, 1], [1, 0, 0, 0, 0], [1, 0, 1, 1, 1], [1, 1, 1, 1, 0], [1, 0, 1, 1, 1], [0, 0, 0, 0, 1], [1, 0, 0, 0, 0], [0, 1, 1, 1, 1], [0, 1, 0, 1, 0], [1, 1, 0, 1, 1], [1, 1, 1, 1, 0], [1, 1, 1, 1, 1], [1, 1, 0, 1, 1], [0, 1, 1, 1, 0], [1, 0, 1, 0, 0], [0, 0, 1, 1, 1], [1, 1, 0, 1, 0], [0, 1, 1, 1, 0], [1, 1, 0, 1, 0], [0, 1, 0, 0, 0], [0, 1, 1, 1, 1], [1, 0, 1, 1, 1], [0, 0, 1, 1, 1], [1, 0, 1, 0, 0], [0, 1, 0, 1, 0], [0, 0, 0, 0, 1], [1, 0, 1, 0, 0], [0, 1, 1, 1, 0], [1, 1, 0, 1, 0], [1, 0, 1, 1, 1], [0, 0, 1, 1, 1], [1, 0, 0, 0, 1], [1, 0, 1, 1, 1], [1, 1, 0, 1, 1], [0, 0, 1, 1, 1], [0, 0, 1, 1, 0], [1, 0, 1, 0, 1], [0, 1, 1, 1, 0], [1, 0, 0, 1, 0], [1, 0, 1, 1, 0], [0, 0, 0, 1, 1], [1, 0, 0, 0, 0], [0, 1, 1, 1, 0], [0, 0, 0, 0, 1], [1, 1, 1, 1, 0], [1, 0, 0, 1, 1], [1, 1, 1, 1, 0], [1, 0, 1, 0, 1], [0, 0, 1, 1, 0], [1, 1, 1, 1, 1], [0, 0, 0, 1, 1], [1, 1, 1, 1, 0], [0, 1, 0, 1, 1], [1, 0, 0, 0, 0], [0, 1, 1, 1, 1], [0, 0, 1, 1, 0], [0, 1, 0, 0, 1], [1, 0, 1, 1, 0], [0, 1, 1, 1, 0], [1, 1, 1, 0, 0], [1, 0, 1, 1, 1], [1, 0, 1, 1, 0], [0, 1, 1, 1, 1], [0, 0, 0, 1, 0], [0, 1, 0, 0, 0], [1, 0, 1, 1, 0], [0, 1, 1, 1, 1], [0, 0, 0, 0, 1]]\n",
        "etikettlista = [1, 1, 0, 0, 1, 1, 0, 0, 1, 0, 0, 1, 0, 0, 1, 1, 0, 1, 1, 0, 1, 1, 0, 1, 1, 1, 1, 0, 1, 0, 0, 1, 1, 1, 1, 0, 1, 0, 1, 0, 1, 0, 0, 1, 0, 1, 0, 0, 1, 0, 1, 1, 0, 1, 1, 1, 0, 0, 1, 0, 1, 1, 0, 1, 0, 0, 1, 1, 1, 1, 0, 1, 0, 1, 0, 1, 0, 0, 0, 1, 0, 1, 1, 1, 0, 0, 0, 1, 0]\n",
        "\n",
        "#utvärderingsdata\n",
        "perceptronlista2 = [[0, 1, 1, 1, 0], [1, 0, 1, 0, 1], [1, 1, 1, 1, 0], [0, 0, 0, 1, 0], [1, 1, 1, 1, 1], [1, 1, 0, 1, 1], [0, 0, 0, 1, 1], [1, 0, 1, 1, 0], [0, 1, 1, 1, 0], [0, 1, 1, 1, 1], [0, 0, 1, 0, 0], [1, 0, 0, 1, 0], [0, 1, 1, 0, 1], [1, 1, 0, 0, 0], [1, 1, 1, 0, 1], [1, 0, 1, 1, 0], [1, 1, 1, 1, 1], [0, 0, 1, 1, 0], [1, 1, 0, 1, 1], [1, 0, 0, 0, 0], [0, 0, 1, 0, 1], [1, 1, 0, 1, 1], [0, 1, 1, 1, 0], [0, 1, 1, 1, 1]]\n",
        "etikettlista2 = [0, 0, 1, 1, 0, 1, 1, 0, 1, 0, 0, 0, 1, 0, 1, 1, 1, 1, 0, 1, 1, 0, 1, 0]\n",
        "\n",
        "import matplotlib.pyplot as plt\n",
        "import numpy as np\n",
        "def sigma(x):\n",
        "    return 1 / (1 + np.exp(-x))\n",
        "\n",
        "X = np.array(perceptronlista)\n",
        "Y = np.array(etikettlista)\n",
        "Xn = np.array(perceptronlista2)\n",
        "Yn = np.array(etikettlista2)\n",
        "\n",
        "w_0 = 1\n",
        "w_1 = 1\n",
        "w_2 = 1\n",
        "w_3 = 1\n",
        "w_4 = 1\n",
        "b = 0\n",
        "alpha = 0.1\n",
        "epochs = 5000\n",
        "e = 0\n",
        "genfel = []\n",
        "genfelu = []\n",
        "\n",
        "while e < epochs:\n",
        "    dw_0 = 0\n",
        "    dw_1 = 0\n",
        "    dw_2 = 0\n",
        "    dw_3 = 0\n",
        "    dw_4 = 0\n",
        "    db = 0\n",
        "    n = 0\n",
        "    while n < len(perceptronlista):\n",
        "        x = X[n]\n",
        "        x_0 = x[0]\n",
        "        x_1 = x[1]\n",
        "        x_2 = x[2]\n",
        "        x_3 = x[3]\n",
        "        x_4 = x[4]\n",
        "        y = Y[n]\n",
        "        y_hat = sigma(w_4 * x_4 + w_3 * x_3 + w_2 * x_2 + w_0 * x_0 + w_1 * x_1 + b)\n",
        "        dw_0 += 2 * (y_hat - y) * y_hat * (1 - y_hat) * x_0 / len(perceptronlista)\n",
        "        dw_1 += 2 * (y_hat - y) * y_hat * (1 - y_hat) * x_1 / len(perceptronlista)\n",
        "        dw_2 += 2 * (y_hat - y) * y_hat * (1 - y_hat) * x_2 / len(perceptronlista)\n",
        "        dw_3 += 2 * (y_hat - y) * y_hat * (1 - y_hat) * x_3 / len(perceptronlista)\n",
        "        dw_4 += 2 * (y_hat - y) * y_hat * (1 - y_hat) * x_4 / len(perceptronlista)\n",
        "        db += 2 * (y_hat - y) * y_hat * (1 - y_hat) / len(perceptronlista)\n",
        "        n += 1\n",
        "    w_0 -= alpha * dw_0\n",
        "    w_1 -= alpha * dw_1\n",
        "    w_2 -= alpha * dw_2\n",
        "    w_3 -= alpha * dw_3\n",
        "    w_4 -= alpha * dw_4\n",
        "    b -= alpha * db\n",
        "    n = 0\n",
        "    temp1 = 0\n",
        "\n",
        "    nu = 0\n",
        "    temp1u = 0\n",
        "    y_hatn = 0\n",
        "    yn = 0\n",
        "\n",
        "    while n < len(perceptronlista):\n",
        "      x = X[n]\n",
        "      x_0 = x[0]\n",
        "      x_1 = x[1]\n",
        "      x_2 = x[2]\n",
        "      x_3 = x[3]\n",
        "      x_4 = x[4]\n",
        "      y = Y[n]\n",
        "      y_hat = sigma(w_4 * x_4 + w_3 * x_3 + w_2 * x_2 + w_0 * x_0 + w_1 * x_1 + b)\n",
        "      #print(x, y, y_hat, sep=\"\\t\")\n",
        "      temp1 += (y_hat - y) ** 2\n",
        "      n += 1\n",
        "    #print(temp1/len(perceptronlista)) #genomsnittliga kvadrerade felet\n",
        "    genfel.append(temp1/len(perceptronlista))\n",
        "\n",
        "    while nu < (len(perceptronlista2)):\n",
        "      \n",
        "      xn = Xn[nu]\n",
        "      ux_0 = xn[0]\n",
        "      ux_1 = xn[1]\n",
        "      ux_2 = xn[2]\n",
        "      ux_3 = xn[3]\n",
        "      ux_4 = xn[4]\n",
        "      yn = Yn[nu]\n",
        "      y_hatn = sigma(w_4 * ux_4 + w_3 * ux_3 + w_2 * ux_2 + w_1 * ux_1 + w_0 * ux_0 + b)\n",
        "      temp1u += (y_hatn - yn) ** 2\n",
        "      #print(y_hatn, yn)\n",
        "      nu += 1\n",
        "\n",
        "    genfelu.append(temp1u/len(etikettlista2))\n",
        "\n",
        "    e += 1\n",
        "print(temp1/len(perceptronlista))\n",
        "print(temp1u/len(perceptronlista2))\n",
        "\n",
        "\n",
        "\n",
        "\n",
        "print()\n",
        "print(\"w_0 =\", w_0)\n",
        "print(\"w_1 =\", w_1)\n",
        "print(\"w_2 =\", w_2)\n",
        "print(\"w_3 =\", w_3)\n",
        "print(\"w_4 =\", w_4)\n",
        "print(\"b =\", b)\n",
        "#print(genfel)\n",
        "\n",
        "plt.plot(genfel)\n",
        "plt.plot(genfelu)\n",
        "plt.ylabel(\"Genomsnittligt kvadrerat fel\")\n",
        "plt.xlabel(\"Epoker\")\n",
        "plt.show()\n",
        "\n",
        "\n",
        "\n"
      ],
      "metadata": {
        "colab": {
          "base_uri": "https://localhost:8080/",
          "height": 435
        },
        "collapsed": true,
        "id": "7QKKDoF_ZZW7",
        "outputId": "c40a211f-40f7-4d0e-96e4-be61e41ae501"
      },
      "execution_count": null,
      "outputs": [
        {
          "output_type": "stream",
          "name": "stdout",
          "text": [
            "0.15488342985175296\n",
            "0.29909351285384245\n",
            "\n",
            "w_0 = -0.9708534403566775\n",
            "w_1 = 0.322641320836191\n",
            "w_2 = 1.3737218841347278\n",
            "w_3 = 2.3093493751702114\n",
            "w_4 = 1.5007615409164616\n",
            "b = -2.6760803137925993\n"
          ]
        },
        {
          "output_type": "display_data",
          "data": {
            "text/plain": [
              "<Figure size 432x288 with 1 Axes>"
            ],
            "image/png": "[encoded data removed]"
          },
          "metadata": {
            "needs_background": "light"
          }
        }
      ]
    },
    {
      "cell_type": "markdown",
      "source": [
        "Testar utverderingsdata"
      ],
      "metadata": {
        "id": "sPi1b2tLjsDD"
      }
    },
    {
      "cell_type": "code",
      "source": [
        "#@title\n",
        "Uperceptroner = [[0, 1, 1, 1, 0], [1, 0, 1, 0, 1], [1, 1, 1, 1, 0], [0, 0, 0, 1, 0], [1, 1, 1, 1, 1], [1, 1, 0, 1, 1], [0, 0, 0, 1, 1], [1, 0, 1, 1, 0], [0, 1, 1, 1, 0], [0, 1, 1, 1, 1], [0, 0, 1, 0, 0], [1, 0, 0, 1, 0], [0, 1, 1, 0, 1], [1, 1, 0, 0, 0], [1, 1, 1, 0, 1], [1, 0, 1, 1, 0], [1, 1, 1, 1, 1], [0, 0, 1, 1, 0], [1, 1, 0, 1, 1], [1, 0, 0, 0, 0], [0, 0, 1, 0, 1], [1, 1, 0, 1, 1], [0, 1, 1, 1, 0], [0, 1, 1, 1, 1]]\n",
        "Uetiketter = [0, 0, 1, 1, 0, 1, 1, 0, 1, 0, 0, 0, 1, 0, 1, 1, 1, 1, 0, 1, 1, 0, 1, 0]\n",
        "def sigma(x):\n",
        "    return 1 / (1 + np.exp(-x))\n",
        "\n",
        "uw_0 = -0.8036208130266569\n",
        "uw_1 = 0.27686837060705183\n",
        "uw_2 = 1.0074243404272982\n",
        "uw_3 = 1.5113619083456757\n",
        "uw_4 = 1.0002534341344966\n",
        "ub = -1.6781642234085403\n",
        "uX = np.array(Uperceptroner)\n",
        "uY = np.array(Uetiketter)\n",
        "un = 0\n",
        "utemp1 = 0\n",
        "\n",
        "while un < (len(Uperceptroner)):\n",
        "  ux = uX[un]\n",
        "  ux_0 = ux[0]\n",
        "  ux_1 = ux[1]\n",
        "  ux_2 = ux[2]\n",
        "  ux_3 = ux[3]\n",
        "  ux_4 = ux[4]\n",
        "  uy = uY[un]\n",
        "  uy_hat = sigma(w_4 * x_4 + w_3 * x_3 + w_2 * x_2 + w_0 * x_0 + w_1 * x_1 + b)\n",
        "  utemp1 += (y_hat - uy) ** 2\n",
        "  un += 1\n",
        "print(utemp1/len(Uperceptroner))"
      ],
      "metadata": {
        "colab": {
          "base_uri": "https://localhost:8080/"
        },
        "id": "Qo9-2QBQaxVX",
        "outputId": "43b2c27f-071e-4a02-9f11-faaa13ea35ce"
      },
      "execution_count": null,
      "outputs": [
        {
          "output_type": "stream",
          "name": "stdout",
          "text": [
            "0.2902638475603186\n"
          ]
        }
      ]
    },
    {
      "cell_type": "markdown",
      "source": [
        "Tar fram data om Chelsea\n"
      ],
      "metadata": {
        "id": "VzEw0rQ6ohYE"
      }
    },
    {
      "cell_type": "code",
      "source": [
        "import pandas as pd\n",
        "import numpy as np\n",
        "path = \"/content/final_dataset.csv\"\n",
        "results = [] # Målskillnad för valt lag\n",
        "formdiff = []\n",
        "selected_team = \"Chelsea\" # Välj lag\n",
        "with open(path, \"r\") as f:\n",
        "    for line in f:\n",
        "        match_data = line.split(\",\")\n",
        "        if match_data[2] == selected_team:\n",
        "            results += [int(match_data[4]) - int(match_data[5])]\n",
        "        if match_data[3] == selected_team:\n",
        "            results += [int(match_data[5]) - int(match_data[4])]\n",
        "\n",
        "#formfaktor.\n",
        "with open(path, \"r\") as f:\n",
        "  for line in f:\n",
        "    match_data = line.split(\",\")\n",
        "    if match_data[2] == selected_team:\n",
        "      formdiff += [int(match_data[26]) - int(match_data[27])]\n",
        "    if match_data[3] == selected_team:\n",
        "      formdiff += [int(match_data[27]) - int(match_data[26])]\n",
        "\n",
        "#hemma/borta\n",
        "hemmaborta = []\n",
        "with open(path, \"r\") as f:\n",
        "  for line in f: \n",
        "    match_data = line.split(\",\")\n",
        "    if match_data[2] == selected_team:\n",
        "      hemmaborta.append(1)\n",
        "    if match_data[3] == selected_team:\n",
        "      hemmaborta.append(0)\n",
        "\n",
        "#gör om datan i formdiff till 1/0\n",
        "formdifffix = []\n",
        "for i in formdiff:\n",
        "  if int(i) < 0 or int(i) == 0:\n",
        "    formdifffix.append(0)\n",
        "  else:\n",
        "    formdifffix.append(1)\n",
        "\n",
        "#big6\n",
        "big6 = []\n",
        "with open(path, \"r\") as f:\n",
        "  for line in f: \n",
        "    match_data = line.split(\",\")\n",
        "    if match_data[2] == selected_team:\n",
        "      if match_data[3] == \"Arsenal\" or match_data[3] == \"Man United\" or match_data[3] == \"Man City\" or match_data[3] == \"Liverpool\" or match_data[3] == \"Tottenham\":\n",
        "        big6.append(0)\n",
        "      else:\n",
        "        big6.append(1)\n",
        "    if match_data[3] == selected_team:\n",
        "      if match_data[2] == \"Arsenal\" or match_data[2] == \"Man United\" or match_data[2] == \"Man City\" or match_data[2] == \"Liverpool\" or match_data[2] == \"Tottenham\":\n",
        "        big6.append(0)\n",
        "      else:\n",
        "        big6.append(1)\n",
        "\n",
        "print(*results)\n",
        "wins = np.array(np.array(results) > 0, dtype=int) # Vinster för valt lag. 1: vinst, 0: lika eller förlust\n",
        "print(*wins)\n",
        "print(len(results))\n",
        "print(\"formdiff: \", formdiff)\n",
        "print(\"formdifffix: \", formdifffix)\n",
        "print(\"hemmaborta: \", hemmaborta)\n",
        "print(\"big6: \", big6)\n",
        "\n",
        "biglist = []\n",
        "\n",
        "for i in range(len(big6)):\n",
        "  temp = []\n",
        "  temp.append(formdifffix[int(i)])\n",
        "  temp.append(hemmaborta[int(i)])\n",
        "  temp.append(big6[int(i)])\n",
        "  biglist.append(temp)\n",
        "print(biglist)"
      ],
      "metadata": {
        "colab": {
          "base_uri": "https://localhost:8080/"
        },
        "id": "tMJmTitrof6f",
        "outputId": "af945a6c-1f6f-4439-cce6-47905971c6e6"
      },
      "execution_count": null,
      "outputs": [
        {
          "output_type": "stream",
          "name": "stdout",
          "text": [
            "2 -2 0 0 0 -2 0 3 -1 5 3 -1 0 -2 -1 1 3 -1 3 0 1 0 3 2 -1 0 0 2 -2 1 4 1 3 -1 -2 1 0 1 0 2 0 1 0 0 2 0 -1 0 1 0 0 3 -1 0 4 4 -1 1 -2 0 4 2 1 0 -1 1 4 4 -1 1 0 3 0 -3 2 -2 1 0 0 0 1 3 0 -1 -1 3 2 0 3 1 0 3 2 0 2 0 -2 -1 3 -1 1 0 2 -1 -1 2 5 1 1 -1 3 0 -1 1 1 1 0 2 5 1 1 0 -1 1 1 5 1 1 0 -1 1 -2 3 -1 4 0 1 1 2 -1 1 2 1 3 1 0 -1 0 -1 4 0 1 1 1 2 1 0 0 1 1 -1 4 3 1 3 0 4 4 0 4 1 2 1 2 2 3 1 0 1 2 1 3 2 0 0 2 2 1 2 0 1 1 4 2 2 2 1 3 4 0 2 -1 3 2 1 1 2 1 1 2 2 1 0 0 2 -3 2 1 1 -1 2 0 3 2 3 3 -1 -1 3 -1 2 1 1 2 0 1 1 2 -1 4 1 0 1 0 1 1 1 0 0 0 4 -2 3 1 3 2 1 3 1 1 3 0 0 0 0 0 1 1 0 1 -2 0 -2 0 1 2 6 2 0 2 1 2 -1 1 0 1 1 2 1 1 0 0 4 5 1 0 1 1 2 0 1 1 2 0 4 1 0 2 0 2 2 5 -1 3 5 2 3 0 -1 2 0 0 2 0 -3 1 2 -2 0 1 1 1 1 -1 2 1 0 1 2 3 2 1 1 2 2 3 1 3 -2 2 -1 5 4 1 4 3 -1 0 1 0 0 1 5 3 1 0 2 -1 2 -2 3 0 5 6 1 1 -1 7 2 8 6 6 2 2 4 -1 2 0 2 1 -2 1 -3 -1 0 0 0 -2 1 0 -1 2 4 2 -1 0 1 2 2 0 1 2 2 3 1 -1 0 -1 0 1 2 1 -2 3 4 2 -1 -2 1 -1 3 3 1 0 0 0 -2 1 1 0 0 0 -2 3 -1 1 -1 0 2 1 0 0 5 -2 -3 1 2 2 2 0 1 1 3 2 -1 0 0 -1 0 0 -2 2 8 1 1 -1 4 0 1 0 -1 3 -2 1 2 -1 1 3 0 2 1 0 1 1 2 1 0 -1 2 0 2 3 1 -2 0 3 2 1 -1 1 0 1 1 3 2 2 0 1 3 0 1 2 4 -1 6 -1 3 1 -1 2 0 1 2 2 3 2 0 3 2 1 0 1 1 2 0 3 -1 2 2 2 0 -2 2 5 0 1 1 0 1 0 1 1 1 1 0 2 1 0 -3 2 0 -3 1 -1 -2 2 0 -2 2 -1 -2 -1 1 0 -1 -1 2 0 0 3 0 0 1 0 0 4 1 1 0 0 4 -1 -3 3 0 -1 0 0 1 1 3 0 -1 -3 2 3 4 2 5 1 1 2 1 1 1 3 2 -2 3 2 0 2 0 2 1 1 -1 1 2 -2 2 3 3 1 1 4 -1 1 2 1 0 4 -1 -1 2 1 1 4 0 1 2 -1 2 1 0 2 5 0 0 4 -3 -3 3 -1 -1 1 -2 0 1 1 1 1 0 -3\n",
            "1 0 0 0 0 0 0 1 0 1 1 0 0 0 0 1 1 0 1 0 1 0 1 1 0 0 0 1 0 1 1 1 1 0 0 1 0 1 0 1 0 1 0 0 1 0 0 0 1 0 0 1 0 0 1 1 0 1 0 0 1 1 1 0 0 1 1 1 0 1 0 1 0 0 1 0 1 0 0 0 1 1 0 0 0 1 1 0 1 1 0 1 1 0 1 0 0 0 1 0 1 0 1 0 0 1 1 1 1 0 1 0 0 1 1 1 0 1 1 1 1 0 0 1 1 1 1 1 0 0 1 0 1 0 1 0 1 1 1 0 1 1 1 1 1 0 0 0 0 1 0 1 1 1 1 1 0 0 1 1 0 1 1 1 1 0 1 1 0 1 1 1 1 1 1 1 1 0 1 1 1 1 1 0 0 1 1 1 1 0 1 1 1 1 1 1 1 1 1 0 1 0 1 1 1 1 1 1 1 1 1 1 0 0 1 0 1 1 1 0 1 0 1 1 1 1 0 0 1 0 1 1 1 1 0 1 1 1 0 1 1 0 1 0 1 1 1 0 0 0 1 0 1 1 1 1 1 1 1 1 1 0 0 0 0 0 1 1 0 1 0 0 0 0 1 1 1 1 0 1 1 1 0 1 0 1 1 1 1 1 0 0 1 1 1 0 1 1 1 0 1 1 1 0 1 1 0 1 0 1 1 1 0 1 1 1 1 0 0 1 0 0 1 0 0 1 1 0 0 1 1 1 1 0 1 1 0 1 1 1 1 1 1 1 1 1 1 1 0 1 0 1 1 1 1 1 0 0 1 0 0 1 1 1 1 0 1 0 1 0 1 0 1 1 1 1 0 1 1 1 1 1 1 1 1 0 1 0 1 1 0 1 0 0 0 0 0 0 1 0 0 1 1 1 0 0 1 1 1 0 1 1 1 1 1 0 0 0 0 1 1 1 0 1 1 1 0 0 1 0 1 1 1 0 0 0 0 1 1 0 0 0 0 1 0 1 0 0 1 1 0 0 1 0 0 1 1 1 1 0 1 1 1 1 0 0 0 0 0 0 0 1 1 1 1 0 1 0 1 0 0 1 0 1 1 0 1 1 0 1 1 0 1 1 1 1 0 0 1 0 1 1 1 0 0 1 1 1 0 1 0 1 1 1 1 1 0 1 1 0 1 1 1 0 1 0 1 1 0 1 0 1 1 1 1 1 0 1 1 1 0 1 1 1 0 1 0 1 1 1 0 0 1 1 0 1 1 0 1 0 1 1 1 1 0 1 1 0 0 1 0 0 1 0 0 1 0 0 1 0 0 0 1 0 0 0 1 0 0 1 0 0 1 0 0 1 1 1 0 0 1 0 0 1 0 0 0 0 1 1 1 0 0 0 1 1 1 1 1 1 1 1 1 1 1 1 1 0 1 1 0 1 0 1 1 1 0 1 1 0 1 1 1 1 1 1 0 1 1 1 0 1 0 0 1 1 1 1 0 1 1 0 1 1 0 1 1 0 0 1 0 0 1 0 0 1 0 0 1 1 1 1 0 0\n",
            "684\n",
            "formdiff:  [0, 3, 1, -2, -4, -5, -8, -5, 0, 0, 3, 6, 1, 2, -2, 4, -4, 6, 1, 0, 5, 2, 1, 4, 10, -3, 7, 3, 6, 1, -3, 6, 3, 8, -3, 3, -6, 0, 0, 4, 1, 3, 6, 3, 4, -2, -3, 4, 5, 0, -2, 2, 4, 1, -4, 3, -2, -8, -2, 6, -1, -3, 8, 1, 5, 6, 4, 4, -3, 2, 10, 1, 3, -2, 1, 3, 0, 0, 3, -2, 1, 5, 1, 5, -3, 5, 3, 1, 0, 3, 7, 5, -1, 6, 4, 0, 4, 1, -1, -2, -6, 0, 5, 5, -6, 3, 3, 9, -1, 9, 5, 9, 2, -5, 0, 2, 3, 6, 12, 6, 6, 3, 2, 2, 5, -3, 5, 0, 12, 3, 3, 7, 3, -1, 3, 2, 1, 0, 6, -2, 5, 7, 7, 8, 8, 5, 8, 4, 0, -1, -1, 3, 0, 2, 5, 6, 5, 4, 2, 5, 4, 4, 5, 2, 6, 2, 7, 9, 5, 4, 7, 5, 3, 6, 4, 11, 6, 7, 5, 9, 5, 8, 4, 8, 0, 6, 1, 10, 4, 8, 0, 0, 2, 2, 9, 0, 10, 9, 2, 14, 8, 3, 3, 5, 3, 9, 6, 5, 9, 11, 11, 14, 7, 7, 7, 7, 7, 4, 2, 9, 6, 5, 6, 10, 5, 0, 8, -1, 0, 3, 2, 3, 5, 4, 1, 3, 4, 9, 5, 4, 6, -3, 6, 6, 0, 4, 7, 9, 6, 10, 9, -3, -3, -1, -2, 8, 12, 8, 10, 0, 6, 9, 6, -2, -1, 0, 0, 2, 2, 2, 3, 2, -2, 3, 0, 1, -5, 10, 4, 12, 7, 8, 3, 6, 7, 2, 8, 1, 5, 12, 9, 7, 4, 8, 7, 4, 4, 8, 8, 6, 6, 2, 2, 3, 0, 3, 6, 1, 5, 7, 1, 5, 0, -3, 2, 9, 11, 5, 9, -2, 5, 1, 7, 1, -4, 7, 7, 1, 10, -6, 6, 6, 3, 2, 10, 5, 4, 4, 0, 0, 7, 9, 0, 0, 3, 3, 5, 3, 12, 0, 2, 3, 1, -1, 6, 5, 8, 8, 6, 6, -5, -1, 6, 2, 10, 10, 5, 3, 8, 2, 1, 3, 1, -2, -5, 10, 1, 5, 1, 7, 0, 3, 6, 9, 5, 7, 2, 5, 9, 5, 3, 5, 2, 3, -1, 1, -6, -6, -4, 3, 0, 1, 6, 3, -1, 2, -2, 6, 2, 7, 8, 2, 5, 6, 7, 5, 7, 3, 0, 1, 2, 5, -2, 5, 12, 5, 6, 3, 7, 0, 2, -4, -4, 5, 0, 4, 5, 3, -4, 0, 0, -1, 3, 2, -4, -1, -5, 2, 1, -1, 4, -4, 2, -1, 1, 2, 0, 2, 0, 8, 6, 2, 10, 0, 1, 8, 1, -1, -8, 0, -1, -1, -1, 0, 1, 8, 6, 6, 3, 0, 4, 5, 0, 0, 3, 4, 7, 4, 2, 8, 5, 2, 1, 3, 0, 0, 2, 4, 3, -2, 2, 3, 0, 9, 2, 5, 2, 3, 4, 0, 2, 5, -2, 5, 8, 1, 11, -2, 9, 11, 7, 10, 4, 9, 6, 8, 2, 5, 8, -6, 9, 6, 0, 2, 4, 0, 5, 3, 6, 5, 3, 7, 5, 8, 8, 2, 3, 8, 6, -3, 6, -1, 6, 2, 2, 6, 4, 9, 8, 4, 3, 2, 10, -2, 0, 1, 4, 6, 3, -1, 0, -2, 0, -2, -1, -6, 5, -1, 3, -4, 0, -6, 0, -5, 2, -9, -2, -5, 3, -4, 1, 4, -1, 6, -1, 0, -4, 10, 5, 1, 11, 2, -2, 1, -4, -4, -6, -6, 0, 2, 3, 6, 3, 0, 3, 0, 2, -2, 7, 9, 8, 4, 5, 6, 11, 9, 10, 3, 7, 8, 4, 0, 4, 2, 3, 4, 4, 1, 4, -2, 2, -1, 7, 11, 9, 12, 0, -3, -1, 3, 3, 5, 0, 10, -3, 0, -1, 7, 2, 12, 12, 12, 7, 5, -1, 6, 6, 4, 7, 4, 2, 6, 1, -2, -7, 1, -9, 0, 2, -8, 8, 4, 8, 10]\n",
            "formdifffix:  [0, 1, 1, 0, 0, 0, 0, 0, 0, 0, 1, 1, 1, 1, 0, 1, 0, 1, 1, 0, 1, 1, 1, 1, 1, 0, 1, 1, 1, 1, 0, 1, 1, 1, 0, 1, 0, 0, 0, 1, 1, 1, 1, 1, 1, 0, 0, 1, 1, 0, 0, 1, 1, 1, 0, 1, 0, 0, 0, 1, 0, 0, 1, 1, 1, 1, 1, 1, 0, 1, 1, 1, 1, 0, 1, 1, 0, 0, 1, 0, 1, 1, 1, 1, 0, 1, 1, 1, 0, 1, 1, 1, 0, 1, 1, 0, 1, 1, 0, 0, 0, 0, 1, 1, 0, 1, 1, 1, 0, 1, 1, 1, 1, 0, 0, 1, 1, 1, 1, 1, 1, 1, 1, 1, 1, 0, 1, 0, 1, 1, 1, 1, 1, 0, 1, 1, 1, 0, 1, 0, 1, 1, 1, 1, 1, 1, 1, 1, 0, 0, 0, 1, 0, 1, 1, 1, 1, 1, 1, 1, 1, 1, 1, 1, 1, 1, 1, 1, 1, 1, 1, 1, 1, 1, 1, 1, 1, 1, 1, 1, 1, 1, 1, 1, 0, 1, 1, 1, 1, 1, 0, 0, 1, 1, 1, 0, 1, 1, 1, 1, 1, 1, 1, 1, 1, 1, 1, 1, 1, 1, 1, 1, 1, 1, 1, 1, 1, 1, 1, 1, 1, 1, 1, 1, 1, 0, 1, 0, 0, 1, 1, 1, 1, 1, 1, 1, 1, 1, 1, 1, 1, 0, 1, 1, 0, 1, 1, 1, 1, 1, 1, 0, 0, 0, 0, 1, 1, 1, 1, 0, 1, 1, 1, 0, 0, 0, 0, 1, 1, 1, 1, 1, 0, 1, 0, 1, 0, 1, 1, 1, 1, 1, 1, 1, 1, 1, 1, 1, 1, 1, 1, 1, 1, 1, 1, 1, 1, 1, 1, 1, 1, 1, 1, 1, 0, 1, 1, 1, 1, 1, 1, 1, 0, 0, 1, 1, 1, 1, 1, 0, 1, 1, 1, 1, 0, 1, 1, 1, 1, 0, 1, 1, 1, 1, 1, 1, 1, 1, 0, 0, 1, 1, 0, 0, 1, 1, 1, 1, 1, 0, 1, 1, 1, 0, 1, 1, 1, 1, 1, 1, 0, 0, 1, 1, 1, 1, 1, 1, 1, 1, 1, 1, 1, 0, 0, 1, 1, 1, 1, 1, 0, 1, 1, 1, 1, 1, 1, 1, 1, 1, 1, 1, 1, 1, 0, 1, 0, 0, 0, 1, 0, 1, 1, 1, 0, 1, 0, 1, 1, 1, 1, 1, 1, 1, 1, 1, 1, 1, 0, 1, 1, 1, 0, 1, 1, 1, 1, 1, 1, 0, 1, 0, 0, 1, 0, 1, 1, 1, 0, 0, 0, 0, 1, 1, 0, 0, 0, 1, 1, 0, 1, 0, 1, 0, 1, 1, 0, 1, 0, 1, 1, 1, 1, 0, 1, 1, 1, 0, 0, 0, 0, 0, 0, 0, 1, 1, 1, 1, 1, 0, 1, 1, 0, 0, 1, 1, 1, 1, 1, 1, 1, 1, 1, 1, 0, 0, 1, 1, 1, 0, 1, 1, 0, 1, 1, 1, 1, 1, 1, 0, 1, 1, 0, 1, 1, 1, 1, 0, 1, 1, 1, 1, 1, 1, 1, 1, 1, 1, 1, 0, 1, 1, 0, 1, 1, 0, 1, 1, 1, 1, 1, 1, 1, 1, 1, 1, 1, 1, 1, 0, 1, 0, 1, 1, 1, 1, 1, 1, 1, 1, 1, 1, 1, 0, 0, 1, 1, 1, 1, 0, 0, 0, 0, 0, 0, 0, 1, 0, 1, 0, 0, 0, 0, 0, 1, 0, 0, 0, 1, 0, 1, 1, 0, 1, 0, 0, 0, 1, 1, 1, 1, 1, 0, 1, 0, 0, 0, 0, 0, 1, 1, 1, 1, 0, 1, 0, 1, 0, 1, 1, 1, 1, 1, 1, 1, 1, 1, 1, 1, 1, 1, 0, 1, 1, 1, 1, 1, 1, 1, 0, 1, 0, 1, 1, 1, 1, 0, 0, 0, 1, 1, 1, 0, 1, 0, 0, 0, 1, 1, 1, 1, 1, 1, 1, 0, 1, 1, 1, 1, 1, 1, 1, 1, 0, 0, 1, 0, 0, 1, 0, 1, 1, 1, 1]\n",
            "hemmaborta:  [1, 0, 0, 1, 0, 1, 0, 1, 0, 1, 1, 0, 1, 0, 0, 1, 1, 0, 1, 0, 1, 0, 1, 1, 0, 1, 0, 0, 1, 1, 0, 1, 0, 1, 0, 1, 0, 0, 1, 0, 1, 0, 1, 0, 1, 0, 0, 0, 1, 0, 1, 0, 1, 0, 1, 1, 0, 0, 1, 0, 1, 1, 0, 0, 0, 1, 1, 1, 0, 1, 0, 1, 0, 1, 0, 1, 0, 1, 0, 1, 0, 1, 0, 1, 0, 0, 1, 0, 1, 1, 0, 1, 0, 0, 1, 1, 0, 0, 1, 0, 1, 1, 0, 1, 0, 0, 1, 0, 1, 0, 1, 1, 0, 1, 0, 1, 1, 1, 0, 1, 0, 0, 0, 1, 0, 1, 0, 1, 0, 1, 0, 0, 1, 1, 0, 1, 0, 1, 0, 1, 0, 0, 1, 1, 0, 1, 0, 1, 0, 1, 0, 1, 1, 0, 0, 1, 0, 1, 0, 1, 0, 1, 0, 1, 0, 1, 0, 1, 0, 1, 1, 0, 0, 1, 0, 1, 0, 1, 0, 0, 1, 1, 0, 1, 1, 1, 0, 1, 0, 0, 0, 1, 1, 0, 1, 0, 1, 0, 1, 0, 1, 0, 1, 0, 1, 1, 0, 1, 0, 1, 0, 0, 1, 0, 1, 0, 1, 0, 1, 0, 1, 0, 1, 0, 1, 1, 0, 0, 1, 0, 0, 1, 1, 0, 1, 0, 1, 0, 0, 1, 1, 0, 0, 1, 1, 0, 0, 1, 1, 0, 1, 0, 1, 0, 1, 0, 0, 1, 0, 1, 0, 0, 1, 0, 1, 1, 1, 0, 0, 1, 0, 1, 0, 1, 0, 0, 1, 0, 1, 0, 1, 1, 0, 0, 1, 1, 0, 1, 0, 1, 0, 1, 0, 1, 0, 0, 1, 1, 0, 1, 0, 1, 0, 1, 1, 0, 1, 0, 1, 0, 1, 0, 1, 0, 1, 0, 0, 1, 1, 0, 1, 0, 1, 0, 0, 1, 1, 0, 1, 0, 1, 0, 1, 0, 0, 1, 1, 0, 1, 0, 1, 0, 1, 0, 0, 1, 0, 1, 0, 1, 0, 1, 0, 1, 1, 0, 0, 1, 1, 0, 0, 1, 1, 1, 0, 0, 1, 0, 0, 1, 1, 0, 0, 1, 0, 1, 0, 1, 0, 1, 1, 0, 1, 0, 1, 0, 1, 0, 1, 0, 0, 1, 1, 0, 0, 1, 0, 0, 1, 1, 0, 1, 0, 0, 1, 0, 1, 0, 1, 0, 1, 0, 1, 1, 1, 0, 1, 0, 0, 1, 1, 0, 0, 1, 0, 1, 0, 1, 0, 1, 1, 0, 1, 0, 0, 1, 1, 0, 1, 0, 0, 1, 0, 1, 0, 1, 0, 1, 0, 1, 0, 0, 1, 1, 0, 1, 0, 1, 1, 0, 1, 0, 1, 0, 1, 0, 1, 0, 1, 1, 0, 0, 1, 0, 0, 1, 0, 1, 1, 0, 0, 1, 0, 1, 1, 0, 1, 0, 0, 1, 0, 1, 0, 1, 1, 1, 0, 0, 1, 0, 0, 1, 1, 0, 1, 0, 1, 0, 0, 1, 0, 1, 1, 0, 0, 1, 1, 0, 1, 0, 1, 0, 1, 0, 1, 0, 1, 0, 1, 0, 1, 0, 0, 1, 0, 1, 0, 1, 1, 0, 0, 1, 0, 1, 0, 1, 0, 1, 0, 1, 0, 0, 1, 0, 1, 0, 1, 1, 0, 1, 0, 1, 0, 1, 0, 0, 1, 1, 0, 1, 1, 0, 0, 1, 0, 1, 0, 1, 1, 0, 1, 0, 1, 0, 1, 0, 1, 1, 0, 0, 1, 1, 0, 0, 1, 1, 0, 0, 1, 1, 0, 0, 1, 0, 1, 0, 0, 1, 1, 0, 1, 0, 1, 0, 0, 1, 1, 0, 1, 0, 1, 0, 1, 0, 0, 1, 1, 0, 0, 1, 0, 1, 0, 1, 0, 0, 1, 1, 0, 0, 1, 0, 1, 0, 1, 1, 1, 0, 1, 0, 1, 0, 1, 0, 1, 0, 1, 0, 0, 1, 1, 0, 0, 1, 0, 1, 1, 0, 1, 0, 1, 0, 1, 0, 0, 1, 1, 1, 0, 0, 0, 1, 1, 0]\n",
            "big6:  [1, 1, 1, 0, 1, 1, 0, 0, 1, 1, 0, 1, 1, 1, 1, 0, 1, 1, 1, 1, 1, 0, 1, 1, 1, 0, 1, 1, 1, 1, 1, 1, 0, 1, 1, 1, 0, 0, 1, 1, 0, 0, 1, 1, 1, 1, 1, 1, 1, 1, 1, 0, 1, 1, 0, 1, 0, 1, 1, 1, 1, 1, 1, 1, 1, 1, 0, 1, 0, 1, 1, 1, 1, 0, 1, 1, 1, 0, 1, 0, 1, 1, 1, 1, 0, 0, 1, 0, 1, 1, 1, 1, 1, 1, 1, 1, 1, 0, 1, 0, 1, 0, 1, 1, 1, 1, 0, 1, 1, 1, 1, 1, 1, 0, 0, 1, 1, 0, 1, 1, 1, 1, 0, 0, 1, 1, 1, 0, 1, 1, 1, 1, 1, 0, 1, 1, 1, 1, 1, 0, 0, 1, 1, 1, 0, 1, 1, 1, 1, 1, 0, 1, 0, 1, 1, 1, 1, 0, 1, 0, 0, 1, 1, 1, 1, 1, 1, 1, 0, 1, 1, 1, 0, 1, 0, 1, 1, 0, 1, 1, 1, 1, 1, 1, 0, 1, 1, 1, 0, 1, 1, 0, 1, 0, 1, 1, 1, 0, 1, 1, 1, 0, 1, 1, 1, 1, 0, 1, 0, 1, 1, 1, 1, 1, 0, 1, 1, 1, 0, 1, 0, 1, 1, 1, 1, 0, 1, 1, 0, 1, 1, 1, 0, 1, 1, 1, 1, 1, 0, 1, 1, 0, 1, 0, 1, 1, 1, 1, 1, 1, 1, 0, 1, 1, 1, 1, 0, 1, 1, 0, 1, 1, 1, 0, 0, 1, 1, 1, 0, 1, 1, 1, 0, 1, 1, 1, 0, 1, 1, 1, 1, 1, 0, 1, 1, 1, 1, 0, 1, 1, 1, 0, 1, 1, 1, 0, 0, 1, 0, 1, 1, 0, 1, 1, 1, 1, 0, 0, 0, 1, 1, 1, 0, 1, 1, 1, 1, 1, 0, 1, 1, 1, 1, 1, 0, 1, 1, 0, 1, 1, 1, 1, 0, 0, 1, 1, 1, 1, 1, 0, 1, 1, 1, 1, 1, 1, 1, 0, 1, 0, 1, 1, 1, 0, 1, 0, 0, 1, 1, 1, 1, 1, 1, 1, 1, 1, 0, 1, 1, 0, 1, 1, 1, 1, 0, 1, 0, 1, 0, 1, 1, 1, 1, 1, 1, 0, 0, 1, 1, 1, 0, 1, 1, 1, 1, 1, 0, 0, 1, 1, 1, 1, 1, 1, 0, 1, 0, 1, 0, 1, 1, 1, 1, 1, 0, 0, 1, 1, 1, 1, 1, 1, 0, 1, 1, 1, 1, 0, 1, 0, 1, 1, 0, 1, 0, 1, 1, 1, 1, 1, 1, 0, 1, 1, 1, 1, 0, 0, 1, 1, 1, 0, 1, 1, 0, 1, 1, 1, 1, 1, 1, 0, 1, 0, 0, 1, 0, 1, 0, 1, 1, 1, 1, 1, 1, 1, 1, 1, 0, 1, 1, 1, 0, 1, 1, 1, 1, 1, 0, 1, 0, 0, 1, 1, 1, 1, 0, 1, 1, 0, 1, 1, 0, 1, 1, 1, 1, 1, 1, 1, 0, 1, 0, 1, 1, 0, 1, 0, 1, 1, 1, 1, 0, 1, 0, 1, 1, 1, 1, 0, 1, 1, 1, 1, 1, 1, 0, 1, 0, 1, 0, 1, 0, 1, 1, 0, 1, 1, 1, 1, 1, 0, 1, 1, 0, 1, 1, 1, 1, 1, 1, 1, 1, 0, 0, 1, 1, 0, 1, 1, 1, 0, 1, 1, 1, 0, 1, 1, 1, 1, 0, 1, 1, 0, 1, 1, 1, 1, 0, 1, 1, 1, 0, 1, 0, 1, 1, 1, 1, 1, 1, 1, 0, 1, 0, 1, 0, 1, 1, 1, 1, 1, 0, 0, 1, 1, 0, 1, 1, 1, 0, 0, 1, 1, 1, 1, 1, 0, 1, 1, 0, 0, 1, 1, 1, 1, 1, 0, 1, 0, 1, 1, 1, 1, 1, 1, 1, 0, 1, 1, 0, 1, 0, 1, 1, 1, 0, 1, 0, 1, 1, 1, 1, 1, 1, 1, 1, 0, 1, 1, 1, 1, 1, 0, 0, 1, 0, 1, 1, 1, 1, 0, 1, 1]\n",
            "[[0, 1, 1], [1, 0, 1], [1, 0, 1], [0, 1, 0], [0, 0, 1], [0, 1, 1], [0, 0, 0], [0, 1, 0], [0, 0, 1], [0, 1, 1], [1, 1, 0], [1, 0, 1], [1, 1, 1], [1, 0, 1], [0, 0, 1], [1, 1, 0], [0, 1, 1], [1, 0, 1], [1, 1, 1], [0, 0, 1], [1, 1, 1], [1, 0, 0], [1, 1, 1], [1, 1, 1], [1, 0, 1], [0, 1, 0], [1, 0, 1], [1, 0, 1], [1, 1, 1], [1, 1, 1], [0, 0, 1], [1, 1, 1], [1, 0, 0], [1, 1, 1], [0, 0, 1], [1, 1, 1], [0, 0, 0], [0, 0, 0], [0, 1, 1], [1, 0, 1], [1, 1, 0], [1, 0, 0], [1, 1, 1], [1, 0, 1], [1, 1, 1], [0, 0, 1], [0, 0, 1], [1, 0, 1], [1, 1, 1], [0, 0, 1], [0, 1, 1], [1, 0, 0], [1, 1, 1], [1, 0, 1], [0, 1, 0], [1, 1, 1], [0, 0, 0], [0, 0, 1], [0, 1, 1], [1, 0, 1], [0, 1, 1], [0, 1, 1], [1, 0, 1], [1, 0, 1], [1, 0, 1], [1, 1, 1], [1, 1, 0], [1, 1, 1], [0, 0, 0], [1, 1, 1], [1, 0, 1], [1, 1, 1], [1, 0, 1], [0, 1, 0], [1, 0, 1], [1, 1, 1], [0, 0, 1], [0, 1, 0], [1, 0, 1], [0, 1, 0], [1, 0, 1], [1, 1, 1], [1, 0, 1], [1, 1, 1], [0, 0, 0], [1, 0, 0], [1, 1, 1], [1, 0, 0], [0, 1, 1], [1, 1, 1], [1, 0, 1], [1, 1, 1], [0, 0, 1], [1, 0, 1], [1, 1, 1], [0, 1, 1], [1, 0, 1], [1, 0, 0], [0, 1, 1], [0, 0, 0], [0, 1, 1], [0, 1, 0], [1, 0, 1], [1, 1, 1], [0, 0, 1], [1, 0, 1], [1, 1, 0], [1, 0, 1], [0, 1, 1], [1, 0, 1], [1, 1, 1], [1, 1, 1], [1, 0, 1], [0, 1, 0], [0, 0, 0], [1, 1, 1], [1, 1, 1], [1, 1, 0], [1, 0, 1], [1, 1, 1], [1, 0, 1], [1, 0, 1], [1, 0, 0], [1, 1, 0], [1, 0, 1], [0, 1, 1], [1, 0, 1], [0, 1, 0], [1, 0, 1], [1, 1, 1], [1, 0, 1], [1, 0, 1], [1, 1, 1], [0, 1, 0], [1, 0, 1], [1, 1, 1], [1, 0, 1], [0, 1, 1], [1, 0, 1], [0, 1, 0], [1, 0, 0], [1, 0, 1], [1, 1, 1], [1, 1, 1], [1, 0, 0], [1, 1, 1], [1, 0, 1], [1, 1, 1], [0, 0, 1], [0, 1, 1], [0, 0, 0], [1, 1, 1], [0, 1, 0], [1, 0, 1], [1, 0, 1], [1, 1, 1], [1, 0, 1], [1, 1, 0], [1, 0, 1], [1, 1, 0], [1, 0, 0], [1, 1, 1], [1, 0, 1], [1, 1, 1], [1, 0, 1], [1, 1, 1], [1, 0, 1], [1, 1, 1], [1, 0, 0], [1, 1, 1], [1, 1, 1], [1, 0, 1], [1, 0, 0], [1, 1, 1], [1, 0, 0], [1, 1, 1], [1, 0, 1], [1, 1, 0], [1, 0, 1], [1, 0, 1], [1, 1, 1], [1, 1, 1], [1, 0, 1], [1, 1, 1], [0, 1, 0], [1, 1, 1], [1, 0, 1], [1, 1, 1], [1, 0, 0], [1, 0, 1], [0, 0, 1], [0, 1, 0], [1, 1, 1], [1, 0, 0], [1, 1, 1], [0, 0, 1], [1, 1, 1], [1, 0, 0], [1, 1, 1], [1, 0, 1], [1, 1, 1], [1, 0, 0], [1, 1, 1], [1, 0, 1], [1, 1, 1], [1, 1, 1], [1, 0, 0], [1, 1, 1], [1, 0, 0], [1, 1, 1], [1, 0, 1], [1, 0, 1], [1, 1, 1], [1, 0, 1], [1, 1, 0], [1, 0, 1], [1, 1, 1], [1, 0, 1], [1, 1, 0], [1, 0, 1], [1, 1, 0], [1, 0, 1], [1, 1, 1], [1, 0, 1], [1, 1, 1], [0, 1, 0], [1, 0, 1], [0, 0, 1], [0, 1, 0], [1, 0, 1], [1, 0, 1], [1, 1, 1], [1, 1, 0], [1, 0, 1], [1, 1, 1], [1, 0, 1], [1, 1, 1], [1, 0, 1], [1, 0, 0], [1, 1, 1], [1, 1, 1], [0, 0, 0], [1, 0, 1], [1, 1, 0], [0, 1, 1], [1, 0, 1], [1, 0, 1], [1, 1, 1], [1, 1, 1], [1, 0, 1], [1, 1, 1], [0, 0, 0], [0, 1, 1], [0, 0, 1], [0, 1, 1], [1, 0, 1], [1, 0, 0], [1, 1, 1], [1, 0, 1], [0, 1, 0], [1, 0, 1], [1, 0, 1], [1, 1, 1], [0, 0, 0], [0, 1, 0], [0, 1, 1], [0, 1, 1], [1, 0, 1], [1, 0, 0], [1, 1, 1], [1, 0, 1], [1, 1, 1], [0, 0, 0], [1, 1, 1], [0, 0, 1], [1, 0, 1], [0, 1, 0], [1, 0, 1], [1, 1, 1], [1, 0, 1], [1, 1, 1], [1, 1, 1], [1, 0, 0], [1, 0, 1], [1, 1, 1], [1, 1, 1], [1, 0, 1], [1, 1, 0], [1, 0, 1], [1, 1, 1], [1, 0, 1], [1, 1, 0], [1, 0, 1], [1, 1, 1], [1, 0, 1], [1, 0, 0], [1, 1, 0], [1, 1, 1], [1, 0, 0], [1, 1, 1], [1, 0, 1], [1, 1, 0], [1, 0, 1], [1, 1, 1], [0, 1, 1], [1, 0, 1], [1, 1, 0], [1, 0, 0], [1, 1, 0], [1, 0, 1], [1, 1, 1], [1, 0, 1], [0, 1, 0], [0, 0, 1], [1, 1, 1], [1, 0, 1], [1, 0, 1], [1, 1, 1], [1, 1, 0], [0, 0, 1], [1, 1, 1], [1, 0, 1], [1, 1, 1], [1, 0, 1], [0, 0, 0], [1, 1, 1], [1, 1, 1], [1, 0, 0], [1, 1, 1], [0, 0, 1], [1, 1, 1], [1, 0, 1], [1, 1, 0], [1, 0, 0], [1, 0, 1], [1, 1, 1], [1, 1, 1], [1, 0, 1], [0, 1, 1], [0, 0, 0], [1, 1, 1], [1, 0, 1], [0, 1, 1], [0, 0, 1], [1, 0, 1], [1, 1, 1], [1, 0, 1], [1, 1, 0], [1, 0, 1], [0, 1, 0], [1, 0, 1], [1, 1, 1], [1, 0, 1], [0, 1, 0], [1, 1, 1], [1, 0, 0], [1, 0, 0], [1, 1, 1], [1, 1, 1], [1, 0, 1], [0, 0, 1], [0, 1, 1], [1, 1, 1], [1, 1, 1], [1, 0, 1], [1, 0, 1], [1, 1, 0], [1, 0, 1], [1, 0, 1], [1, 1, 0], [1, 1, 1], [1, 0, 1], [1, 0, 1], [0, 1, 1], [0, 0, 0], [1, 1, 1], [1, 0, 0], [1, 1, 1], [1, 0, 0], [1, 1, 1], [0, 1, 1], [1, 0, 1], [1, 1, 1], [1, 0, 1], [1, 1, 1], [1, 0, 0], [1, 1, 0], [1, 0, 1], [1, 1, 1], [1, 0, 1], [1, 0, 0], [1, 1, 1], [1, 1, 1], [1, 0, 1], [0, 0, 1], [1, 1, 1], [0, 0, 0], [0, 0, 0], [0, 1, 1], [1, 1, 1], [0, 0, 1], [1, 1, 1], [1, 0, 1], [1, 0, 1], [0, 1, 0], [1, 0, 1], [0, 1, 0], [1, 0, 1], [1, 1, 0], [1, 0, 1], [1, 1, 1], [1, 0, 1], [1, 1, 1], [1, 1, 1], [1, 1, 0], [1, 0, 0], [1, 1, 1], [1, 0, 1], [0, 0, 1], [1, 1, 1], [1, 1, 1], [1, 0, 1], [0, 0, 0], [1, 1, 1], [1, 0, 1], [1, 1, 1], [1, 0, 1], [1, 1, 0], [1, 0, 1], [0, 1, 0], [1, 1, 1], [0, 0, 1], [0, 1, 0], [1, 0, 1], [0, 0, 0], [1, 1, 1], [1, 1, 1], [1, 0, 1], [0, 1, 1], [0, 0, 1], [0, 0, 1], [0, 1, 0], [1, 0, 1], [1, 1, 1], [0, 0, 1], [0, 1, 1], [0, 0, 0], [1, 1, 0], [1, 0, 1], [0, 1, 1], [1, 0, 1], [0, 0, 0], [1, 1, 1], [0, 1, 1], [1, 0, 0], [1, 1, 1], [0, 0, 1], [1, 1, 1], [0, 1, 1], [1, 0, 1], [1, 1, 1], [1, 0, 0], [1, 1, 1], [0, 0, 0], [1, 1, 0], [1, 0, 1], [1, 1, 0], [0, 0, 1], [0, 1, 0], [0, 1, 1], [0, 0, 1], [0, 0, 1], [0, 1, 1], [0, 0, 1], [1, 0, 1], [1, 1, 1], [1, 0, 1], [1, 1, 1], [1, 1, 0], [0, 0, 1], [1, 0, 1], [1, 1, 1], [0, 0, 0], [0, 1, 1], [1, 1, 1], [1, 0, 1], [1, 1, 1], [1, 0, 1], [1, 0, 0], [1, 1, 1], [1, 0, 0], [1, 1, 0], [1, 0, 1], [1, 1, 1], [0, 1, 1], [0, 1, 1], [1, 0, 0], [1, 0, 1], [1, 1, 1], [0, 0, 0], [1, 0, 1], [1, 1, 1], [0, 1, 0], [1, 0, 1], [1, 1, 1], [1, 0, 1], [1, 1, 1], [1, 0, 1], [1, 0, 1], [0, 1, 1], [1, 0, 0], [1, 1, 1], [0, 1, 0], [1, 0, 1], [1, 0, 1], [1, 1, 0], [1, 1, 1], [0, 0, 0], [1, 1, 1], [1, 0, 1], [1, 1, 1], [1, 0, 1], [1, 1, 0], [1, 0, 1], [1, 1, 0], [1, 0, 1], [1, 1, 1], [1, 0, 1], [1, 1, 1], [0, 0, 0], [1, 1, 1], [1, 0, 1], [0, 0, 1], [1, 1, 1], [1, 0, 1], [0, 1, 1], [1, 0, 0], [1, 1, 1], [1, 1, 0], [1, 0, 1], [1, 0, 0], [1, 1, 1], [1, 0, 0], [1, 1, 1], [1, 0, 1], [1, 1, 0], [1, 0, 1], [1, 1, 1], [1, 0, 1], [0, 1, 1], [1, 0, 1], [0, 0, 0], [1, 1, 1], [1, 0, 1], [1, 1, 0], [1, 0, 1], [1, 1, 1], [1, 1, 1], [1, 0, 1], [1, 1, 1], [1, 0, 1], [1, 1, 1], [1, 0, 1], [0, 1, 0], [0, 0, 0], [1, 0, 1], [1, 1, 1], [1, 1, 0], [1, 0, 1], [0, 1, 1], [0, 1, 1], [0, 0, 0], [0, 0, 1], [0, 1, 1], [0, 0, 1], [0, 1, 0], [1, 0, 1], [0, 1, 1], [1, 1, 1], [0, 0, 1], [0, 1, 0], [0, 0, 1], [0, 1, 1], [0, 0, 0], [1, 1, 1], [0, 0, 1], [0, 1, 1], [0, 1, 1], [1, 0, 0], [0, 0, 1], [1, 1, 1], [1, 1, 1], [0, 0, 0], [1, 0, 1], [0, 1, 0], [0, 1, 1], [0, 0, 1], [1, 0, 1], [1, 1, 1], [1, 1, 1], [1, 0, 1], [1, 0, 1], [0, 1, 0], [1, 0, 1], [0, 1, 0], [0, 0, 1], [0, 0, 0], [0, 1, 1], [0, 1, 1], [1, 0, 1], [1, 1, 1], [1, 0, 1], [1, 1, 0], [0, 0, 0], [1, 0, 1], [0, 1, 1], [1, 1, 0], [0, 0, 1], [1, 1, 1], [1, 0, 1], [1, 1, 0], [1, 0, 0], [1, 1, 1], [1, 0, 1], [1, 0, 1], [1, 1, 1], [1, 1, 1], [1, 0, 0], [1, 0, 1], [1, 1, 1], [1, 0, 0], [0, 1, 0], [1, 0, 1], [1, 1, 1], [1, 0, 1], [1, 0, 1], [1, 1, 1], [1, 1, 0], [1, 0, 1], [0, 0, 0], [1, 1, 1], [0, 0, 1], [1, 1, 1], [1, 0, 1], [1, 1, 1], [1, 1, 1], [0, 1, 1], [0, 0, 0], [0, 1, 1], [1, 0, 1], [1, 1, 0], [1, 0, 1], [0, 1, 0], [1, 0, 1], [0, 1, 1], [0, 0, 1], [0, 1, 0], [1, 0, 1], [1, 0, 0], [1, 1, 1], [1, 1, 1], [1, 0, 1], [1, 0, 1], [1, 1, 1], [0, 0, 1], [1, 1, 1], [1, 1, 1], [1, 0, 0], [1, 1, 1], [1, 0, 1], [1, 1, 1], [1, 0, 1], [1, 1, 1], [0, 0, 0], [0, 0, 0], [1, 1, 1], [0, 1, 0], [0, 1, 1], [1, 0, 1], [0, 0, 1], [1, 0, 1], [1, 1, 0], [1, 1, 1], [1, 0, 1]]\n"
          ]
        }
      ]
    },
    {
      "cell_type": "code",
      "source": [
        "perceptronlista = [[0, 1, 1], [1, 0, 1], [1, 0, 1], [0, 1, 0], [0, 0, 1], [0, 1, 1], [0, 0, 0], [0, 1, 0], [0, 0, 1], [0, 1, 1], [1, 1, 0], [1, 0, 1], [1, 1, 1], [1, 0, 1], [0, 0, 1], [1, 1, 0], [0, 1, 1], [1, 0, 1], [1, 1, 1], [0, 0, 1], [1, 1, 1], [1, 0, 0], [1, 1, 1], [1, 1, 1], [1, 0, 1], [0, 1, 0], [1, 0, 1], [1, 0, 1], [1, 1, 1], [1, 1, 1], [0, 0, 1], [1, 1, 1], [1, 0, 0], [1, 1, 1], [0, 0, 1], [1, 1, 1], [0, 0, 0], [0, 0, 0], [0, 1, 1], [1, 0, 1], [1, 1, 0], [1, 0, 0], [1, 1, 1], [1, 0, 1], [1, 1, 1], [0, 0, 1], [0, 0, 1], [1, 0, 1], [1, 1, 1], [0, 0, 1], [0, 1, 1], [1, 0, 0], [1, 1, 1], [1, 0, 1], [0, 1, 0], [1, 1, 1], [0, 0, 0], [0, 0, 1], [0, 1, 1], [1, 0, 1], [0, 1, 1], [0, 1, 1], [1, 0, 1], [1, 0, 1], [1, 0, 1], [1, 1, 1], [1, 1, 0], [1, 1, 1], [0, 0, 0], [1, 1, 1], [1, 0, 1], [1, 1, 1], [1, 0, 1], [0, 1, 0], [1, 0, 1], [1, 1, 1], [0, 0, 1], [0, 1, 0], [1, 0, 1], [0, 1, 0], [1, 0, 1], [1, 1, 1], [1, 0, 1], [1, 1, 1], [0, 0, 0], [1, 0, 0], [1, 1, 1], [1, 0, 0], [0, 1, 1], [1, 1, 1], [1, 0, 1], [1, 1, 1], [0, 0, 1], [1, 0, 1], [1, 1, 1], [0, 1, 1], [1, 0, 1], [1, 0, 0], [0, 1, 1], [0, 0, 0], [0, 1, 1], [0, 1, 0], [1, 0, 1], [1, 1, 1], [0, 0, 1], [1, 0, 1], [1, 1, 0], [1, 0, 1], [0, 1, 1], [1, 0, 1], [1, 1, 1], [1, 1, 1], [1, 0, 1], [0, 1, 0], [0, 0, 0], [1, 1, 1], [1, 1, 1], [1, 1, 0], [1, 0, 1], [1, 1, 1], [1, 0, 1], [1, 0, 1], [1, 0, 0], [1, 1, 0], [1, 0, 1], [0, 1, 1], [1, 0, 1], [0, 1, 0], [1, 0, 1], [1, 1, 1], [1, 0, 1], [1, 0, 1], [1, 1, 1], [0, 1, 0], [1, 0, 1], [1, 1, 1], [1, 0, 1], [0, 1, 1], [1, 0, 1], [0, 1, 0], [1, 0, 0], [1, 0, 1], [1, 1, 1], [1, 1, 1], [1, 0, 0], [1, 1, 1], [1, 0, 1], [1, 1, 1], [0, 0, 1], [0, 1, 1], [0, 0, 0], [1, 1, 1], [0, 1, 0], [1, 0, 1], [1, 0, 1], [1, 1, 1], [1, 0, 1], [1, 1, 0], [1, 0, 1], [1, 1, 0], [1, 0, 0], [1, 1, 1], [1, 0, 1], [1, 1, 1], [1, 0, 1], [1, 1, 1], [1, 0, 1], [1, 1, 1], [1, 0, 0], [1, 1, 1], [1, 1, 1], [1, 0, 1], [1, 0, 0], [1, 1, 1], [1, 0, 0], [1, 1, 1], [1, 0, 1], [1, 1, 0], [1, 0, 1], [1, 0, 1], [1, 1, 1], [1, 1, 1], [1, 0, 1], [1, 1, 1], [0, 1, 0], [1, 1, 1], [1, 0, 1], [1, 1, 1], [1, 0, 0], [1, 0, 1], [0, 0, 1], [0, 1, 0], [1, 1, 1], [1, 0, 0], [1, 1, 1], [0, 0, 1], [1, 1, 1], [1, 0, 0], [1, 1, 1], [1, 0, 1], [1, 1, 1], [1, 0, 0], [1, 1, 1], [1, 0, 1], [1, 1, 1], [1, 1, 1], [1, 0, 0], [1, 1, 1], [1, 0, 0], [1, 1, 1], [1, 0, 1], [1, 0, 1], [1, 1, 1], [1, 0, 1], [1, 1, 0], [1, 0, 1], [1, 1, 1], [1, 0, 1], [1, 1, 0], [1, 0, 1], [1, 1, 0], [1, 0, 1], [1, 1, 1], [1, 0, 1], [1, 1, 1], [0, 1, 0], [1, 0, 1], [0, 0, 1], [0, 1, 0], [1, 0, 1], [1, 0, 1], [1, 1, 1], [1, 1, 0], [1, 0, 1], [1, 1, 1], [1, 0, 1], [1, 1, 1], [1, 0, 1], [1, 0, 0], [1, 1, 1], [1, 1, 1], [0, 0, 0], [1, 0, 1], [1, 1, 0], [0, 1, 1], [1, 0, 1], [1, 0, 1], [1, 1, 1], [1, 1, 1], [1, 0, 1], [1, 1, 1], [0, 0, 0], [0, 1, 1], [0, 0, 1], [0, 1, 1], [1, 0, 1], [1, 0, 0], [1, 1, 1], [1, 0, 1], [0, 1, 0], [1, 0, 1], [1, 0, 1], [1, 1, 1], [0, 0, 0], [0, 1, 0], [0, 1, 1], [0, 1, 1], [1, 0, 1], [1, 0, 0], [1, 1, 1], [1, 0, 1], [1, 1, 1], [0, 0, 0], [1, 1, 1], [0, 0, 1], [1, 0, 1], [0, 1, 0], [1, 0, 1], [1, 1, 1], [1, 0, 1], [1, 1, 1], [1, 1, 1], [1, 0, 0], [1, 0, 1], [1, 1, 1], [1, 1, 1], [1, 0, 1], [1, 1, 0], [1, 0, 1], [1, 1, 1], [1, 0, 1], [1, 1, 0], [1, 0, 1], [1, 1, 1], [1, 0, 1], [1, 0, 0], [1, 1, 0], [1, 1, 1], [1, 0, 0], [1, 1, 1], [1, 0, 1], [1, 1, 0], [1, 0, 1], [1, 1, 1], [0, 1, 1], [1, 0, 1], [1, 1, 0], [1, 0, 0], [1, 1, 0], [1, 0, 1], [1, 1, 1], [1, 0, 1], [0, 1, 0], [0, 0, 1], [1, 1, 1], [1, 0, 1], [1, 0, 1], [1, 1, 1], [1, 1, 0], [0, 0, 1], [1, 1, 1], [1, 0, 1], [1, 1, 1], [1, 0, 1], [0, 0, 0], [1, 1, 1], [1, 1, 1], [1, 0, 0], [1, 1, 1], [0, 0, 1], [1, 1, 1], [1, 0, 1], [1, 1, 0], [1, 0, 0], [1, 0, 1], [1, 1, 1], [1, 1, 1], [1, 0, 1], [0, 1, 1], [0, 0, 0], [1, 1, 1], [1, 0, 1], [0, 1, 1], [0, 0, 1], [1, 0, 1], [1, 1, 1], [1, 0, 1], [1, 1, 0], [1, 0, 1], [0, 1, 0], [1, 0, 1], [1, 1, 1], [1, 0, 1], [0, 1, 0], [1, 1, 1], [1, 0, 0], [1, 0, 0], [1, 1, 1], [1, 1, 1], [1, 0, 1], [0, 0, 1], [0, 1, 1], [1, 1, 1], [1, 1, 1], [1, 0, 1], [1, 0, 1], [1, 1, 0], [1, 0, 1], [1, 0, 1], [1, 1, 0], [1, 1, 1], [1, 0, 1], [1, 0, 1], [0, 1, 1], [0, 0, 0], [1, 1, 1], [1, 0, 0], [1, 1, 1], [1, 0, 0], [1, 1, 1], [0, 1, 1], [1, 0, 1], [1, 1, 1], [1, 0, 1], [1, 1, 1], [1, 0, 0], [1, 1, 0], [1, 0, 1], [1, 1, 1], [1, 0, 1], [1, 0, 0], [1, 1, 1], [1, 1, 1], [1, 0, 1], [0, 0, 1], [1, 1, 1], [0, 0, 0], [0, 0, 0], [0, 1, 1], [1, 1, 1], [0, 0, 1], [1, 1, 1], [1, 0, 1], [1, 0, 1], [0, 1, 0], [1, 0, 1], [0, 1, 0], [1, 0, 1], [1, 1, 0], [1, 0, 1], [1, 1, 1], [1, 0, 1], [1, 1, 1], [1, 1, 1], [1, 1, 0], [1, 0, 0], [1, 1, 1], [1, 0, 1], [0, 0, 1], [1, 1, 1], [1, 1, 1], [1, 0, 1], [0, 0, 0], [1, 1, 1], [1, 0, 1], [1, 1, 1], [1, 0, 1], [1, 1, 0], [1, 0, 1], [0, 1, 0], [1, 1, 1], [0, 0, 1], [0, 1, 0], [1, 0, 1], [0, 0, 0], [1, 1, 1], [1, 1, 1], [1, 0, 1], [0, 1, 1], [0, 0, 1], [0, 0, 1], [0, 1, 0], [1, 0, 1], [1, 1, 1], [0, 0, 1], [0, 1, 1], [0, 0, 0], [1, 1, 0], [1, 0, 1], [0, 1, 1], [1, 0, 1], [0, 0, 0], [1, 1, 1], [0, 1, 1], [1, 0, 0], [1, 1, 1], [0, 0, 1], [1, 1, 1], [0, 1, 1], [1, 0, 1], [1, 1, 1], [1, 0, 0], [1, 1, 1], [0, 0, 0], [1, 1, 0], [1, 0, 1], [1, 1, 0], [0, 0, 1], [0, 1, 0], [0, 1, 1], [0, 0, 1], [0, 0, 1], [0, 1, 1], [0, 0, 1], [1, 0, 1], [1, 1, 1], [1, 0, 1], [1, 1, 1], [1, 1, 0], [0, 0, 1], [1, 0, 1], [1, 1, 1], [0, 0, 0], [0, 1, 1], [1, 1, 1], [1, 0, 1], [1, 1, 1], [1, 0, 1], [1, 0, 0], [1, 1, 1], [1, 0, 0], [1, 1, 0], [1, 0, 1], [1, 1, 1], [0, 1, 1], [0, 1, 1], [1, 0, 0], [1, 0, 1], [1, 1, 1], [0, 0, 0], [1, 0, 1], [1, 1, 1], [0, 1, 0], [1, 0, 1], [1, 1, 1], [1, 0, 1], [1, 1, 1], [1, 0, 1], [1, 0, 1], [0, 1, 1], [1, 0, 0], [1, 1, 1], [0, 1, 0], [1, 0, 1], [1, 0, 1], [1, 1, 0], [1, 1, 1], [0, 0, 0], [1, 1, 1], [1, 0, 1], [1, 1, 1], [1, 0, 1], [1, 1, 0], [1, 0, 1], [1, 1, 0], [1, 0, 1], [1, 1, 1], [1, 0, 1], [1, 1, 1], [0, 0, 0], [1, 1, 1], [1, 0, 1], [0, 0, 1], [1, 1, 1], [1, 0, 1], [0, 1, 1], [1, 0, 0], [1, 1, 1], [1, 1, 0], [1, 0, 1], [1, 0, 0], [1, 1, 1], [1, 0, 0], [1, 1, 1], [1, 0, 1], [1, 1, 0], [1, 0, 1], [1, 1, 1], [1, 0, 1], [0, 1, 1], [1, 0, 1], [0, 0, 0], [1, 1, 1], [1, 0, 1], [1, 1, 0], [1, 0, 1], [1, 1, 1], [1, 1, 1], [1, 0, 1], [1, 1, 1], [1, 0, 1], [1, 1, 1], [1, 0, 1], [0, 1, 0], [0, 0, 0], [1, 0, 1], [1, 1, 1], [1, 1, 0], [1, 0, 1], [0, 1, 1], [0, 1, 1], [0, 0, 0], [0, 0, 1], [0, 1, 1], [0, 0, 1], [0, 1, 0], [1, 0, 1], [0, 1, 1], [1, 1, 1], [0, 0, 1], [0, 1, 0], [0, 0, 1], [0, 1, 1], [0, 0, 0], [1, 1, 1], [0, 0, 1], [0, 1, 1], [0, 1, 1], [1, 0, 0], [0, 0, 1], [1, 1, 1], [1, 1, 1], [0, 0, 0], [1, 0, 1], [0, 1, 0], [0, 1, 1], [0, 0, 1], [1, 0, 1], [1, 1, 1], [1, 1, 1], [1, 0, 1], [1, 0, 1], [0, 1, 0], [1, 0, 1], [0, 1, 0], [0, 0, 1], [0, 0, 0], [0, 1, 1], [0, 1, 1], [1, 0, 1], [1, 1, 1], [1, 0, 1], [1, 1, 0], [0, 0, 0], [1, 0, 1], [0, 1, 1], [1, 1, 0], [0, 0, 1], [1, 1, 1], [1, 0, 1], [1, 1, 0], [1, 0, 0], [1, 1, 1], [1, 0, 1], [1, 0, 1], [1, 1, 1], [1, 1, 1], [1, 0, 0], [1, 0, 1], [1, 1, 1], [1, 0, 0], [0, 1, 0], [1, 0, 1], [1, 1, 1], [1, 0, 1], [1, 0, 1], [1, 1, 1], [1, 1, 0], [1, 0, 1], [0, 0, 0], [1, 1, 1], [0, 0, 1], [1, 1, 1], [1, 0, 1], [1, 1, 1], [1, 1, 1], [0, 1, 1], [0, 0, 0], [0, 1, 1], [1, 0, 1], [1, 1, 0], [1, 0, 1], [0, 1, 0], [1, 0, 1], [0, 1, 1], [0, 0, 1], [0, 1, 0], [1, 0, 1], [1, 0, 0], [1, 1, 1], [1, 1, 1], [1, 0, 1], [1, 0, 1], [1, 1, 1], [0, 0, 1], [1, 1, 1], [1, 1, 1], [1, 0, 0], [1, 1, 1], [1, 0, 1], [1, 1, 1], [1, 0, 1], [1, 1, 1], [0, 0, 0], [0, 0, 0], [1, 1, 1], [0, 1, 0], [0, 1, 1], [1, 0, 1], [0, 0, 1], [1, 0, 1], [1, 1, 0], [1, 1, 1], [1, 0, 1]]\n",
        "lista2 = []\n",
        "\n",
        "for i in range(100):\n",
        "  lista2.append(perceptronlista[-101+i])\n",
        "for i in range(100):\n",
        "  perceptronlista.pop(-1)\n",
        "\n",
        "print(lista2, len(lista2))\n",
        "print(perceptronlista, len(perceptronlista))\n",
        "\n",
        "etilist2 = []\n",
        "\n",
        "wins = [1, 0, 0, 0, 0, 0, 0, 1, 0, 1, 1, 0, 0, 0, 0, 1, 1, 0, 1, 0, 1, 0, 1, 1, 0, 0, 0, 1, 0, 1, 1, 1, 1, 0, 0, 1, 0, 1, 0, 1, 0, 1, 0, 0, 1, 0, 0, 0, 1, 0, 0, 1, 0, 0, 1, 1, 0, 1, 0, 0, 1, 1, 1, 0, 0, 1, 1, 1, 0, 1, 0, 1, 0, 0, 1, 0, 1, 0, 0, 0, 1, 1, 0, 0, 0, 1, 1, 0, 1, 1, 0, 1, 1, 0, 1, 0, 0, 0, 1, 0, 1, 0, 1, 0, 0, 1, 1, 1, 1, 0, 1, 0, 0, 1, 1, 1, 0, 1, 1, 1, 1, 0, 0, 1, 1, 1, 1, 1, 0, 0, 1, 0, 1, 0, 1, 0, 1, 1, 1, 0, 1, 1, 1, 1, 1, 0, 0, 0, 0, 1, 0, 1, 1, 1, 1, 1, 0, 0, 1, 1, 0, 1, 1, 1, 1, 0, 1, 1, 0, 1, 1, 1, 1, 1, 1, 1, 1, 0, 1, 1, 1, 1, 1, 0, 0, 1, 1, 1, 1, 0, 1, 1, 1, 1, 1, 1, 1, 1, 1, 0, 1, 0, 1, 1, 1, 1, 1, 1, 1, 1, 1, 1, 0, 0, 1, 0, 1, 1, 1, 0, 1, 0, 1, 1, 1, 1, 0, 0, 1, 0, 1, 1, 1, 1, 0, 1, 1, 1, 0, 1, 1, 0, 1, 0, 1, 1, 1, 0, 0, 0, 1, 0, 1, 1, 1, 1, 1, 1, 1, 1, 1, 0, 0, 0, 0, 0, 1, 1, 0, 1, 0, 0, 0, 0, 1, 1, 1, 1, 0, 1, 1, 1, 0, 1, 0, 1, 1, 1, 1, 1, 0, 0, 1, 1, 1, 0, 1, 1, 1, 0, 1, 1, 1, 0, 1, 1, 0, 1, 0, 1, 1, 1, 0, 1, 1, 1, 1, 0, 0, 1, 0, 0, 1, 0, 0, 1, 1, 0, 0, 1, 1, 1, 1, 0, 1, 1, 0, 1, 1, 1, 1, 1, 1, 1, 1, 1, 1, 1, 0, 1, 0, 1, 1, 1, 1, 1, 0, 0, 1, 0, 0, 1, 1, 1, 1, 0, 1, 0, 1, 0, 1, 0, 1, 1, 1, 1, 0, 1, 1, 1, 1, 1, 1, 1, 1, 0, 1, 0, 1, 1, 0, 1, 0, 0, 0, 0, 0, 0, 1, 0, 0, 1, 1, 1, 0, 0, 1, 1, 1, 0, 1, 1, 1, 1, 1, 0, 0, 0, 0, 1, 1, 1, 0, 1, 1, 1, 0, 0, 1, 0, 1, 1, 1, 0, 0, 0, 0, 1, 1, 0, 0, 0, 0, 1, 0, 1, 0, 0, 1, 1, 0, 0, 1, 0, 0, 1, 1, 1, 1, 0, 1, 1, 1, 1, 0, 0, 0, 0, 0, 0, 0, 1, 1, 1, 1, 0, 1, 0, 1, 0, 0, 1, 0, 1, 1, 0, 1, 1, 0, 1, 1, 0, 1, 1, 1, 1, 0, 0, 1, 0, 1, 1, 1, 0, 0, 1, 1, 1, 0, 1, 0, 1, 1, 1, 1, 1, 0, 1, 1, 0, 1, 1, 1, 0, 1, 0, 1, 1, 0, 1, 0, 1, 1, 1, 1, 1, 0, 1, 1, 1, 0, 1, 1, 1, 0, 1, 0, 1, 1, 1, 0, 0, 1, 1, 0, 1, 1, 0, 1, 0, 1, 1, 1, 1, 0, 1, 1, 0, 0, 1, 0, 0, 1, 0, 0, 1, 0, 0, 1, 0, 0, 0, 1, 0, 0, 0, 1, 0, 0, 1, 0, 0, 1, 0, 0, 1, 1, 1, 0, 0, 1, 0, 0, 1, 0, 0, 0, 0, 1, 1, 1, 0, 0, 0, 1, 1, 1, 1, 1, 1, 1, 1, 1, 1, 1, 1, 1, 0, 1, 1, 0, 1, 0, 1, 1, 1, 0, 1, 1, 0, 1, 1, 1, 1, 1, 1, 0, 1, 1, 1, 0, 1, 0, 0, 1, 1, 1, 1, 0, 1, 1, 0, 1, 1, 0, 1, 1, 0, 0, 1, 0, 0, 1, 0, 0, 1, 0, 0, 1, 1, 1, 1, 0, 0]\n",
        "\n",
        "for i in range(100):\n",
        "  etilist2.append(wins[-101+i])\n",
        "for i in range(100):\n",
        "  wins.pop(-1)\n",
        "\n",
        "print(len(wins), wins)\n",
        "print(len(etilist2), etilist2)\n"
      ],
      "metadata": {
        "colab": {
          "base_uri": "https://localhost:8080/"
        },
        "id": "bOF4Xm3umNyx",
        "outputId": "dfbdd2f0-fb6b-44b8-a0fb-f77ab2a7d29f"
      },
      "execution_count": null,
      "outputs": [
        {
          "output_type": "stream",
          "name": "stdout",
          "text": [
            "[[0, 0, 0], [1, 1, 1], [0, 0, 1], [0, 1, 1], [0, 1, 1], [1, 0, 0], [0, 0, 1], [1, 1, 1], [1, 1, 1], [0, 0, 0], [1, 0, 1], [0, 1, 0], [0, 1, 1], [0, 0, 1], [1, 0, 1], [1, 1, 1], [1, 1, 1], [1, 0, 1], [1, 0, 1], [0, 1, 0], [1, 0, 1], [0, 1, 0], [0, 0, 1], [0, 0, 0], [0, 1, 1], [0, 1, 1], [1, 0, 1], [1, 1, 1], [1, 0, 1], [1, 1, 0], [0, 0, 0], [1, 0, 1], [0, 1, 1], [1, 1, 0], [0, 0, 1], [1, 1, 1], [1, 0, 1], [1, 1, 0], [1, 0, 0], [1, 1, 1], [1, 0, 1], [1, 0, 1], [1, 1, 1], [1, 1, 1], [1, 0, 0], [1, 0, 1], [1, 1, 1], [1, 0, 0], [0, 1, 0], [1, 0, 1], [1, 1, 1], [1, 0, 1], [1, 0, 1], [1, 1, 1], [1, 1, 0], [1, 0, 1], [0, 0, 0], [1, 1, 1], [0, 0, 1], [1, 1, 1], [1, 0, 1], [1, 1, 1], [1, 1, 1], [0, 1, 1], [0, 0, 0], [0, 1, 1], [1, 0, 1], [1, 1, 0], [1, 0, 1], [0, 1, 0], [1, 0, 1], [0, 1, 1], [0, 0, 1], [0, 1, 0], [1, 0, 1], [1, 0, 0], [1, 1, 1], [1, 1, 1], [1, 0, 1], [1, 0, 1], [1, 1, 1], [0, 0, 1], [1, 1, 1], [1, 1, 1], [1, 0, 0], [1, 1, 1], [1, 0, 1], [1, 1, 1], [1, 0, 1], [1, 1, 1], [0, 0, 0], [0, 0, 0], [1, 1, 1], [0, 1, 0], [0, 1, 1], [1, 0, 1], [0, 0, 1], [1, 0, 1], [1, 1, 0], [1, 1, 1]] 100\n",
            "[[0, 1, 1], [1, 0, 1], [1, 0, 1], [0, 1, 0], [0, 0, 1], [0, 1, 1], [0, 0, 0], [0, 1, 0], [0, 0, 1], [0, 1, 1], [1, 1, 0], [1, 0, 1], [1, 1, 1], [1, 0, 1], [0, 0, 1], [1, 1, 0], [0, 1, 1], [1, 0, 1], [1, 1, 1], [0, 0, 1], [1, 1, 1], [1, 0, 0], [1, 1, 1], [1, 1, 1], [1, 0, 1], [0, 1, 0], [1, 0, 1], [1, 0, 1], [1, 1, 1], [1, 1, 1], [0, 0, 1], [1, 1, 1], [1, 0, 0], [1, 1, 1], [0, 0, 1], [1, 1, 1], [0, 0, 0], [0, 0, 0], [0, 1, 1], [1, 0, 1], [1, 1, 0], [1, 0, 0], [1, 1, 1], [1, 0, 1], [1, 1, 1], [0, 0, 1], [0, 0, 1], [1, 0, 1], [1, 1, 1], [0, 0, 1], [0, 1, 1], [1, 0, 0], [1, 1, 1], [1, 0, 1], [0, 1, 0], [1, 1, 1], [0, 0, 0], [0, 0, 1], [0, 1, 1], [1, 0, 1], [0, 1, 1], [0, 1, 1], [1, 0, 1], [1, 0, 1], [1, 0, 1], [1, 1, 1], [1, 1, 0], [1, 1, 1], [0, 0, 0], [1, 1, 1], [1, 0, 1], [1, 1, 1], [1, 0, 1], [0, 1, 0], [1, 0, 1], [1, 1, 1], [0, 0, 1], [0, 1, 0], [1, 0, 1], [0, 1, 0], [1, 0, 1], [1, 1, 1], [1, 0, 1], [1, 1, 1], [0, 0, 0], [1, 0, 0], [1, 1, 1], [1, 0, 0], [0, 1, 1], [1, 1, 1], [1, 0, 1], [1, 1, 1], [0, 0, 1], [1, 0, 1], [1, 1, 1], [0, 1, 1], [1, 0, 1], [1, 0, 0], [0, 1, 1], [0, 0, 0], [0, 1, 1], [0, 1, 0], [1, 0, 1], [1, 1, 1], [0, 0, 1], [1, 0, 1], [1, 1, 0], [1, 0, 1], [0, 1, 1], [1, 0, 1], [1, 1, 1], [1, 1, 1], [1, 0, 1], [0, 1, 0], [0, 0, 0], [1, 1, 1], [1, 1, 1], [1, 1, 0], [1, 0, 1], [1, 1, 1], [1, 0, 1], [1, 0, 1], [1, 0, 0], [1, 1, 0], [1, 0, 1], [0, 1, 1], [1, 0, 1], [0, 1, 0], [1, 0, 1], [1, 1, 1], [1, 0, 1], [1, 0, 1], [1, 1, 1], [0, 1, 0], [1, 0, 1], [1, 1, 1], [1, 0, 1], [0, 1, 1], [1, 0, 1], [0, 1, 0], [1, 0, 0], [1, 0, 1], [1, 1, 1], [1, 1, 1], [1, 0, 0], [1, 1, 1], [1, 0, 1], [1, 1, 1], [0, 0, 1], [0, 1, 1], [0, 0, 0], [1, 1, 1], [0, 1, 0], [1, 0, 1], [1, 0, 1], [1, 1, 1], [1, 0, 1], [1, 1, 0], [1, 0, 1], [1, 1, 0], [1, 0, 0], [1, 1, 1], [1, 0, 1], [1, 1, 1], [1, 0, 1], [1, 1, 1], [1, 0, 1], [1, 1, 1], [1, 0, 0], [1, 1, 1], [1, 1, 1], [1, 0, 1], [1, 0, 0], [1, 1, 1], [1, 0, 0], [1, 1, 1], [1, 0, 1], [1, 1, 0], [1, 0, 1], [1, 0, 1], [1, 1, 1], [1, 1, 1], [1, 0, 1], [1, 1, 1], [0, 1, 0], [1, 1, 1], [1, 0, 1], [1, 1, 1], [1, 0, 0], [1, 0, 1], [0, 0, 1], [0, 1, 0], [1, 1, 1], [1, 0, 0], [1, 1, 1], [0, 0, 1], [1, 1, 1], [1, 0, 0], [1, 1, 1], [1, 0, 1], [1, 1, 1], [1, 0, 0], [1, 1, 1], [1, 0, 1], [1, 1, 1], [1, 1, 1], [1, 0, 0], [1, 1, 1], [1, 0, 0], [1, 1, 1], [1, 0, 1], [1, 0, 1], [1, 1, 1], [1, 0, 1], [1, 1, 0], [1, 0, 1], [1, 1, 1], [1, 0, 1], [1, 1, 0], [1, 0, 1], [1, 1, 0], [1, 0, 1], [1, 1, 1], [1, 0, 1], [1, 1, 1], [0, 1, 0], [1, 0, 1], [0, 0, 1], [0, 1, 0], [1, 0, 1], [1, 0, 1], [1, 1, 1], [1, 1, 0], [1, 0, 1], [1, 1, 1], [1, 0, 1], [1, 1, 1], [1, 0, 1], [1, 0, 0], [1, 1, 1], [1, 1, 1], [0, 0, 0], [1, 0, 1], [1, 1, 0], [0, 1, 1], [1, 0, 1], [1, 0, 1], [1, 1, 1], [1, 1, 1], [1, 0, 1], [1, 1, 1], [0, 0, 0], [0, 1, 1], [0, 0, 1], [0, 1, 1], [1, 0, 1], [1, 0, 0], [1, 1, 1], [1, 0, 1], [0, 1, 0], [1, 0, 1], [1, 0, 1], [1, 1, 1], [0, 0, 0], [0, 1, 0], [0, 1, 1], [0, 1, 1], [1, 0, 1], [1, 0, 0], [1, 1, 1], [1, 0, 1], [1, 1, 1], [0, 0, 0], [1, 1, 1], [0, 0, 1], [1, 0, 1], [0, 1, 0], [1, 0, 1], [1, 1, 1], [1, 0, 1], [1, 1, 1], [1, 1, 1], [1, 0, 0], [1, 0, 1], [1, 1, 1], [1, 1, 1], [1, 0, 1], [1, 1, 0], [1, 0, 1], [1, 1, 1], [1, 0, 1], [1, 1, 0], [1, 0, 1], [1, 1, 1], [1, 0, 1], [1, 0, 0], [1, 1, 0], [1, 1, 1], [1, 0, 0], [1, 1, 1], [1, 0, 1], [1, 1, 0], [1, 0, 1], [1, 1, 1], [0, 1, 1], [1, 0, 1], [1, 1, 0], [1, 0, 0], [1, 1, 0], [1, 0, 1], [1, 1, 1], [1, 0, 1], [0, 1, 0], [0, 0, 1], [1, 1, 1], [1, 0, 1], [1, 0, 1], [1, 1, 1], [1, 1, 0], [0, 0, 1], [1, 1, 1], [1, 0, 1], [1, 1, 1], [1, 0, 1], [0, 0, 0], [1, 1, 1], [1, 1, 1], [1, 0, 0], [1, 1, 1], [0, 0, 1], [1, 1, 1], [1, 0, 1], [1, 1, 0], [1, 0, 0], [1, 0, 1], [1, 1, 1], [1, 1, 1], [1, 0, 1], [0, 1, 1], [0, 0, 0], [1, 1, 1], [1, 0, 1], [0, 1, 1], [0, 0, 1], [1, 0, 1], [1, 1, 1], [1, 0, 1], [1, 1, 0], [1, 0, 1], [0, 1, 0], [1, 0, 1], [1, 1, 1], [1, 0, 1], [0, 1, 0], [1, 1, 1], [1, 0, 0], [1, 0, 0], [1, 1, 1], [1, 1, 1], [1, 0, 1], [0, 0, 1], [0, 1, 1], [1, 1, 1], [1, 1, 1], [1, 0, 1], [1, 0, 1], [1, 1, 0], [1, 0, 1], [1, 0, 1], [1, 1, 0], [1, 1, 1], [1, 0, 1], [1, 0, 1], [0, 1, 1], [0, 0, 0], [1, 1, 1], [1, 0, 0], [1, 1, 1], [1, 0, 0], [1, 1, 1], [0, 1, 1], [1, 0, 1], [1, 1, 1], [1, 0, 1], [1, 1, 1], [1, 0, 0], [1, 1, 0], [1, 0, 1], [1, 1, 1], [1, 0, 1], [1, 0, 0], [1, 1, 1], [1, 1, 1], [1, 0, 1], [0, 0, 1], [1, 1, 1], [0, 0, 0], [0, 0, 0], [0, 1, 1], [1, 1, 1], [0, 0, 1], [1, 1, 1], [1, 0, 1], [1, 0, 1], [0, 1, 0], [1, 0, 1], [0, 1, 0], [1, 0, 1], [1, 1, 0], [1, 0, 1], [1, 1, 1], [1, 0, 1], [1, 1, 1], [1, 1, 1], [1, 1, 0], [1, 0, 0], [1, 1, 1], [1, 0, 1], [0, 0, 1], [1, 1, 1], [1, 1, 1], [1, 0, 1], [0, 0, 0], [1, 1, 1], [1, 0, 1], [1, 1, 1], [1, 0, 1], [1, 1, 0], [1, 0, 1], [0, 1, 0], [1, 1, 1], [0, 0, 1], [0, 1, 0], [1, 0, 1], [0, 0, 0], [1, 1, 1], [1, 1, 1], [1, 0, 1], [0, 1, 1], [0, 0, 1], [0, 0, 1], [0, 1, 0], [1, 0, 1], [1, 1, 1], [0, 0, 1], [0, 1, 1], [0, 0, 0], [1, 1, 0], [1, 0, 1], [0, 1, 1], [1, 0, 1], [0, 0, 0], [1, 1, 1], [0, 1, 1], [1, 0, 0], [1, 1, 1], [0, 0, 1], [1, 1, 1], [0, 1, 1], [1, 0, 1], [1, 1, 1], [1, 0, 0], [1, 1, 1], [0, 0, 0], [1, 1, 0], [1, 0, 1], [1, 1, 0], [0, 0, 1], [0, 1, 0], [0, 1, 1], [0, 0, 1], [0, 0, 1], [0, 1, 1], [0, 0, 1], [1, 0, 1], [1, 1, 1], [1, 0, 1], [1, 1, 1], [1, 1, 0], [0, 0, 1], [1, 0, 1], [1, 1, 1], [0, 0, 0], [0, 1, 1], [1, 1, 1], [1, 0, 1], [1, 1, 1], [1, 0, 1], [1, 0, 0], [1, 1, 1], [1, 0, 0], [1, 1, 0], [1, 0, 1], [1, 1, 1], [0, 1, 1], [0, 1, 1], [1, 0, 0], [1, 0, 1], [1, 1, 1], [0, 0, 0], [1, 0, 1], [1, 1, 1], [0, 1, 0], [1, 0, 1], [1, 1, 1], [1, 0, 1], [1, 1, 1], [1, 0, 1], [1, 0, 1], [0, 1, 1], [1, 0, 0], [1, 1, 1], [0, 1, 0], [1, 0, 1], [1, 0, 1], [1, 1, 0], [1, 1, 1], [0, 0, 0], [1, 1, 1], [1, 0, 1], [1, 1, 1], [1, 0, 1], [1, 1, 0], [1, 0, 1], [1, 1, 0], [1, 0, 1], [1, 1, 1], [1, 0, 1], [1, 1, 1], [0, 0, 0], [1, 1, 1], [1, 0, 1], [0, 0, 1], [1, 1, 1], [1, 0, 1], [0, 1, 1], [1, 0, 0], [1, 1, 1], [1, 1, 0], [1, 0, 1], [1, 0, 0], [1, 1, 1], [1, 0, 0], [1, 1, 1], [1, 0, 1], [1, 1, 0], [1, 0, 1], [1, 1, 1], [1, 0, 1], [0, 1, 1], [1, 0, 1], [0, 0, 0], [1, 1, 1], [1, 0, 1], [1, 1, 0], [1, 0, 1], [1, 1, 1], [1, 1, 1], [1, 0, 1], [1, 1, 1], [1, 0, 1], [1, 1, 1], [1, 0, 1], [0, 1, 0], [0, 0, 0], [1, 0, 1], [1, 1, 1], [1, 1, 0], [1, 0, 1], [0, 1, 1], [0, 1, 1], [0, 0, 0], [0, 0, 1], [0, 1, 1], [0, 0, 1], [0, 1, 0], [1, 0, 1], [0, 1, 1], [1, 1, 1], [0, 0, 1], [0, 1, 0], [0, 0, 1], [0, 1, 1], [0, 0, 0]] 584\n",
            "584 [1, 0, 0, 0, 0, 0, 0, 1, 0, 1, 1, 0, 0, 0, 0, 1, 1, 0, 1, 0, 1, 0, 1, 1, 0, 0, 0, 1, 0, 1, 1, 1, 1, 0, 0, 1, 0, 1, 0, 1, 0, 1, 0, 0, 1, 0, 0, 0, 1, 0, 0, 1, 0, 0, 1, 1, 0, 1, 0, 0, 1, 1, 1, 0, 0, 1, 1, 1, 0, 1, 0, 1, 0, 0, 1, 0, 1, 0, 0, 0, 1, 1, 0, 0, 0, 1, 1, 0, 1, 1, 0, 1, 1, 0, 1, 0, 0, 0, 1, 0, 1, 0, 1, 0, 0, 1, 1, 1, 1, 0, 1, 0, 0, 1, 1, 1, 0, 1, 1, 1, 1, 0, 0, 1, 1, 1, 1, 1, 0, 0, 1, 0, 1, 0, 1, 0, 1, 1, 1, 0, 1, 1, 1, 1, 1, 0, 0, 0, 0, 1, 0, 1, 1, 1, 1, 1, 0, 0, 1, 1, 0, 1, 1, 1, 1, 0, 1, 1, 0, 1, 1, 1, 1, 1, 1, 1, 1, 0, 1, 1, 1, 1, 1, 0, 0, 1, 1, 1, 1, 0, 1, 1, 1, 1, 1, 1, 1, 1, 1, 0, 1, 0, 1, 1, 1, 1, 1, 1, 1, 1, 1, 1, 0, 0, 1, 0, 1, 1, 1, 0, 1, 0, 1, 1, 1, 1, 0, 0, 1, 0, 1, 1, 1, 1, 0, 1, 1, 1, 0, 1, 1, 0, 1, 0, 1, 1, 1, 0, 0, 0, 1, 0, 1, 1, 1, 1, 1, 1, 1, 1, 1, 0, 0, 0, 0, 0, 1, 1, 0, 1, 0, 0, 0, 0, 1, 1, 1, 1, 0, 1, 1, 1, 0, 1, 0, 1, 1, 1, 1, 1, 0, 0, 1, 1, 1, 0, 1, 1, 1, 0, 1, 1, 1, 0, 1, 1, 0, 1, 0, 1, 1, 1, 0, 1, 1, 1, 1, 0, 0, 1, 0, 0, 1, 0, 0, 1, 1, 0, 0, 1, 1, 1, 1, 0, 1, 1, 0, 1, 1, 1, 1, 1, 1, 1, 1, 1, 1, 1, 0, 1, 0, 1, 1, 1, 1, 1, 0, 0, 1, 0, 0, 1, 1, 1, 1, 0, 1, 0, 1, 0, 1, 0, 1, 1, 1, 1, 0, 1, 1, 1, 1, 1, 1, 1, 1, 0, 1, 0, 1, 1, 0, 1, 0, 0, 0, 0, 0, 0, 1, 0, 0, 1, 1, 1, 0, 0, 1, 1, 1, 0, 1, 1, 1, 1, 1, 0, 0, 0, 0, 1, 1, 1, 0, 1, 1, 1, 0, 0, 1, 0, 1, 1, 1, 0, 0, 0, 0, 1, 1, 0, 0, 0, 0, 1, 0, 1, 0, 0, 1, 1, 0, 0, 1, 0, 0, 1, 1, 1, 1, 0, 1, 1, 1, 1, 0, 0, 0, 0, 0, 0, 0, 1, 1, 1, 1, 0, 1, 0, 1, 0, 0, 1, 0, 1, 1, 0, 1, 1, 0, 1, 1, 0, 1, 1, 1, 1, 0, 0, 1, 0, 1, 1, 1, 0, 0, 1, 1, 1, 0, 1, 0, 1, 1, 1, 1, 1, 0, 1, 1, 0, 1, 1, 1, 0, 1, 0, 1, 1, 0, 1, 0, 1, 1, 1, 1, 1, 0, 1, 1, 1, 0, 1, 1, 1, 0, 1, 0, 1, 1, 1, 0, 0, 1, 1, 0, 1, 1, 0, 1, 0, 1, 1, 1, 1, 0, 1, 1, 0, 0, 1, 0, 0, 1, 0, 0, 1, 0, 0, 1, 0, 0, 0, 1, 0]\n",
            "100 [0, 0, 0, 1, 0, 0, 1, 0, 0, 1, 0, 0, 1, 1, 1, 0, 0, 1, 0, 0, 1, 0, 0, 0, 0, 1, 1, 1, 0, 0, 0, 1, 1, 1, 1, 1, 1, 1, 1, 1, 1, 1, 1, 1, 0, 1, 1, 0, 1, 0, 1, 1, 1, 0, 1, 1, 0, 1, 1, 1, 1, 1, 1, 0, 1, 1, 1, 0, 1, 0, 0, 1, 1, 1, 1, 0, 1, 1, 0, 1, 1, 0, 1, 1, 0, 0, 1, 0, 0, 1, 0, 0, 1, 0, 0, 1, 1, 1, 1, 0]\n"
          ]
        }
      ]
    },
    {
      "cell_type": "code",
      "source": [
        "#Tränar nätverk och testar vikter på utverderingsdata\n",
        "\n",
        "#träningsdata\n",
        "perceptronlista = [[0, 1, 1], [1, 0, 1], [1, 0, 1], [0, 1, 0], [0, 0, 1], [0, 1, 1], [0, 0, 0], [0, 1, 0], [0, 0, 1], [0, 1, 1], [1, 1, 0], [1, 0, 1], [1, 1, 1], [1, 0, 1], [0, 0, 1], [1, 1, 0], [0, 1, 1], [1, 0, 1], [1, 1, 1], [0, 0, 1], [1, 1, 1], [1, 0, 0], [1, 1, 1], [1, 1, 1], [1, 0, 1], [0, 1, 0], [1, 0, 1], [1, 0, 1], [1, 1, 1], [1, 1, 1], [0, 0, 1], [1, 1, 1], [1, 0, 0], [1, 1, 1], [0, 0, 1], [1, 1, 1], [0, 0, 0], [0, 0, 0], [0, 1, 1], [1, 0, 1], [1, 1, 0], [1, 0, 0], [1, 1, 1], [1, 0, 1], [1, 1, 1], [0, 0, 1], [0, 0, 1], [1, 0, 1], [1, 1, 1], [0, 0, 1], [0, 1, 1], [1, 0, 0], [1, 1, 1], [1, 0, 1], [0, 1, 0], [1, 1, 1], [0, 0, 0], [0, 0, 1], [0, 1, 1], [1, 0, 1], [0, 1, 1], [0, 1, 1], [1, 0, 1], [1, 0, 1], [1, 0, 1], [1, 1, 1], [1, 1, 0], [1, 1, 1], [0, 0, 0], [1, 1, 1], [1, 0, 1], [1, 1, 1], [1, 0, 1], [0, 1, 0], [1, 0, 1], [1, 1, 1], [0, 0, 1], [0, 1, 0], [1, 0, 1], [0, 1, 0], [1, 0, 1], [1, 1, 1], [1, 0, 1], [1, 1, 1], [0, 0, 0], [1, 0, 0], [1, 1, 1], [1, 0, 0], [0, 1, 1], [1, 1, 1], [1, 0, 1], [1, 1, 1], [0, 0, 1], [1, 0, 1], [1, 1, 1], [0, 1, 1], [1, 0, 1], [1, 0, 0], [0, 1, 1], [0, 0, 0], [0, 1, 1], [0, 1, 0], [1, 0, 1], [1, 1, 1], [0, 0, 1], [1, 0, 1], [1, 1, 0], [1, 0, 1], [0, 1, 1], [1, 0, 1], [1, 1, 1], [1, 1, 1], [1, 0, 1], [0, 1, 0], [0, 0, 0], [1, 1, 1], [1, 1, 1], [1, 1, 0], [1, 0, 1], [1, 1, 1], [1, 0, 1], [1, 0, 1], [1, 0, 0], [1, 1, 0], [1, 0, 1], [0, 1, 1], [1, 0, 1], [0, 1, 0], [1, 0, 1], [1, 1, 1], [1, 0, 1], [1, 0, 1], [1, 1, 1], [0, 1, 0], [1, 0, 1], [1, 1, 1], [1, 0, 1], [0, 1, 1], [1, 0, 1], [0, 1, 0], [1, 0, 0], [1, 0, 1], [1, 1, 1], [1, 1, 1], [1, 0, 0], [1, 1, 1], [1, 0, 1], [1, 1, 1], [0, 0, 1], [0, 1, 1], [0, 0, 0], [1, 1, 1], [0, 1, 0], [1, 0, 1], [1, 0, 1], [1, 1, 1], [1, 0, 1], [1, 1, 0], [1, 0, 1], [1, 1, 0], [1, 0, 0], [1, 1, 1], [1, 0, 1], [1, 1, 1], [1, 0, 1], [1, 1, 1], [1, 0, 1], [1, 1, 1], [1, 0, 0], [1, 1, 1], [1, 1, 1], [1, 0, 1], [1, 0, 0], [1, 1, 1], [1, 0, 0], [1, 1, 1], [1, 0, 1], [1, 1, 0], [1, 0, 1], [1, 0, 1], [1, 1, 1], [1, 1, 1], [1, 0, 1], [1, 1, 1], [0, 1, 0], [1, 1, 1], [1, 0, 1], [1, 1, 1], [1, 0, 0], [1, 0, 1], [0, 0, 1], [0, 1, 0], [1, 1, 1], [1, 0, 0], [1, 1, 1], [0, 0, 1], [1, 1, 1], [1, 0, 0], [1, 1, 1], [1, 0, 1], [1, 1, 1], [1, 0, 0], [1, 1, 1], [1, 0, 1], [1, 1, 1], [1, 1, 1], [1, 0, 0], [1, 1, 1], [1, 0, 0], [1, 1, 1], [1, 0, 1], [1, 0, 1], [1, 1, 1], [1, 0, 1], [1, 1, 0], [1, 0, 1], [1, 1, 1], [1, 0, 1], [1, 1, 0], [1, 0, 1], [1, 1, 0], [1, 0, 1], [1, 1, 1], [1, 0, 1], [1, 1, 1], [0, 1, 0], [1, 0, 1], [0, 0, 1], [0, 1, 0], [1, 0, 1], [1, 0, 1], [1, 1, 1], [1, 1, 0], [1, 0, 1], [1, 1, 1], [1, 0, 1], [1, 1, 1], [1, 0, 1], [1, 0, 0], [1, 1, 1], [1, 1, 1], [0, 0, 0], [1, 0, 1], [1, 1, 0], [0, 1, 1], [1, 0, 1], [1, 0, 1], [1, 1, 1], [1, 1, 1], [1, 0, 1], [1, 1, 1], [0, 0, 0], [0, 1, 1], [0, 0, 1], [0, 1, 1], [1, 0, 1], [1, 0, 0], [1, 1, 1], [1, 0, 1], [0, 1, 0], [1, 0, 1], [1, 0, 1], [1, 1, 1], [0, 0, 0], [0, 1, 0], [0, 1, 1], [0, 1, 1], [1, 0, 1], [1, 0, 0], [1, 1, 1], [1, 0, 1], [1, 1, 1], [0, 0, 0], [1, 1, 1], [0, 0, 1], [1, 0, 1], [0, 1, 0], [1, 0, 1], [1, 1, 1], [1, 0, 1], [1, 1, 1], [1, 1, 1], [1, 0, 0], [1, 0, 1], [1, 1, 1], [1, 1, 1], [1, 0, 1], [1, 1, 0], [1, 0, 1], [1, 1, 1], [1, 0, 1], [1, 1, 0], [1, 0, 1], [1, 1, 1], [1, 0, 1], [1, 0, 0], [1, 1, 0], [1, 1, 1], [1, 0, 0], [1, 1, 1], [1, 0, 1], [1, 1, 0], [1, 0, 1], [1, 1, 1], [0, 1, 1], [1, 0, 1], [1, 1, 0], [1, 0, 0], [1, 1, 0], [1, 0, 1], [1, 1, 1], [1, 0, 1], [0, 1, 0], [0, 0, 1], [1, 1, 1], [1, 0, 1], [1, 0, 1], [1, 1, 1], [1, 1, 0], [0, 0, 1], [1, 1, 1], [1, 0, 1], [1, 1, 1], [1, 0, 1], [0, 0, 0], [1, 1, 1], [1, 1, 1], [1, 0, 0], [1, 1, 1], [0, 0, 1], [1, 1, 1], [1, 0, 1], [1, 1, 0], [1, 0, 0], [1, 0, 1], [1, 1, 1], [1, 1, 1], [1, 0, 1], [0, 1, 1], [0, 0, 0], [1, 1, 1], [1, 0, 1], [0, 1, 1], [0, 0, 1], [1, 0, 1], [1, 1, 1], [1, 0, 1], [1, 1, 0], [1, 0, 1], [0, 1, 0], [1, 0, 1], [1, 1, 1], [1, 0, 1], [0, 1, 0], [1, 1, 1], [1, 0, 0], [1, 0, 0], [1, 1, 1], [1, 1, 1], [1, 0, 1], [0, 0, 1], [0, 1, 1], [1, 1, 1], [1, 1, 1], [1, 0, 1], [1, 0, 1], [1, 1, 0], [1, 0, 1], [1, 0, 1], [1, 1, 0], [1, 1, 1], [1, 0, 1], [1, 0, 1], [0, 1, 1], [0, 0, 0], [1, 1, 1], [1, 0, 0], [1, 1, 1], [1, 0, 0], [1, 1, 1], [0, 1, 1], [1, 0, 1], [1, 1, 1], [1, 0, 1], [1, 1, 1], [1, 0, 0], [1, 1, 0], [1, 0, 1], [1, 1, 1], [1, 0, 1], [1, 0, 0], [1, 1, 1], [1, 1, 1], [1, 0, 1], [0, 0, 1], [1, 1, 1], [0, 0, 0], [0, 0, 0], [0, 1, 1], [1, 1, 1], [0, 0, 1], [1, 1, 1], [1, 0, 1], [1, 0, 1], [0, 1, 0], [1, 0, 1], [0, 1, 0], [1, 0, 1], [1, 1, 0], [1, 0, 1], [1, 1, 1], [1, 0, 1], [1, 1, 1], [1, 1, 1], [1, 1, 0], [1, 0, 0], [1, 1, 1], [1, 0, 1], [0, 0, 1], [1, 1, 1], [1, 1, 1], [1, 0, 1], [0, 0, 0], [1, 1, 1], [1, 0, 1], [1, 1, 1], [1, 0, 1], [1, 1, 0], [1, 0, 1], [0, 1, 0], [1, 1, 1], [0, 0, 1], [0, 1, 0], [1, 0, 1], [0, 0, 0], [1, 1, 1], [1, 1, 1], [1, 0, 1], [0, 1, 1], [0, 0, 1], [0, 0, 1], [0, 1, 0], [1, 0, 1], [1, 1, 1], [0, 0, 1], [0, 1, 1], [0, 0, 0], [1, 1, 0], [1, 0, 1], [0, 1, 1], [1, 0, 1], [0, 0, 0], [1, 1, 1], [0, 1, 1], [1, 0, 0], [1, 1, 1], [0, 0, 1], [1, 1, 1], [0, 1, 1], [1, 0, 1], [1, 1, 1], [1, 0, 0], [1, 1, 1], [0, 0, 0], [1, 1, 0], [1, 0, 1], [1, 1, 0], [0, 0, 1], [0, 1, 0], [0, 1, 1], [0, 0, 1], [0, 0, 1], [0, 1, 1], [0, 0, 1], [1, 0, 1], [1, 1, 1], [1, 0, 1], [1, 1, 1], [1, 1, 0], [0, 0, 1], [1, 0, 1], [1, 1, 1], [0, 0, 0], [0, 1, 1], [1, 1, 1], [1, 0, 1], [1, 1, 1], [1, 0, 1], [1, 0, 0], [1, 1, 1], [1, 0, 0], [1, 1, 0], [1, 0, 1], [1, 1, 1], [0, 1, 1], [0, 1, 1], [1, 0, 0], [1, 0, 1], [1, 1, 1], [0, 0, 0], [1, 0, 1], [1, 1, 1], [0, 1, 0], [1, 0, 1], [1, 1, 1], [1, 0, 1], [1, 1, 1], [1, 0, 1], [1, 0, 1], [0, 1, 1], [1, 0, 0], [1, 1, 1], [0, 1, 0], [1, 0, 1], [1, 0, 1], [1, 1, 0], [1, 1, 1], [0, 0, 0], [1, 1, 1], [1, 0, 1], [1, 1, 1], [1, 0, 1], [1, 1, 0], [1, 0, 1], [1, 1, 0], [1, 0, 1], [1, 1, 1], [1, 0, 1], [1, 1, 1], [0, 0, 0], [1, 1, 1], [1, 0, 1], [0, 0, 1], [1, 1, 1], [1, 0, 1], [0, 1, 1], [1, 0, 0], [1, 1, 1], [1, 1, 0], [1, 0, 1], [1, 0, 0], [1, 1, 1], [1, 0, 0], [1, 1, 1], [1, 0, 1], [1, 1, 0], [1, 0, 1], [1, 1, 1], [1, 0, 1], [0, 1, 1], [1, 0, 1], [0, 0, 0], [1, 1, 1], [1, 0, 1], [1, 1, 0], [1, 0, 1], [1, 1, 1], [1, 1, 1], [1, 0, 1], [1, 1, 1], [1, 0, 1], [1, 1, 1], [1, 0, 1], [0, 1, 0], [0, 0, 0], [1, 0, 1], [1, 1, 1], [1, 1, 0], [1, 0, 1], [0, 1, 1], [0, 1, 1], [0, 0, 0], [0, 0, 1], [0, 1, 1], [0, 0, 1], [0, 1, 0], [1, 0, 1], [0, 1, 1], [1, 1, 1], [0, 0, 1], [0, 1, 0], [0, 0, 1], [0, 1, 1], [0, 0, 0]]\n",
        "etikettlista = [1, 0, 0, 0, 0, 0, 0, 1, 0, 1, 1, 0, 0, 0, 0, 1, 1, 0, 1, 0, 1, 0, 1, 1, 0, 0, 0, 1, 0, 1, 1, 1, 1, 0, 0, 1, 0, 1, 0, 1, 0, 1, 0, 0, 1, 0, 0, 0, 1, 0, 0, 1, 0, 0, 1, 1, 0, 1, 0, 0, 1, 1, 1, 0, 0, 1, 1, 1, 0, 1, 0, 1, 0, 0, 1, 0, 1, 0, 0, 0, 1, 1, 0, 0, 0, 1, 1, 0, 1, 1, 0, 1, 1, 0, 1, 0, 0, 0, 1, 0, 1, 0, 1, 0, 0, 1, 1, 1, 1, 0, 1, 0, 0, 1, 1, 1, 0, 1, 1, 1, 1, 0, 0, 1, 1, 1, 1, 1, 0, 0, 1, 0, 1, 0, 1, 0, 1, 1, 1, 0, 1, 1, 1, 1, 1, 0, 0, 0, 0, 1, 0, 1, 1, 1, 1, 1, 0, 0, 1, 1, 0, 1, 1, 1, 1, 0, 1, 1, 0, 1, 1, 1, 1, 1, 1, 1, 1, 0, 1, 1, 1, 1, 1, 0, 0, 1, 1, 1, 1, 0, 1, 1, 1, 1, 1, 1, 1, 1, 1, 0, 1, 0, 1, 1, 1, 1, 1, 1, 1, 1, 1, 1, 0, 0, 1, 0, 1, 1, 1, 0, 1, 0, 1, 1, 1, 1, 0, 0, 1, 0, 1, 1, 1, 1, 0, 1, 1, 1, 0, 1, 1, 0, 1, 0, 1, 1, 1, 0, 0, 0, 1, 0, 1, 1, 1, 1, 1, 1, 1, 1, 1, 0, 0, 0, 0, 0, 1, 1, 0, 1, 0, 0, 0, 0, 1, 1, 1, 1, 0, 1, 1, 1, 0, 1, 0, 1, 1, 1, 1, 1, 0, 0, 1, 1, 1, 0, 1, 1, 1, 0, 1, 1, 1, 0, 1, 1, 0, 1, 0, 1, 1, 1, 0, 1, 1, 1, 1, 0, 0, 1, 0, 0, 1, 0, 0, 1, 1, 0, 0, 1, 1, 1, 1, 0, 1, 1, 0, 1, 1, 1, 1, 1, 1, 1, 1, 1, 1, 1, 0, 1, 0, 1, 1, 1, 1, 1, 0, 0, 1, 0, 0, 1, 1, 1, 1, 0, 1, 0, 1, 0, 1, 0, 1, 1, 1, 1, 0, 1, 1, 1, 1, 1, 1, 1, 1, 0, 1, 0, 1, 1, 0, 1, 0, 0, 0, 0, 0, 0, 1, 0, 0, 1, 1, 1, 0, 0, 1, 1, 1, 0, 1, 1, 1, 1, 1, 0, 0, 0, 0, 1, 1, 1, 0, 1, 1, 1, 0, 0, 1, 0, 1, 1, 1, 0, 0, 0, 0, 1, 1, 0, 0, 0, 0, 1, 0, 1, 0, 0, 1, 1, 0, 0, 1, 0, 0, 1, 1, 1, 1, 0, 1, 1, 1, 1, 0, 0, 0, 0, 0, 0, 0, 1, 1, 1, 1, 0, 1, 0, 1, 0, 0, 1, 0, 1, 1, 0, 1, 1, 0, 1, 1, 0, 1, 1, 1, 1, 0, 0, 1, 0, 1, 1, 1, 0, 0, 1, 1, 1, 0, 1, 0, 1, 1, 1, 1, 1, 0, 1, 1, 0, 1, 1, 1, 0, 1, 0, 1, 1, 0, 1, 0, 1, 1, 1, 1, 1, 0, 1, 1, 1, 0, 1, 1, 1, 0, 1, 0, 1, 1, 1, 0, 0, 1, 1, 0, 1, 1, 0, 1, 0, 1, 1, 1, 1, 0, 1, 1, 0, 0, 1, 0, 0, 1, 0, 0, 1, 0, 0, 1, 0, 0, 0, 1, 0]\n",
        "\n",
        "#utvärderingsdata\n",
        "perceptronlista2 = [[0, 0, 0], [1, 1, 1], [0, 0, 1], [0, 1, 1], [0, 1, 1], [1, 0, 0], [0, 0, 1], [1, 1, 1], [1, 1, 1], [0, 0, 0], [1, 0, 1], [0, 1, 0], [0, 1, 1], [0, 0, 1], [1, 0, 1], [1, 1, 1], [1, 1, 1], [1, 0, 1], [1, 0, 1], [0, 1, 0], [1, 0, 1], [0, 1, 0], [0, 0, 1], [0, 0, 0], [0, 1, 1], [0, 1, 1], [1, 0, 1], [1, 1, 1], [1, 0, 1], [1, 1, 0], [0, 0, 0], [1, 0, 1], [0, 1, 1], [1, 1, 0], [0, 0, 1], [1, 1, 1], [1, 0, 1], [1, 1, 0], [1, 0, 0], [1, 1, 1], [1, 0, 1], [1, 0, 1], [1, 1, 1], [1, 1, 1], [1, 0, 0], [1, 0, 1], [1, 1, 1], [1, 0, 0], [0, 1, 0], [1, 0, 1], [1, 1, 1], [1, 0, 1], [1, 0, 1], [1, 1, 1], [1, 1, 0], [1, 0, 1], [0, 0, 0], [1, 1, 1], [0, 0, 1], [1, 1, 1], [1, 0, 1], [1, 1, 1], [1, 1, 1], [0, 1, 1], [0, 0, 0], [0, 1, 1], [1, 0, 1], [1, 1, 0], [1, 0, 1], [0, 1, 0], [1, 0, 1], [0, 1, 1], [0, 0, 1], [0, 1, 0], [1, 0, 1], [1, 0, 0], [1, 1, 1], [1, 1, 1], [1, 0, 1], [1, 0, 1], [1, 1, 1], [0, 0, 1], [1, 1, 1], [1, 1, 1], [1, 0, 0], [1, 1, 1], [1, 0, 1], [1, 1, 1], [1, 0, 1], [1, 1, 1], [0, 0, 0], [0, 0, 0], [1, 1, 1], [0, 1, 0], [0, 1, 1], [1, 0, 1], [0, 0, 1], [1, 0, 1], [1, 1, 0], [1, 1, 1]]\n",
        "etikettlista2 = [0, 0, 0, 1, 0, 0, 1, 0, 0, 1, 0, 0, 1, 1, 1, 0, 0, 1, 0, 0, 1, 0, 0, 0, 0, 1, 1, 1, 0, 0, 0, 1, 1, 1, 1, 1, 1, 1, 1, 1, 1, 1, 1, 1, 0, 1, 1, 0, 1, 0, 1, 1, 1, 0, 1, 1, 0, 1, 1, 1, 1, 1, 1, 0, 1, 1, 1, 0, 1, 0, 0, 1, 1, 1, 1, 0, 1, 1, 0, 1, 1, 0, 1, 1, 0, 0, 1, 0, 0, 1, 0, 0, 1, 0, 0, 1, 1, 1, 1, 0]\n",
        "\n",
        "import matplotlib.pyplot as plt\n",
        "import numpy as np\n",
        "def sigma(x):\n",
        "    return 1 / (1 + np.exp(-x))\n",
        "\n",
        "X = np.array(perceptronlista)\n",
        "Y = np.array(etikettlista)\n",
        "Xn = np.array(perceptronlista2)\n",
        "Yn = np.array(etikettlista2)\n",
        "\n",
        "s = 0\n",
        "w_0 = 1\n",
        "w_1 = 1\n",
        "w_2 = 1\n",
        "b = 0\n",
        "alpha = 0.1\n",
        "epochs = 1000\n",
        "e = 0\n",
        "genfel = []\n",
        "genfelu = []\n",
        "\n",
        "while e < epochs:\n",
        "    dw_0 = 0\n",
        "    dw_1 = 0\n",
        "    dw_2 = 0\n",
        "    db = 0\n",
        "    n = 0\n",
        "    while n < len(perceptronlista):\n",
        "        x = X[n]\n",
        "        x_0 = x[0]\n",
        "        x_1 = x[1]\n",
        "        x_2 = x[2]\n",
        "        y = Y[n]\n",
        "        y_hat = sigma(w_2 * x_2 + w_0 * x_0 + w_1 * x_1 + b)\n",
        "        dw_0 += 2 * (y_hat - y) * y_hat * (1 - y_hat) * x_0 / len(perceptronlista)\n",
        "        dw_1 += 2 * (y_hat - y) * y_hat * (1 - y_hat) * x_1 / len(perceptronlista)\n",
        "        dw_2 += 2 * (y_hat - y) * y_hat * (1 - y_hat) * x_2 / len(perceptronlista)\n",
        "        db += 2 * (y_hat - y) * y_hat * (1 - y_hat) / len(perceptronlista)\n",
        "        n += 1\n",
        "    w_0 -= alpha * dw_0\n",
        "    w_1 -= alpha * dw_1\n",
        "    w_2 -= alpha * dw_2\n",
        "    b -= alpha * db\n",
        "    n = 0\n",
        "    temp1 = 0\n",
        "        #UTVÄRDERINGSGREJ\n",
        "\n",
        "    nu = 0\n",
        "    temp1u = 0\n",
        "    y_hatn = 0\n",
        "    yn = 0\n",
        "\n",
        "\n",
        "    while nu < (len(perceptronlista2)):\n",
        "      \n",
        "      \n",
        "      \n",
        "      x = Xn[nu]\n",
        "      x_0 = x[0]\n",
        "      x_1 = x[1]\n",
        "      x_2 = x[2]\n",
        "      yn = Yn[nu]\n",
        "      y_hatn = sigma(w_2 * x_2 + w_1 * x_1 + w_0 * x_0 + b)\n",
        "      temp1u += (y_hatn - yn) ** 2\n",
        "      #print(y_hatn, yn)\n",
        "      nu += 1\n",
        "\n",
        "\n",
        "\n",
        "\n",
        "    genfelu.append(temp1u/len(perceptronlista2))\n",
        "\n",
        "    #print(genfelu)\n",
        "\n",
        "\n",
        "    #UTVÄRDERINGSGREJ SLUT\n",
        "    while n < len(perceptronlista):\n",
        "      x = X[n]\n",
        "      x_0 = x[0]\n",
        "      x_1 = x[1]\n",
        "      x_2 = x[2]\n",
        "      y = Y[n]\n",
        "      y_hat = sigma(w_2 * x_2 + w_0 * x_0 + w_1 * x_1 + b)\n",
        "      #print(x, y, y_hat, sep=\"\\t\")\n",
        "      temp1 += (y_hat - y) ** 2\n",
        "      n += 1\n",
        "    #print(temp1/len(perceptronlista)) #genomsnittliga kvadrerade felet\n",
        "    genfel.append(temp1/len(perceptronlista))\n",
        "    e += 1\n",
        "print(temp1/len(perceptronlista))\n",
        "\n",
        "temp1 = 0\n",
        "nu2 = 0\n",
        "vinst = 0\n",
        "förlust = 0\n",
        "g = 0\n",
        "p = 0 \n",
        "while nu2 < (len(perceptronlista2)):\n",
        "      \n",
        "      \n",
        "      \n",
        "  x = Xn[nu2]\n",
        "  x_0 = x[0]\n",
        "  x_1 = x[1]\n",
        "  x_2 = x[2]\n",
        "  yn = Yn[nu2]\n",
        "  y_hatn = sigma(w_2 * x_2 + w_1 * x_1 + w_0 * x_0 + b)\n",
        "  nu2 += 1\n",
        "  if np.round(y_hatn) == yn:\n",
        "    p += 1\n",
        "\n",
        "\n",
        "  if yn == 1:\n",
        "    vinst+=1\n",
        "  if np.round(y_hatn) == yn and yn == 1:\n",
        "    s +=1\n",
        "  if yn == 0:\n",
        "    förlust+=1\n",
        "  if np.round(y_hatn) == yn and yn == 0:\n",
        "    g +=1\n",
        "\n",
        "print()\n",
        "print(\"w_0 =\", w_0)\n",
        "print(\"w_1 =\", w_1)\n",
        "print(\"w_2 =\", w_2)\n",
        "print(\"b =\", b)\n",
        "#print(genfel)\n",
        "\n",
        "plt.plot(genfel)\n",
        "plt.plot(genfelu)\n",
        "plt.ylabel(\"Genomsnittligt kvadrerat fel\")\n",
        "plt.xlabel(\"Epoker\")\n",
        "plt.show()\n",
        "\n",
        "print(\"antal vinster \",vinst)\n",
        "print(\"antal procent rätta gissningar på vinster \", s/vinst)\n",
        "print(\"antal förluster \", förlust)\n",
        "print(\"antal procent rätta gissningar på förlust/lika\",g/förlust)\n",
        "print(\"hur många procent av våra prediktioner som är rätt \",p/len(perceptronlista2))\n",
        "\n",
        "\n",
        "print(genfel[-1])\n",
        "print(genfelu[-1])\n"
      ],
      "metadata": {
        "id": "cIt8N4ICogLp",
        "colab": {
          "base_uri": "https://localhost:8080/",
          "height": 505
        },
        "outputId": "bdd28a5c-30a2-4bf2-ee5d-9915edccba39"
      },
      "execution_count": null,
      "outputs": [
        {
          "output_type": "stream",
          "name": "stdout",
          "text": [
            "0.22309853500494964\n",
            "\n",
            "w_0 = 0.4391389554308696\n",
            "w_1 = 0.8193577743057447\n",
            "w_2 = 0.6188418784730918\n",
            "b = -0.7356766594128425\n"
          ]
        },
        {
          "output_type": "display_data",
          "data": {
            "text/plain": [
              "<Figure size 432x288 with 1 Axes>"
            ],
            "image/png": "[encoded data removed]"
          },
          "metadata": {
            "needs_background": "light"
          }
        },
        {
          "output_type": "stream",
          "name": "stdout",
          "text": [
            "antal vinster  59\n",
            "antal procent rätta gissningar på vinster  0.847457627118644\n",
            "antal förluster  41\n",
            "antal procent rätta gissningar på förlust/lika 0.34146341463414637\n",
            "hur många procent av våra prediktioner som är rätt  0.64\n",
            "0.22309853500494964\n",
            "0.2284143531925501\n"
          ]
        }
      ]
    }
  ]
}